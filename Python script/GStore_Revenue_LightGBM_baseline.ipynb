{
 "cells": [
  {
   "cell_type": "code",
   "execution_count": 485,
   "metadata": {},
   "outputs": [],
   "source": [
    "import pandas as pd, numpy as np\n",
    "import xgboost as xgb\n",
    "import matplotlib.pyplot as plt\n",
    "import lightgbm as lgb\n",
    "from sklearn.metrics import mean_squared_error"
   ]
  },
  {
   "cell_type": "code",
   "execution_count": 486,
   "metadata": {},
   "outputs": [],
   "source": [
    "#traindf = pd.read_csv(\"D:/Group 1/Data/gtrain_df.csv\", dtype={\"fullVisitorId\":\"str\"})\n",
    "#testdf = pd.read_csv(\"D:/Group 1/Data/gtest_df.csv\",dtype={\"fullVisitorId\":\"str\"})"
   ]
  },
  {
   "cell_type": "code",
   "execution_count": 487,
   "metadata": {},
   "outputs": [],
   "source": [
    "train_df = traindf\n",
    "test_df = testdf"
   ]
  },
  {
   "cell_type": "code",
   "execution_count": 488,
   "metadata": {},
   "outputs": [],
   "source": [
    "#from sklearn.preprocessing import LabelEncoder\n",
    "\n",
    "cat_cols = [\"channelGrouping\",\n",
    "            \"browser\", \n",
    "           # \"deviceCategory\",\n",
    "            \"operatingSystem\", \n",
    "            \"city\", \n",
    "           # \"continent\", \n",
    "           # \"country\",\n",
    "            \"metro\",\n",
    "            \"networkDomain\",\n",
    "            \"region\", \n",
    "           # \"subContinent\", \n",
    "           # \"adContent\", \n",
    "           # \"adwordsClickInfo.adNetworkType\", \n",
    "            \"adwordsClickInfo.gclId\", \n",
    "           # \"adwordsClickInfo.page\", \n",
    "           # \"adwordsClickInfo.slot\",\n",
    "           # \"campaign\",\n",
    "           # \"keyword\", \n",
    "            \"medium\", \n",
    "            \"referralPath\", \n",
    "            \"source\",\n",
    "           # \"adwordsClickInfo.isVideoAd\",\n",
    "            \"isTrueDirect\"]\n",
    "\n",
    "\n",
    "for col in cat_cols:\n",
    "#    print(col)\n",
    "    lbl = LabelEncoder()\n",
    "    lbl.fit(list(train_df[col].values.astype('str'))) \n",
    "    train_df[col] = lbl.transform(list(train_df[col].values.astype('str')))\n",
    "    test_df[col] = lbl.transform(list(test_df[col].values.astype('str')))\n",
    "    "
   ]
  },
  {
   "cell_type": "code",
   "execution_count": 489,
   "metadata": {},
   "outputs": [],
   "source": [
    "num_cols = [\"hits\",\n",
    "            \"pageviews\",\n",
    "            \"visitNumber\",\n",
    "            \"visitStartTime\",\n",
    "           # \"bounces\",\n",
    "            \"newVisits\"]    \n",
    "for col in num_cols:\n",
    "    train_df[col] = train_df[col].astype(float)\n",
    "    test_df[col] = test_df[col].astype(float)\n"
   ]
  },
  {
   "cell_type": "code",
   "execution_count": 490,
   "metadata": {},
   "outputs": [
    {
     "name": "stderr",
     "output_type": "stream",
     "text": [
      "C:\\Python\\lib\\site-packages\\ipykernel_launcher.py:3: RuntimeWarning: invalid value encountered in log1p\n",
      "  This is separate from the ipykernel package so we can avoid doing imports until\n"
     ]
    }
   ],
   "source": [
    "#from sklearn.model_selection import train_test_split\n",
    "\n",
    "y = np.log1p(train_df[\"transactionRevenue\"].values)\n",
    "X = train_df[cat_cols + num_cols + ['fullVisitorId']]\n",
    "\n",
    "X_train_full, X_test_full, y_train, y_test = train_test_split(X, y, test_size=0.25, random_state=42)\n",
    "\n",
    "X_train = X_train_full[cat_cols + num_cols]"
   ]
  },
  {
   "cell_type": "code",
   "execution_count": 491,
   "metadata": {},
   "outputs": [],
   "source": [
    "params = {\n",
    "        \"objective\" : \"regression\",\n",
    "        \"metric\" : \"rmse\", \n",
    "        \"num_leaves\" : 30,\n",
    "        \"maxdepth\" : 8,\n",
    "        \"min_child_samples\" : 50,\n",
    "        \"learning_rate\" : 0.03,\n",
    "        \"bagging_fraction\" : 0.75,\n",
    "        \"feature_fraction\" : 0.45,\n",
    "        \"bagging_frequency\" : 5,\n",
    "        \"bagging_seed\" : 2018,\n",
    "        \"verbosity\" : -1,\n",
    "    }"
   ]
  },
  {
   "cell_type": "code",
   "execution_count": 492,
   "metadata": {
    "scrolled": true
   },
   "outputs": [
    {
     "name": "stdout",
     "output_type": "stream",
     "text": [
      "Training until validation scores don't improve for 100 rounds\n",
      "[100]\tvalid_0's rmse: 1.58616\n",
      "[200]\tvalid_0's rmse: 1.55795\n",
      "[300]\tvalid_0's rmse: 1.54942\n",
      "[400]\tvalid_0's rmse: 1.54446\n",
      "[500]\tvalid_0's rmse: 1.54041\n",
      "[600]\tvalid_0's rmse: 1.5375\n",
      "[700]\tvalid_0's rmse: 1.5355\n",
      "[800]\tvalid_0's rmse: 1.53446\n",
      "[900]\tvalid_0's rmse: 1.53351\n",
      "[1000]\tvalid_0's rmse: 1.5329\n",
      "Did not meet early stopping. Best iteration is:\n",
      "[998]\tvalid_0's rmse: 1.53289\n"
     ]
    }
   ],
   "source": [
    "lgtrain = lgb.Dataset(X_train, label=y_train)\n",
    "lgval = lgb.Dataset(X_test_full[cat_cols + num_cols], label=y_test)\n",
    "model = lgb.train(params, lgtrain, 1000, valid_sets=[lgval], early_stopping_rounds=100, verbose_eval=100)\n"
   ]
  },
  {
   "cell_type": "code",
   "execution_count": 493,
   "metadata": {},
   "outputs": [],
   "source": [
    "#from sklearn import metrics"
   ]
  },
  {
   "cell_type": "code",
   "execution_count": 494,
   "metadata": {},
   "outputs": [],
   "source": [
    "lgpred = model.predict(X_test_full[cat_cols + num_cols], num_iteration=model.best_iteration)"
   ]
  },
  {
   "cell_type": "code",
   "execution_count": 495,
   "metadata": {},
   "outputs": [],
   "source": [
    "lgpred[lgpred < 0]=0"
   ]
  },
  {
   "cell_type": "code",
   "execution_count": 496,
   "metadata": {},
   "outputs": [],
   "source": [
    "test_pred = pd.DataFrame({\"fullVisitorId\" : X_test_full[\"fullVisitorId\"].values,\n",
    "                          \"transactionRevenue\": np.expm1(lgpred), \"y\" : y_test})"
   ]
  },
  {
   "cell_type": "code",
   "execution_count": 497,
   "metadata": {},
   "outputs": [],
   "source": [
    "test_pred_visitor = test_pred.groupby(\"fullVisitorId\").agg({\"transactionRevenue\":\"sum\", \"y\":\"sum\"}).reset_index()"
   ]
  },
  {
   "cell_type": "code",
   "execution_count": 498,
   "metadata": {},
   "outputs": [
    {
     "data": {
      "text/plain": [
       "0.8893265892293785"
      ]
     },
     "execution_count": 498,
     "metadata": {},
     "output_type": "execute_result"
    }
   ],
   "source": [
    "np.sqrt(metrics.mean_squared_error(np.log1p(test_pred_visitor[\"y\"].values), \n",
    "                                         np.log1p(test_pred_visitor[\"transactionRevenue\"].values)))"
   ]
  },
  {
   "cell_type": "code",
   "execution_count": 499,
   "metadata": {},
   "outputs": [
    {
     "data": {
      "image/png": "[encoded data removed]",
      "text/plain": [
       "<Figure size 432x288 with 1 Axes>"
      ]
     },
     "metadata": {
      "needs_background": "light"
     },
     "output_type": "display_data"
    }
   ],
   "source": [
    "lgb.plot_importance(model)\n",
    "plt.show()"
   ]
  },
  {
   "cell_type": "code",
   "execution_count": 500,
   "metadata": {},
   "outputs": [],
   "source": [
    "pred = model.predict(test_df[cat_cols + num_cols], num_iteration=model.best_iteration)"
   ]
  },
  {
   "cell_type": "code",
   "execution_count": 501,
   "metadata": {},
   "outputs": [],
   "source": [
    "pred[pred<0] = 0"
   ]
  },
  {
   "cell_type": "code",
   "execution_count": 502,
   "metadata": {},
   "outputs": [],
   "source": [
    "pred_df_visit = pd.DataFrame({\"fullVisitorId\" : test_df[\"fullVisitorId\"].values, \"transactionRevenue\": np.expm1(pred)})"
   ]
  },
  {
   "cell_type": "code",
   "execution_count": 503,
   "metadata": {},
   "outputs": [],
   "source": [
    "pred_df_visitor = pred_df_visit.groupby('fullVisitorId').sum()['transactionRevenue'].reset_index()"
   ]
  },
  {
   "cell_type": "code",
   "execution_count": 504,
   "metadata": {},
   "outputs": [],
   "source": [
    "pred_df_visitor['transactionRevenue'] = np.log1p(pred_df_visitor['transactionRevenue'])"
   ]
  },
  {
   "cell_type": "code",
   "execution_count": 505,
   "metadata": {},
   "outputs": [],
   "source": [
    "test_df1 = test_df\n",
    "test_df1.transactionRevenue = test_df1.transactionRevenue.fillna(0)\n",
    "\n",
    "test1_grp = (test_df1.groupby('fullVisitorId').sum()['transactionRevenue'].reset_index())"
   ]
  },
  {
   "cell_type": "code",
   "execution_count": 506,
   "metadata": {},
   "outputs": [],
   "source": [
    "df = pd.DataFrame({\"pred\":np.log1p(test1_grp.transactionRevenue.values),\n",
    "                   \"test\":np.log1p(pred_df_visitor.transactionRevenue.fillna(0).values)})"
   ]
  },
  {
   "cell_type": "code",
   "execution_count": 507,
   "metadata": {},
   "outputs": [],
   "source": [
    "df = df.fillna(0)"
   ]
  },
  {
   "cell_type": "code",
   "execution_count": 508,
   "metadata": {},
   "outputs": [
    {
     "data": {
      "text/plain": [
       "1.948455712431258"
      ]
     },
     "execution_count": 508,
     "metadata": {},
     "output_type": "execute_result"
    }
   ],
   "source": [
    "np.sqrt(mean_squared_error(df.pred, df.test))"
   ]
  },
  {
   "cell_type": "code",
   "execution_count": 509,
   "metadata": {},
   "outputs": [],
   "source": [
    "#ss = pd.read_csv(\"D:/Group 1/Data/sample_submission_v2.csv\")"
   ]
  },
  {
   "cell_type": "code",
   "execution_count": 510,
   "metadata": {},
   "outputs": [],
   "source": [
    "final_sub = pd.merge(ss,pred_df_visitor , \"left\", on = 'fullVisitorId')"
   ]
  },
  {
   "cell_type": "code",
   "execution_count": 511,
   "metadata": {},
   "outputs": [],
   "source": [
    "final_sub.transactionRevenue = final_sub.transactionRevenue.fillna(0)"
   ]
  },
  {
   "cell_type": "code",
   "execution_count": 512,
   "metadata": {
    "scrolled": true
   },
   "outputs": [],
   "source": [
    "final_subm = pd.DataFrame({\"fullVisitorId\": final_sub['fullVisitorId'],\n",
    "                           \"PredictedLogRevenue\" : final_sub['transactionRevenue']})"
   ]
  },
  {
   "cell_type": "code",
   "execution_count": 513,
   "metadata": {},
   "outputs": [],
   "source": [
    "#final_subm.to_csv('D:/Group 1/Data/final_subm1.csv', index = False)"
   ]
  },
  {
   "cell_type": "code",
   "execution_count": null,
   "metadata": {},
   "outputs": [],
   "source": []
  },
  {
   "cell_type": "code",
   "execution_count": null,
   "metadata": {},
   "outputs": [],
   "source": []
  }
 ],
 "metadata": {
  "kernelspec": {
   "display_name": "Python 3",
   "language": "python",
   "name": "python3"
  },
  "language_info": {
   "codemirror_mode": {
    "name": "ipython",
    "version": 3
   },
   "file_extension": ".py",
   "mimetype": "text/x-python",
   "name": "python",
   "nbconvert_exporter": "python",
   "pygments_lexer": "ipython3",
   "version": "3.7.3"
  }
 },
 "nbformat": 4,
 "nbformat_minor": 2
}
