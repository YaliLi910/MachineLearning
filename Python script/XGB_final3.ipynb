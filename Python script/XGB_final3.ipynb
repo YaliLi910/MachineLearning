{
  "nbformat": 4,
  "nbformat_minor": 0,
  "metadata": {
    "colab": {
      "name": "Untitled0.ipynb",
      "provenance": [],
      "collapsed_sections": []
    },
    "kernelspec": {
      "name": "python3",
      "display_name": "Python 3"
    },
    "accelerator": "GPU"
  },
  "cells": [
    {
      "cell_type": "code",
      "metadata": {
        "id": "SM_VmwYh3C_v",
        "colab_type": "code",
        "outputId": "761efc66-23ba-47b2-878b-75ed70f57c3d",
        "colab": {
          "base_uri": "https://localhost:8080/",
          "height": 122
        }
      },
      "source": [
        "from google.colab import drive\n",
        "drive.mount('/content/gdrive')"
      ],
      "execution_count": 1,
      "outputs": [
        {
          "output_type": "stream",
          "text": [
            "Go to this URL in a browser: https://accounts.google.com/o/oauth2/auth?client_id=947318989803-6bn6qk8qdgf4n4g3pfee6491hc0brc4i.apps.googleusercontent.com&redirect_uri=urn%3aietf%3awg%3aoauth%3a2.0%3aoob&response_type=code&scope=email%20https%3a%2f%2fwww.googleapis.com%2fauth%2fdocs.test%20https%3a%2f%2fwww.googleapis.com%2fauth%2fdrive%20https%3a%2f%2fwww.googleapis.com%2fauth%2fdrive.photos.readonly%20https%3a%2f%2fwww.googleapis.com%2fauth%2fpeopleapi.readonly\n",
            "\n",
            "Enter your authorization code:\n",
            "··········\n",
            "Mounted at /content/gdrive\n"
          ],
          "name": "stdout"
        }
      ]
    },
    {
      "cell_type": "code",
      "metadata": {
        "id": "Nq8V3pae3lZt",
        "colab_type": "code",
        "colab": {}
      },
      "source": [
        "import pandas as pd\n",
        "import numpy as np"
      ],
      "execution_count": 0,
      "outputs": []
    },
    {
      "cell_type": "code",
      "metadata": {
        "id": "ZmIc6HhF3rXw",
        "colab_type": "code",
        "colab": {}
      },
      "source": [
        "path =  'gdrive/Shared drives/Predictive Fall 2019/GRevenue data/'\t"
      ],
      "execution_count": 0,
      "outputs": []
    },
    {
      "cell_type": "code",
      "metadata": {
        "id": "v1o7fvK83s0q",
        "colab_type": "code",
        "colab": {}
      },
      "source": [
        "train = pd.read_csv(path+ 'visitor_agg.csv',dtype={'fullVisitorId': 'str'})"
      ],
      "execution_count": 0,
      "outputs": []
    },
    {
      "cell_type": "code",
      "metadata": {
        "id": "K_ju2KHztvzb",
        "colab_type": "code",
        "colab": {}
      },
      "source": [
        "test = pd.read_csv(path+ 'visitor_agg_test.csv',dtype={'fullVisitorId': 'str'})"
      ],
      "execution_count": 0,
      "outputs": []
    },
    {
      "cell_type": "code",
      "metadata": {
        "id": "3gD9G0KWjIQF",
        "colab_type": "code",
        "colab": {
          "base_uri": "https://localhost:8080/",
          "height": 34
        },
        "outputId": "d1836e3e-7b21-4ca7-8801-e3629c2ea398"
      },
      "source": [
        "max(train['transactionRevenue'])"
      ],
      "execution_count": 132,
      "outputs": [
        {
          "output_type": "execute_result",
          "data": {
            "text/plain": [
              "69207310000.0"
            ]
          },
          "metadata": {
            "tags": []
          },
          "execution_count": 132
        }
      ]
    },
    {
      "cell_type": "code",
      "metadata": {
        "id": "RBABcF7HjYJO",
        "colab_type": "code",
        "colab": {
          "base_uri": "https://localhost:8080/",
          "height": 34
        },
        "outputId": "38c427b4-1244-4aab-9ef1-e8c267b451a1"
      },
      "source": [
        "max(test['transactionRevenue'])"
      ],
      "execution_count": 133,
      "outputs": [
        {
          "output_type": "execute_result",
          "data": {
            "text/plain": [
              "31035830000.0"
            ]
          },
          "metadata": {
            "tags": []
          },
          "execution_count": 133
        }
      ]
    },
    {
      "cell_type": "code",
      "metadata": {
        "id": "2GA5NPS74AQB",
        "colab_type": "code",
        "outputId": "45ea00be-186e-4a78-f8c9-abac40425871",
        "colab": {
          "base_uri": "https://localhost:8080/",
          "height": 34
        }
      },
      "source": [
        "train.shape"
      ],
      "execution_count": 122,
      "outputs": [
        {
          "output_type": "execute_result",
          "data": {
            "text/plain": [
              "(1345163, 34)"
            ]
          },
          "metadata": {
            "tags": []
          },
          "execution_count": 122
        }
      ]
    },
    {
      "cell_type": "code",
      "metadata": {
        "id": "k2V4Lek94t4E",
        "colab_type": "code",
        "outputId": "cb6c4a78-3ffc-4139-f7ad-c2fb51f3aa1b",
        "colab": {
          "base_uri": "https://localhost:8080/",
          "height": 34
        }
      },
      "source": [
        "train['fullVisitorId'].drop_duplicates().shape"
      ],
      "execution_count": 123,
      "outputs": [
        {
          "output_type": "execute_result",
          "data": {
            "text/plain": [
              "(1323730,)"
            ]
          },
          "metadata": {
            "tags": []
          },
          "execution_count": 123
        }
      ]
    },
    {
      "cell_type": "code",
      "metadata": {
        "id": "pp2agvlh46kh",
        "colab_type": "code",
        "outputId": "e302cd06-5bca-49ca-fa23-fab9b7ff737c",
        "colab": {
          "base_uri": "https://localhost:8080/",
          "height": 612
        }
      },
      "source": [
        "train.dtypes"
      ],
      "execution_count": 124,
      "outputs": [
        {
          "output_type": "execute_result",
          "data": {
            "text/plain": [
              "Unnamed: 0                          int64\n",
              "fullVisitorId                      object\n",
              "timeperiod                          int64\n",
              "hits_x                            float64\n",
              "pageviews_x                       float64\n",
              "timeOnSite_x                      float64\n",
              "transactionRevenue                float64\n",
              "sessionQualityDim                 float64\n",
              "hits_y                            float64\n",
              "pageviews_y                       float64\n",
              "timeOnSite_y                      float64\n",
              "channelGrouping                   float64\n",
              "browser                           float64\n",
              "deviceCategory                    float64\n",
              "operatingSystem                   float64\n",
              "city                              float64\n",
              "continent                         float64\n",
              "country                           float64\n",
              "metro                             float64\n",
              "networkDomain                     float64\n",
              "region                            float64\n",
              "subContinent                      float64\n",
              "adContent                         float64\n",
              "adwordsClickInfo.adNetworkType    float64\n",
              "adwordsClickInfo.gclId            float64\n",
              "adwordsClickInfo.page             float64\n",
              "campaign                          float64\n",
              "isTrueDirect                      float64\n",
              "keyword                           float64\n",
              "medium                            float64\n",
              "referralPath                      float64\n",
              "source                            float64\n",
              "start_days                        float64\n",
              "end_days                          float64\n",
              "dtype: object"
            ]
          },
          "metadata": {
            "tags": []
          },
          "execution_count": 124
        }
      ]
    },
    {
      "cell_type": "code",
      "metadata": {
        "id": "yMr0Syfk5fAc",
        "colab_type": "code",
        "outputId": "bf411978-f178-42bc-d4ed-94f531a8cd99",
        "colab": {
          "base_uri": "https://localhost:8080/",
          "height": 241
        }
      },
      "source": [
        "train.head()"
      ],
      "execution_count": 125,
      "outputs": [
        {
          "output_type": "execute_result",
          "data": {
            "text/html": [
              "<div>\n",
              "<style scoped>\n",
              "    .dataframe tbody tr th:only-of-type {\n",
              "        vertical-align: middle;\n",
              "    }\n",
              "\n",
              "    .dataframe tbody tr th {\n",
              "        vertical-align: top;\n",
              "    }\n",
              "\n",
              "    .dataframe thead th {\n",
              "        text-align: right;\n",
              "    }\n",
              "</style>\n",
              "<table border=\"1\" class=\"dataframe\">\n",
              "  <thead>\n",
              "    <tr style=\"text-align: right;\">\n",
              "      <th></th>\n",
              "      <th>Unnamed: 0</th>\n",
              "      <th>fullVisitorId</th>\n",
              "      <th>timeperiod</th>\n",
              "      <th>hits_x</th>\n",
              "      <th>pageviews_x</th>\n",
              "      <th>timeOnSite_x</th>\n",
              "      <th>transactionRevenue</th>\n",
              "      <th>sessionQualityDim</th>\n",
              "      <th>hits_y</th>\n",
              "      <th>pageviews_y</th>\n",
              "      <th>timeOnSite_y</th>\n",
              "      <th>channelGrouping</th>\n",
              "      <th>browser</th>\n",
              "      <th>deviceCategory</th>\n",
              "      <th>operatingSystem</th>\n",
              "      <th>city</th>\n",
              "      <th>continent</th>\n",
              "      <th>country</th>\n",
              "      <th>metro</th>\n",
              "      <th>networkDomain</th>\n",
              "      <th>region</th>\n",
              "      <th>subContinent</th>\n",
              "      <th>adContent</th>\n",
              "      <th>adwordsClickInfo.adNetworkType</th>\n",
              "      <th>adwordsClickInfo.gclId</th>\n",
              "      <th>adwordsClickInfo.page</th>\n",
              "      <th>campaign</th>\n",
              "      <th>isTrueDirect</th>\n",
              "      <th>keyword</th>\n",
              "      <th>medium</th>\n",
              "      <th>referralPath</th>\n",
              "      <th>source</th>\n",
              "      <th>start_days</th>\n",
              "      <th>end_days</th>\n",
              "    </tr>\n",
              "  </thead>\n",
              "  <tbody>\n",
              "    <tr>\n",
              "      <th>0</th>\n",
              "      <td>0</td>\n",
              "      <td>0000000259678714014</td>\n",
              "      <td>4</td>\n",
              "      <td>19.0</td>\n",
              "      <td>13.0</td>\n",
              "      <td>129.0</td>\n",
              "      <td>0.0</td>\n",
              "      <td>6.0</td>\n",
              "      <td>9.5</td>\n",
              "      <td>6.5</td>\n",
              "      <td>64.5</td>\n",
              "      <td>4.0</td>\n",
              "      <td>35.0</td>\n",
              "      <td>0.0</td>\n",
              "      <td>7.0</td>\n",
              "      <td>540.0</td>\n",
              "      <td>2.0</td>\n",
              "      <td>218.0</td>\n",
              "      <td>100.0</td>\n",
              "      <td>19362.5</td>\n",
              "      <td>73.0</td>\n",
              "      <td>12.0</td>\n",
              "      <td>62.0</td>\n",
              "      <td>3.0</td>\n",
              "      <td>59008.0</td>\n",
              "      <td>11.0</td>\n",
              "      <td>4.0</td>\n",
              "      <td>0.5</td>\n",
              "      <td>7.0</td>\n",
              "      <td>5.0</td>\n",
              "      <td>3196.0</td>\n",
              "      <td>99.0</td>\n",
              "      <td>14.0</td>\n",
              "      <td>153.0</td>\n",
              "    </tr>\n",
              "    <tr>\n",
              "      <th>1</th>\n",
              "      <td>1</td>\n",
              "      <td>0000010278554503158</td>\n",
              "      <td>1</td>\n",
              "      <td>11.0</td>\n",
              "      <td>8.0</td>\n",
              "      <td>194.0</td>\n",
              "      <td>0.0</td>\n",
              "      <td>NaN</td>\n",
              "      <td>11.0</td>\n",
              "      <td>8.0</td>\n",
              "      <td>194.0</td>\n",
              "      <td>4.0</td>\n",
              "      <td>35.0</td>\n",
              "      <td>0.0</td>\n",
              "      <td>7.0</td>\n",
              "      <td>955.0</td>\n",
              "      <td>5.0</td>\n",
              "      <td>146.0</td>\n",
              "      <td>122.0</td>\n",
              "      <td>41471.0</td>\n",
              "      <td>482.0</td>\n",
              "      <td>1.0</td>\n",
              "      <td>62.0</td>\n",
              "      <td>3.0</td>\n",
              "      <td>59008.0</td>\n",
              "      <td>11.0</td>\n",
              "      <td>4.0</td>\n",
              "      <td>1.0</td>\n",
              "      <td>7.0</td>\n",
              "      <td>5.0</td>\n",
              "      <td>3196.0</td>\n",
              "      <td>99.0</td>\n",
              "      <td>80.0</td>\n",
              "      <td>53.0</td>\n",
              "    </tr>\n",
              "    <tr>\n",
              "      <th>2</th>\n",
              "      <td>2</td>\n",
              "      <td>0000020424342248747</td>\n",
              "      <td>1</td>\n",
              "      <td>17.0</td>\n",
              "      <td>13.0</td>\n",
              "      <td>297.0</td>\n",
              "      <td>0.0</td>\n",
              "      <td>NaN</td>\n",
              "      <td>17.0</td>\n",
              "      <td>13.0</td>\n",
              "      <td>297.0</td>\n",
              "      <td>4.0</td>\n",
              "      <td>35.0</td>\n",
              "      <td>0.0</td>\n",
              "      <td>20.0</td>\n",
              "      <td>423.0</td>\n",
              "      <td>2.0</td>\n",
              "      <td>159.0</td>\n",
              "      <td>0.0</td>\n",
              "      <td>24501.0</td>\n",
              "      <td>224.0</td>\n",
              "      <td>15.0</td>\n",
              "      <td>62.0</td>\n",
              "      <td>3.0</td>\n",
              "      <td>59008.0</td>\n",
              "      <td>11.0</td>\n",
              "      <td>4.0</td>\n",
              "      <td>1.0</td>\n",
              "      <td>2746.0</td>\n",
              "      <td>0.0</td>\n",
              "      <td>3196.0</td>\n",
              "      <td>0.0</td>\n",
              "      <td>121.0</td>\n",
              "      <td>12.0</td>\n",
              "    </tr>\n",
              "    <tr>\n",
              "      <th>3</th>\n",
              "      <td>3</td>\n",
              "      <td>0000027376579751715</td>\n",
              "      <td>2</td>\n",
              "      <td>6.0</td>\n",
              "      <td>5.0</td>\n",
              "      <td>49.0</td>\n",
              "      <td>0.0</td>\n",
              "      <td>NaN</td>\n",
              "      <td>6.0</td>\n",
              "      <td>5.0</td>\n",
              "      <td>49.0</td>\n",
              "      <td>4.0</td>\n",
              "      <td>35.0</td>\n",
              "      <td>0.0</td>\n",
              "      <td>7.0</td>\n",
              "      <td>955.0</td>\n",
              "      <td>2.0</td>\n",
              "      <td>218.0</td>\n",
              "      <td>122.0</td>\n",
              "      <td>7652.0</td>\n",
              "      <td>482.0</td>\n",
              "      <td>12.0</td>\n",
              "      <td>62.0</td>\n",
              "      <td>3.0</td>\n",
              "      <td>59008.0</td>\n",
              "      <td>11.0</td>\n",
              "      <td>4.0</td>\n",
              "      <td>1.0</td>\n",
              "      <td>2746.0</td>\n",
              "      <td>0.0</td>\n",
              "      <td>3196.0</td>\n",
              "      <td>0.0</td>\n",
              "      <td>60.0</td>\n",
              "      <td>107.0</td>\n",
              "    </tr>\n",
              "    <tr>\n",
              "      <th>4</th>\n",
              "      <td>4</td>\n",
              "      <td>0000039460501403861</td>\n",
              "      <td>2</td>\n",
              "      <td>2.0</td>\n",
              "      <td>2.0</td>\n",
              "      <td>99.0</td>\n",
              "      <td>0.0</td>\n",
              "      <td>NaN</td>\n",
              "      <td>2.0</td>\n",
              "      <td>2.0</td>\n",
              "      <td>99.0</td>\n",
              "      <td>7.0</td>\n",
              "      <td>35.0</td>\n",
              "      <td>0.0</td>\n",
              "      <td>20.0</td>\n",
              "      <td>955.0</td>\n",
              "      <td>2.0</td>\n",
              "      <td>28.0</td>\n",
              "      <td>122.0</td>\n",
              "      <td>39749.0</td>\n",
              "      <td>482.0</td>\n",
              "      <td>15.0</td>\n",
              "      <td>62.0</td>\n",
              "      <td>3.0</td>\n",
              "      <td>59008.0</td>\n",
              "      <td>11.0</td>\n",
              "      <td>4.0</td>\n",
              "      <td>1.0</td>\n",
              "      <td>2746.0</td>\n",
              "      <td>6.0</td>\n",
              "      <td>2665.0</td>\n",
              "      <td>343.0</td>\n",
              "      <td>104.0</td>\n",
              "      <td>63.0</td>\n",
              "    </tr>\n",
              "  </tbody>\n",
              "</table>\n",
              "</div>"
            ],
            "text/plain": [
              "   Unnamed: 0        fullVisitorId  timeperiod  ...  source  start_days  end_days\n",
              "0           0  0000000259678714014           4  ...    99.0        14.0     153.0\n",
              "1           1  0000010278554503158           1  ...    99.0        80.0      53.0\n",
              "2           2  0000020424342248747           1  ...     0.0       121.0      12.0\n",
              "3           3  0000027376579751715           2  ...     0.0        60.0     107.0\n",
              "4           4  0000039460501403861           2  ...   343.0       104.0      63.0\n",
              "\n",
              "[5 rows x 34 columns]"
            ]
          },
          "metadata": {
            "tags": []
          },
          "execution_count": 125
        }
      ]
    },
    {
      "cell_type": "code",
      "metadata": {
        "id": "DovbhvZI-rgl",
        "colab_type": "code",
        "colab": {
          "base_uri": "https://localhost:8080/",
          "height": 142
        },
        "outputId": "de75adf4-89cf-4367-94a5-f6cc82e0ba1f"
      },
      "source": [
        "percent_missing = train.isnull().sum() * 100 / len(train)\n",
        "missing_value_df = pd.DataFrame({'column_name': train.columns,\n",
        "                                 'percent_missing': percent_missing})\n",
        "missing_value_df.sort_values('percent_missing', inplace=True)\n",
        "missing_value_df[missing_value_df['percent_missing'] > 0]"
      ],
      "execution_count": 126,
      "outputs": [
        {
          "output_type": "execute_result",
          "data": {
            "text/html": [
              "<div>\n",
              "<style scoped>\n",
              "    .dataframe tbody tr th:only-of-type {\n",
              "        vertical-align: middle;\n",
              "    }\n",
              "\n",
              "    .dataframe tbody tr th {\n",
              "        vertical-align: top;\n",
              "    }\n",
              "\n",
              "    .dataframe thead th {\n",
              "        text-align: right;\n",
              "    }\n",
              "</style>\n",
              "<table border=\"1\" class=\"dataframe\">\n",
              "  <thead>\n",
              "    <tr style=\"text-align: right;\">\n",
              "      <th></th>\n",
              "      <th>column_name</th>\n",
              "      <th>percent_missing</th>\n",
              "    </tr>\n",
              "  </thead>\n",
              "  <tbody>\n",
              "    <tr>\n",
              "      <th>pageviews_y</th>\n",
              "      <td>pageviews_y</td>\n",
              "      <td>0.003345</td>\n",
              "    </tr>\n",
              "    <tr>\n",
              "      <th>sessionQualityDim</th>\n",
              "      <td>sessionQualityDim</td>\n",
              "      <td>49.688997</td>\n",
              "    </tr>\n",
              "    <tr>\n",
              "      <th>timeOnSite_y</th>\n",
              "      <td>timeOnSite_y</td>\n",
              "      <td>50.226329</td>\n",
              "    </tr>\n",
              "  </tbody>\n",
              "</table>\n",
              "</div>"
            ],
            "text/plain": [
              "                         column_name  percent_missing\n",
              "pageviews_y              pageviews_y         0.003345\n",
              "sessionQualityDim  sessionQualityDim        49.688997\n",
              "timeOnSite_y            timeOnSite_y        50.226329"
            ]
          },
          "metadata": {
            "tags": []
          },
          "execution_count": 126
        }
      ]
    },
    {
      "cell_type": "code",
      "metadata": {
        "id": "CaVYP2JDgSY1",
        "colab_type": "code",
        "colab": {
          "base_uri": "https://localhost:8080/",
          "height": 111
        },
        "outputId": "008eda2a-e016-4c69-85db-5aaf774767d8"
      },
      "source": [
        "percent_missing = test.isnull().sum() * 100 / len(test)\n",
        "missing_value_df = pd.DataFrame({'column_name': test.columns,\n",
        "                                 'percent_missing': percent_missing})\n",
        "missing_value_df.sort_values('percent_missing', inplace=True)\n",
        "missing_value_df[missing_value_df['percent_missing'] > 0]"
      ],
      "execution_count": 127,
      "outputs": [
        {
          "output_type": "execute_result",
          "data": {
            "text/html": [
              "<div>\n",
              "<style scoped>\n",
              "    .dataframe tbody tr th:only-of-type {\n",
              "        vertical-align: middle;\n",
              "    }\n",
              "\n",
              "    .dataframe tbody tr th {\n",
              "        vertical-align: top;\n",
              "    }\n",
              "\n",
              "    .dataframe thead th {\n",
              "        text-align: right;\n",
              "    }\n",
              "</style>\n",
              "<table border=\"1\" class=\"dataframe\">\n",
              "  <thead>\n",
              "    <tr style=\"text-align: right;\">\n",
              "      <th></th>\n",
              "      <th>column_name</th>\n",
              "      <th>percent_missing</th>\n",
              "    </tr>\n",
              "  </thead>\n",
              "  <tbody>\n",
              "    <tr>\n",
              "      <th>pageviews_y</th>\n",
              "      <td>pageviews_y</td>\n",
              "      <td>0.003372</td>\n",
              "    </tr>\n",
              "    <tr>\n",
              "      <th>timeOnSite_y</th>\n",
              "      <td>timeOnSite_y</td>\n",
              "      <td>44.022190</td>\n",
              "    </tr>\n",
              "  </tbody>\n",
              "</table>\n",
              "</div>"
            ],
            "text/plain": [
              "               column_name  percent_missing\n",
              "pageviews_y    pageviews_y         0.003372\n",
              "timeOnSite_y  timeOnSite_y        44.022190"
            ]
          },
          "metadata": {
            "tags": []
          },
          "execution_count": 127
        }
      ]
    },
    {
      "cell_type": "code",
      "metadata": {
        "id": "x3gbzQ9K-rUH",
        "colab_type": "code",
        "colab": {}
      },
      "source": [
        "train['pageviews_y'].fillna(train[\"pageviews_y\"].mean(axis = 0), inplace=True)\n",
        "test['pageviews_y'].fillna(test[\"pageviews_y\"].mean(axis = 0), inplace=True)"
      ],
      "execution_count": 0,
      "outputs": []
    },
    {
      "cell_type": "code",
      "metadata": {
        "id": "Yh6E164N-rQ7",
        "colab_type": "code",
        "colab": {}
      },
      "source": [
        "train['timeOnSite_y'].fillna(-1, inplace=True)\n",
        "test['timeOnSite_y'].fillna(-1, inplace=True)"
      ],
      "execution_count": 0,
      "outputs": []
    },
    {
      "cell_type": "code",
      "metadata": {
        "id": "B48j4sqameEX",
        "colab_type": "code",
        "colab": {}
      },
      "source": [
        "train['sessionQualityDim'].fillna(-999, inplace=True)"
      ],
      "execution_count": 0,
      "outputs": []
    },
    {
      "cell_type": "code",
      "metadata": {
        "id": "8TPQhJtx58Ze",
        "colab_type": "code",
        "outputId": "f009ba24-80af-40bb-d633-0fc18ed031b7",
        "colab": {
          "base_uri": "https://localhost:8080/",
          "height": 765
        }
      },
      "source": [
        "import sklearn\n",
        "from sklearn.preprocessing import LabelEncoder\n",
        "\n",
        "cat_cols = [\"channelGrouping\", \"browser\",\n",
        "            \"deviceCategory\", \"operatingSystem\", \n",
        "            \"city\", \"continent\", \"sessionQualityDim\",\n",
        "            \"country\", \"metro\",\n",
        "            \"networkDomain\", \"region\", \n",
        "            \"subContinent\", \"adContent\", \n",
        "            \"adwordsClickInfo.adNetworkType\", \n",
        "            \"adwordsClickInfo.gclId\", \n",
        "            \"adwordsClickInfo.page\", \n",
        "            \"campaign\",\n",
        "            \"keyword\", \"medium\", \n",
        "            \"referralPath\", \"source\",\n",
        "            'isTrueDirect']\n",
        "\n",
        "for col in cat_cols:\n",
        "    print(col)\n",
        "    lbl = LabelEncoder()\n",
        "    lbl.fit(list(train[col].values.astype('str'))) # + list(test_df[col].values.astype('str')))\n",
        "    train[col] = lbl.transform(list(train[col].values.astype('str')))\n",
        "\n",
        "for col in cat_cols:\n",
        "    print(col)\n",
        "    lbl = LabelEncoder()\n",
        "    lbl.fit(list(test[col].values.astype('str'))) # + list(test_df[col].values.astype('str')))\n",
        "    test[col] = lbl.transform(list(test[col].values.astype('str')))"
      ],
      "execution_count": 134,
      "outputs": [
        {
          "output_type": "stream",
          "text": [
            "channelGrouping\n",
            "browser\n",
            "deviceCategory\n",
            "operatingSystem\n",
            "city\n",
            "continent\n",
            "sessionQualityDim\n",
            "country\n",
            "metro\n",
            "networkDomain\n",
            "region\n",
            "subContinent\n",
            "adContent\n",
            "adwordsClickInfo.adNetworkType\n",
            "adwordsClickInfo.gclId\n",
            "adwordsClickInfo.page\n",
            "campaign\n",
            "keyword\n",
            "medium\n",
            "referralPath\n",
            "source\n",
            "isTrueDirect\n",
            "channelGrouping\n",
            "browser\n",
            "deviceCategory\n",
            "operatingSystem\n",
            "city\n",
            "continent\n",
            "sessionQualityDim\n",
            "country\n",
            "metro\n",
            "networkDomain\n",
            "region\n",
            "subContinent\n",
            "adContent\n",
            "adwordsClickInfo.adNetworkType\n",
            "adwordsClickInfo.gclId\n",
            "adwordsClickInfo.page\n",
            "campaign\n",
            "keyword\n",
            "medium\n",
            "referralPath\n",
            "source\n",
            "isTrueDirect\n"
          ],
          "name": "stdout"
        }
      ]
    },
    {
      "cell_type": "code",
      "metadata": {
        "id": "wsxlfaGO8v2O",
        "colab_type": "code",
        "colab": {}
      },
      "source": [
        "num_cols = [\"hits_x\",\"pageviews_x\",\"hits_y\", \"pageviews_y\",\"timeOnSite_x\",\"timeOnSite_y\",\"start_days\",\"end_days\",\"sessionQualityDim\"]    \n",
        "for col in num_cols:\n",
        "    train[col] = train[col].astype(float)\n",
        "\n",
        "for col in num_cols:\n",
        "    test[col] = test[col].astype(float)"
      ],
      "execution_count": 0,
      "outputs": []
    },
    {
      "cell_type": "code",
      "metadata": {
        "id": "wSdDgtGmsH9h",
        "colab_type": "code",
        "colab": {
          "base_uri": "https://localhost:8080/",
          "height": 612
        },
        "outputId": "1ab92dbd-20bd-4467-addd-983062823306"
      },
      "source": [
        "train.dtypes"
      ],
      "execution_count": 136,
      "outputs": [
        {
          "output_type": "execute_result",
          "data": {
            "text/plain": [
              "Unnamed: 0                          int64\n",
              "fullVisitorId                      object\n",
              "timeperiod                          int64\n",
              "hits_x                            float64\n",
              "pageviews_x                       float64\n",
              "timeOnSite_x                      float64\n",
              "transactionRevenue                float64\n",
              "sessionQualityDim                 float64\n",
              "hits_y                            float64\n",
              "pageviews_y                       float64\n",
              "timeOnSite_y                      float64\n",
              "channelGrouping                     int64\n",
              "browser                             int64\n",
              "deviceCategory                      int64\n",
              "operatingSystem                     int64\n",
              "city                                int64\n",
              "continent                           int64\n",
              "country                             int64\n",
              "metro                               int64\n",
              "networkDomain                       int64\n",
              "region                              int64\n",
              "subContinent                        int64\n",
              "adContent                           int64\n",
              "adwordsClickInfo.adNetworkType      int64\n",
              "adwordsClickInfo.gclId              int64\n",
              "adwordsClickInfo.page               int64\n",
              "campaign                            int64\n",
              "isTrueDirect                        int64\n",
              "keyword                             int64\n",
              "medium                              int64\n",
              "referralPath                        int64\n",
              "source                              int64\n",
              "start_days                        float64\n",
              "end_days                          float64\n",
              "dtype: object"
            ]
          },
          "metadata": {
            "tags": []
          },
          "execution_count": 136
        }
      ]
    },
    {
      "cell_type": "markdown",
      "metadata": {
        "id": "1nNNjGC8ni40",
        "colab_type": "text"
      },
      "source": [
        "# Classifier Part"
      ]
    },
    {
      "cell_type": "code",
      "metadata": {
        "id": "V9qlNYexnflL",
        "colab_type": "code",
        "colab": {}
      },
      "source": [
        "#creating the label\n",
        "train['label'] = np.where(train['transactionRevenue']>0, 1,0)"
      ],
      "execution_count": 0,
      "outputs": []
    },
    {
      "cell_type": "code",
      "metadata": {
        "id": "mgX94Hecnzpr",
        "colab_type": "code",
        "colab": {
          "base_uri": "https://localhost:8080/",
          "height": 170
        },
        "outputId": "3a6410a3-fb78-478b-8a6d-d2366bfadaca"
      },
      "source": [
        "train.columns"
      ],
      "execution_count": 235,
      "outputs": [
        {
          "output_type": "execute_result",
          "data": {
            "text/plain": [
              "Index(['Unnamed: 0', 'fullVisitorId', 'timeperiod', 'hits_x', 'pageviews_x',\n",
              "       'timeOnSite_x', 'transactionRevenue', 'sessionQualityDim', 'hits_y',\n",
              "       'pageviews_y', 'timeOnSite_y', 'channelGrouping', 'browser',\n",
              "       'deviceCategory', 'operatingSystem', 'city', 'continent', 'country',\n",
              "       'metro', 'networkDomain', 'region', 'subContinent', 'adContent',\n",
              "       'adwordsClickInfo.adNetworkType', 'adwordsClickInfo.gclId',\n",
              "       'adwordsClickInfo.page', 'campaign', 'isTrueDirect', 'keyword',\n",
              "       'medium', 'referralPath', 'source', 'start_days', 'end_days', 'label'],\n",
              "      dtype='object')"
            ]
          },
          "metadata": {
            "tags": []
          },
          "execution_count": 235
        }
      ]
    },
    {
      "cell_type": "code",
      "metadata": {
        "id": "ZZgn91Xcj_M0",
        "colab_type": "code",
        "colab": {
          "base_uri": "https://localhost:8080/",
          "height": 170
        },
        "outputId": "7e08f725-e643-47d4-b062-beae6ac55aa7"
      },
      "source": [
        "test.columns"
      ],
      "execution_count": 236,
      "outputs": [
        {
          "output_type": "execute_result",
          "data": {
            "text/plain": [
              "Index(['Unnamed: 0', 'fullVisitorId', 'hits_x', 'pageviews_x', 'timeOnSite_x',\n",
              "       'transactionRevenue', 'sessionQualityDim', 'hits_y', 'pageviews_y',\n",
              "       'timeOnSite_y', 'channelGrouping', 'browser', 'deviceCategory',\n",
              "       'operatingSystem', 'city', 'continent', 'country', 'metro',\n",
              "       'networkDomain', 'region', 'subContinent', 'adContent',\n",
              "       'adwordsClickInfo.adNetworkType', 'adwordsClickInfo.gclId',\n",
              "       'adwordsClickInfo.page', 'campaign', 'isTrueDirect', 'keyword',\n",
              "       'medium', 'referralPath', 'source', 'start_days', 'end_days'],\n",
              "      dtype='object')"
            ]
          },
          "metadata": {
            "tags": []
          },
          "execution_count": 236
        }
      ]
    },
    {
      "cell_type": "code",
      "metadata": {
        "id": "9R49NWilnfZG",
        "colab_type": "code",
        "colab": {}
      },
      "source": [
        "#split dataset in features and target variable\n",
        "X_classification = train[['hits_x', 'pageviews_x',\n",
        "       'timeOnSite_x', 'sessionQualityDim', 'hits_y',\n",
        "       'pageviews_y', 'timeOnSite_y', 'channelGrouping', 'browser',\n",
        "       'deviceCategory', 'operatingSystem', 'city', 'continent', 'country',\n",
        "       'metro', 'networkDomain', 'region', 'adwordsClickInfo.adNetworkType', \n",
        "       'isTrueDirect', 'medium', 'referralPath', 'source', 'start_days', 'end_days']] # Features\n",
        "\n",
        "y_classification = train['label'] # Target variable"
      ],
      "execution_count": 0,
      "outputs": []
    },
    {
      "cell_type": "code",
      "metadata": {
        "id": "EvvibEkTo_VM",
        "colab_type": "code",
        "colab": {
          "base_uri": "https://localhost:8080/",
          "height": 34
        },
        "outputId": "c0a78d9f-36c4-44ed-9fa9-e98eddfc81fa"
      },
      "source": [
        "from imblearn.under_sampling import RandomUnderSampler\n",
        "\n",
        "rus = RandomUnderSampler(return_indices=True)\n",
        "X_rus, y_rus, id_rus = rus.fit_sample(X_classification, y_classification)\n",
        "\n",
        "import collections \n",
        "collections.Counter(y_rus)"
      ],
      "execution_count": 238,
      "outputs": [
        {
          "output_type": "execute_result",
          "data": {
            "text/plain": [
              "Counter({0: 16535, 1: 16535})"
            ]
          },
          "metadata": {
            "tags": []
          },
          "execution_count": 238
        }
      ]
    },
    {
      "cell_type": "code",
      "metadata": {
        "id": "zdKbh8vRmspP",
        "colab_type": "code",
        "colab": {}
      },
      "source": [
        "from sklearn.model_selection import cross_val_score, train_test_split, GridSearchCV\n",
        "\n",
        "X_train1, X_test1, y_train1, y_test1 = train_test_split(X_rus, y_rus, test_size=0.2, random_state=42)"
      ],
      "execution_count": 0,
      "outputs": []
    },
    {
      "cell_type": "code",
      "metadata": {
        "id": "igN7sLACxZpe",
        "colab_type": "code",
        "colab": {
          "base_uri": "https://localhost:8080/",
          "height": 34
        },
        "outputId": "6a356299-144b-4268-e1dc-df8965b56f26"
      },
      "source": [
        "X_train1.shape"
      ],
      "execution_count": 240,
      "outputs": [
        {
          "output_type": "execute_result",
          "data": {
            "text/plain": [
              "(26456, 24)"
            ]
          },
          "metadata": {
            "tags": []
          },
          "execution_count": 240
        }
      ]
    },
    {
      "cell_type": "code",
      "metadata": {
        "id": "kbdGsKXtxbCW",
        "colab_type": "code",
        "colab": {
          "base_uri": "https://localhost:8080/",
          "height": 34
        },
        "outputId": "add10685-089a-4721-af69-bff8dfe6499a"
      },
      "source": [
        " y_train1.shape"
      ],
      "execution_count": 241,
      "outputs": [
        {
          "output_type": "execute_result",
          "data": {
            "text/plain": [
              "(26456,)"
            ]
          },
          "metadata": {
            "tags": []
          },
          "execution_count": 241
        }
      ]
    },
    {
      "cell_type": "code",
      "metadata": {
        "id": "ntTg-4k8m9Nz",
        "colab_type": "code",
        "colab": {}
      },
      "source": [
        "from sklearn import datasets\n",
        "import xgboost as xgb\n",
        "\n",
        "D_train = xgb.DMatrix(X_train1, label=y_train1)\n",
        "D_test = xgb.DMatrix(X_test1, label=y_test1)\n",
        "\n",
        "cv = StratifiedKFold(n_splits=5, shuffle=True, random_state=42)"
      ],
      "execution_count": 0,
      "outputs": []
    },
    {
      "cell_type": "code",
      "metadata": {
        "id": "9qO2KecrwMFq",
        "colab_type": "code",
        "colab": {
          "base_uri": "https://localhost:8080/",
          "height": 136
        },
        "outputId": "56d7a6f9-2110-4560-a5f5-51e7793e6ce6"
      },
      "source": [
        "from xgboost.sklearn import XGBClassifier\n",
        "\n",
        "xgb = XGBClassifier(objective='binary:logistic', random_state=42, n_jobs=-1)\n",
        "xgb.fit(X_train1, y_train1)"
      ],
      "execution_count": 243,
      "outputs": [
        {
          "output_type": "execute_result",
          "data": {
            "text/plain": [
              "XGBClassifier(base_score=0.5, booster='gbtree', colsample_bylevel=1,\n",
              "              colsample_bynode=1, colsample_bytree=1, gamma=0,\n",
              "              learning_rate=0.1, max_delta_step=0, max_depth=3,\n",
              "              min_child_weight=1, missing=None, n_estimators=100, n_jobs=-1,\n",
              "              nthread=None, objective='binary:logistic', random_state=42,\n",
              "              reg_alpha=0, reg_lambda=1, scale_pos_weight=1, seed=None,\n",
              "              silent=None, subsample=1, verbosity=1)"
            ]
          },
          "metadata": {
            "tags": []
          },
          "execution_count": 243
        }
      ]
    },
    {
      "cell_type": "code",
      "metadata": {
        "id": "bKVHeGzHwisO",
        "colab_type": "code",
        "colab": {}
      },
      "source": [
        "scores = cross_val_score(xgb, X_train1, y_train1, cv=cv, scoring='roc_auc')"
      ],
      "execution_count": 0,
      "outputs": []
    },
    {
      "cell_type": "code",
      "metadata": {
        "id": "Q2Ov5GDuyDQ4",
        "colab_type": "code",
        "colab": {
          "base_uri": "https://localhost:8080/",
          "height": 34
        },
        "outputId": "2c1be7df-6d01-4fea-d29c-f22df37a6c8b"
      },
      "source": [
        "print(scores)"
      ],
      "execution_count": 245,
      "outputs": [
        {
          "output_type": "stream",
          "text": [
            "[0.99100926 0.99028493 0.98681384 0.990288   0.98790269]\n"
          ],
          "name": "stdout"
        }
      ]
    },
    {
      "cell_type": "code",
      "metadata": {
        "id": "l6U3BbkNxbg9",
        "colab_type": "code",
        "colab": {
          "base_uri": "https://localhost:8080/",
          "height": 54
        },
        "outputId": "e7491c6a-488c-4481-96f9-d2d0de56f3aa"
      },
      "source": [
        "print(xgb.get_params())"
      ],
      "execution_count": 246,
      "outputs": [
        {
          "output_type": "stream",
          "text": [
            "{'base_score': 0.5, 'booster': 'gbtree', 'colsample_bylevel': 1, 'colsample_bynode': 1, 'colsample_bytree': 1, 'gamma': 0, 'learning_rate': 0.1, 'max_delta_step': 0, 'max_depth': 3, 'min_child_weight': 1, 'missing': None, 'n_estimators': 100, 'n_jobs': -1, 'nthread': None, 'objective': 'binary:logistic', 'random_state': 42, 'reg_alpha': 0, 'reg_lambda': 1, 'scale_pos_weight': 1, 'seed': None, 'silent': None, 'subsample': 1, 'verbosity': 1}\n"
          ],
          "name": "stdout"
        }
      ]
    },
    {
      "cell_type": "code",
      "metadata": {
        "id": "FZJW1AwbxbbL",
        "colab_type": "code",
        "colab": {
          "base_uri": "https://localhost:8080/",
          "height": 54
        },
        "outputId": "9a887c34-de01-48eb-e05c-3031ac8b5cd9"
      },
      "source": [
        "# Create the parameter grid\n",
        "params = {\n",
        "    'learning_rate': [0.0001, 0.001, 0.01, 0.1, 0.2, 0.3],\n",
        "    'n_estimators': [int(x) for x in np.linspace(start=100, stop=500, num=9)],\n",
        "    'max_depth': [i for i in range(3, 10)],\n",
        "    'min_child_weight': [i for i in range(1, 7)],\n",
        "    'subsample': [i/10.0 for i in range(6,11)],\n",
        "    'colsample_bytree': [i/10.0 for i in range(6,11)]\n",
        "}\n",
        "print(params)"
      ],
      "execution_count": 247,
      "outputs": [
        {
          "output_type": "stream",
          "text": [
            "{'learning_rate': [0.0001, 0.001, 0.01, 0.1, 0.2, 0.3], 'n_estimators': [100, 150, 200, 250, 300, 350, 400, 450, 500], 'max_depth': [3, 4, 5, 6, 7, 8, 9], 'min_child_weight': [1, 2, 3, 4, 5, 6], 'subsample': [0.6, 0.7, 0.8, 0.9, 1.0], 'colsample_bytree': [0.6, 0.7, 0.8, 0.9, 1.0]}\n"
          ],
          "name": "stdout"
        }
      ]
    },
    {
      "cell_type": "code",
      "metadata": {
        "id": "Qq_MI745m9D5",
        "colab_type": "code",
        "colab": {
          "base_uri": "https://localhost:8080/",
          "height": 391
        },
        "outputId": "7a3b1ec6-8664-4436-8b04-bfdcde58721f"
      },
      "source": [
        "rgs = RandomizedSearchCV(estimator=xgb, param_distributions=params, n_iter=20, cv=cv, random_state=42, n_jobs=-1,\n",
        "                         scoring='roc_auc', return_train_score=True)\n",
        "\n",
        "rgs.fit(X_train1, y_train1)"
      ],
      "execution_count": 251,
      "outputs": [
        {
          "output_type": "execute_result",
          "data": {
            "text/plain": [
              "RandomizedSearchCV(cv=StratifiedKFold(n_splits=5, random_state=42, shuffle=True),\n",
              "                   error_score='raise-deprecating',\n",
              "                   estimator=XGBClassifier(base_score=0.5, booster='gbtree',\n",
              "                                           colsample_bylevel=1,\n",
              "                                           colsample_bynode=1,\n",
              "                                           colsample_bytree=1, gamma=0,\n",
              "                                           learning_rate=0.1, max_delta_step=0,\n",
              "                                           max_depth=3, min_child_weight=1,\n",
              "                                           missing=None, n_estimators=100,\n",
              "                                           n_jobs=-1, nthread=Non...\n",
              "                   param_distributions={'colsample_bytree': [0.6, 0.7, 0.8, 0.9,\n",
              "                                                             1.0],\n",
              "                                        'learning_rate': [0.0001, 0.001, 0.01,\n",
              "                                                          0.1, 0.2, 0.3],\n",
              "                                        'max_depth': [3, 4, 5, 6, 7, 8, 9],\n",
              "                                        'min_child_weight': [1, 2, 3, 4, 5, 6],\n",
              "                                        'n_estimators': [100, 150, 200, 250,\n",
              "                                                         300, 350, 400, 450,\n",
              "                                                         500],\n",
              "                                        'subsample': [0.6, 0.7, 0.8, 0.9, 1.0]},\n",
              "                   pre_dispatch='2*n_jobs', random_state=42, refit=True,\n",
              "                   return_train_score=True, scoring='roc_auc', verbose=0)"
            ]
          },
          "metadata": {
            "tags": []
          },
          "execution_count": 251
        }
      ]
    },
    {
      "cell_type": "code",
      "metadata": {
        "id": "xj5nXRj_zdoI",
        "colab_type": "code",
        "colab": {
          "base_uri": "https://localhost:8080/",
          "height": 136
        },
        "outputId": "1ec7db79-828f-441a-f706-bfce5a42dcfb"
      },
      "source": [
        "# Evaluate best models on the hold-out set\n",
        "best_xgb = rgs.best_estimator_\n",
        "best_xgb"
      ],
      "execution_count": 252,
      "outputs": [
        {
          "output_type": "execute_result",
          "data": {
            "text/plain": [
              "XGBClassifier(base_score=0.5, booster='gbtree', colsample_bylevel=1,\n",
              "              colsample_bynode=1, colsample_bytree=0.7, gamma=0,\n",
              "              learning_rate=0.01, max_delta_step=0, max_depth=9,\n",
              "              min_child_weight=3, missing=None, n_estimators=300, n_jobs=-1,\n",
              "              nthread=None, objective='binary:logistic', random_state=42,\n",
              "              reg_alpha=0, reg_lambda=1, scale_pos_weight=1, seed=None,\n",
              "              silent=None, subsample=0.6, verbosity=1)"
            ]
          },
          "metadata": {
            "tags": []
          },
          "execution_count": 252
        }
      ]
    },
    {
      "cell_type": "code",
      "metadata": {
        "id": "LDhD-OAmm8_7",
        "colab_type": "code",
        "colab": {
          "base_uri": "https://localhost:8080/",
          "height": 238
        },
        "outputId": "9cd26b3d-58fd-475f-f634-585234d759e8"
      },
      "source": [
        "from sklearn.metrics import classification_report\n",
        "from sklearn.metrics import confusion_matrix, precision_recall_curve, average_precision_score, roc_curve, auc\n",
        "from sklearn.metrics import accuracy_score\n",
        "\n",
        "best_xgb.fit(X_train1, y_train1)\n",
        "\n",
        "y_pred_proba_xgb = best_xgb.predict_proba(X_test1)[:,1]\n",
        "prediction = best_xgb.predict(X_test1)\n",
        "\n",
        "# Getting the classification report for the fitted model \n",
        "print(\"Prediction Accuracy is \",accuracy_score(y_test1, prediction))\n",
        "print(\"Classification report is \",classification_report(y_test1, prediction))\n",
        "print(\"Confusion matrix is \")\n",
        "print(confusion_matrix(y_test1, prediction))\n"
      ],
      "execution_count": 253,
      "outputs": [
        {
          "output_type": "stream",
          "text": [
            "Prediction Accuracy is  0.9659812518899304\n",
            "Classification report is                precision    recall  f1-score   support\n",
            "\n",
            "           0       0.98      0.95      0.97      3319\n",
            "           1       0.95      0.98      0.97      3295\n",
            "\n",
            "    accuracy                           0.97      6614\n",
            "   macro avg       0.97      0.97      0.97      6614\n",
            "weighted avg       0.97      0.97      0.97      6614\n",
            "\n",
            "Confusion matrix is \n",
            "[[3152  167]\n",
            " [  58 3237]]\n"
          ],
          "name": "stdout"
        }
      ]
    },
    {
      "cell_type": "code",
      "metadata": {
        "id": "Rt3ZUNKMm89G",
        "colab_type": "code",
        "colab": {
          "base_uri": "https://localhost:8080/",
          "height": 34
        },
        "outputId": "0156f921-c5bc-4996-eb68-bad78e4f3b24"
      },
      "source": [
        "y_pred_proba_xgb = best_xgb.predict_proba(X_test1)[:,1]\n",
        "fpr, tpr, thresh = roc_curve(y_test1, y_pred_proba_xgb)\n",
        "\n",
        "auc_score = auc(fpr, tpr)\n",
        "auc_score"
      ],
      "execution_count": 254,
      "outputs": [
        {
          "output_type": "execute_result",
          "data": {
            "text/plain": [
              "0.9897775762028619"
            ]
          },
          "metadata": {
            "tags": []
          },
          "execution_count": 254
        }
      ]
    },
    {
      "cell_type": "markdown",
      "metadata": {
        "id": "-IVeSg0yYbZA",
        "colab_type": "text"
      },
      "source": [
        "# Regression Part"
      ]
    },
    {
      "cell_type": "code",
      "metadata": {
        "id": "Js0Wzgc5m83H",
        "colab_type": "code",
        "colab": {}
      },
      "source": [
        "#split dataset in features and target variable\n",
        "X_regression = train[['hits_x', 'pageviews_x',\n",
        "       'timeOnSite_x', 'sessionQualityDim', 'hits_y',\n",
        "       'pageviews_y', 'timeOnSite_y', 'channelGrouping', 'browser',\n",
        "       'deviceCategory', 'operatingSystem', 'city', 'continent', 'country',\n",
        "       'metro', 'networkDomain', 'region', 'adwordsClickInfo.adNetworkType', \n",
        "       'isTrueDirect', 'medium', 'referralPath', 'source', 'start_days', 'end_days']] # Features\n",
        "\n",
        "y_regression = np.log(train['transactionRevenue']+1) # Target variable - Taking the log of the regressor variable"
      ],
      "execution_count": 0,
      "outputs": []
    },
    {
      "cell_type": "code",
      "metadata": {
        "id": "nf7NShIWm8ze",
        "colab_type": "code",
        "colab": {
          "base_uri": "https://localhost:8080/",
          "height": 51
        },
        "outputId": "ad4f45d0-08e2-461a-c48c-f4f483bc1c25"
      },
      "source": [
        "from imblearn.under_sampling import RandomUnderSampler\n",
        "\n",
        "rus = RandomUnderSampler(return_indices=True)\n",
        "X_rus2, y_rus2, id_rus = rus.fit_sample(X_regression, y_regression)\n"
      ],
      "execution_count": 256,
      "outputs": [
        {
          "output_type": "stream",
          "text": [
            "/usr/local/lib/python3.6/dist-packages/imblearn/utils/_validation.py:93: UserWarning: 'y' should be of types ('binary', 'multiclass', 'multilabel-indicator') only. Got continuous instead.\n",
            "  TARGET_KIND, type_of_target(y)))\n"
          ],
          "name": "stderr"
        }
      ]
    },
    {
      "cell_type": "code",
      "metadata": {
        "id": "YT_DymTjm8oA",
        "colab_type": "code",
        "colab": {}
      },
      "source": [
        "from sklearn.model_selection import cross_val_score, train_test_split, GridSearchCV\n",
        "\n",
        "X_train2, X_test2, y_train2, y_test2 = train_test_split(X_rus2, y_rus2, test_size=0.2, random_state=42)"
      ],
      "execution_count": 0,
      "outputs": []
    },
    {
      "cell_type": "code",
      "metadata": {
        "id": "PDp746msZ3Mg",
        "colab_type": "code",
        "colab": {
          "base_uri": "https://localhost:8080/",
          "height": 34
        },
        "outputId": "e2cfebaa-3dd7-49bf-dd58-c64602cd0919"
      },
      "source": [
        "X_train2.shape"
      ],
      "execution_count": 258,
      "outputs": [
        {
          "output_type": "execute_result",
          "data": {
            "text/plain": [
              "(5478, 24)"
            ]
          },
          "metadata": {
            "tags": []
          },
          "execution_count": 258
        }
      ]
    },
    {
      "cell_type": "code",
      "metadata": {
        "id": "nN71SwzFZ6rE",
        "colab_type": "code",
        "colab": {
          "base_uri": "https://localhost:8080/",
          "height": 34
        },
        "outputId": "fe978462-5b9a-4560-ab0d-61a1ce91715b"
      },
      "source": [
        " y_train2.shape"
      ],
      "execution_count": 259,
      "outputs": [
        {
          "output_type": "execute_result",
          "data": {
            "text/plain": [
              "(5478,)"
            ]
          },
          "metadata": {
            "tags": []
          },
          "execution_count": 259
        }
      ]
    },
    {
      "cell_type": "code",
      "metadata": {
        "id": "F1RHIK2pZ_1O",
        "colab_type": "code",
        "colab": {}
      },
      "source": [
        "from sklearn import datasets\n",
        "import xgboost as xgb\n",
        "\n",
        "D_train2 = xgb.DMatrix(X_train2, label=y_train2)\n",
        "D_test2 = xgb.DMatrix(X_test2, label=y_test2)\n"
      ],
      "execution_count": 0,
      "outputs": []
    },
    {
      "cell_type": "code",
      "metadata": {
        "id": "TexYUZ0RaJiO",
        "colab_type": "code",
        "colab": {
          "base_uri": "https://localhost:8080/",
          "height": 136
        },
        "outputId": "ac4a29cd-df14-45ac-e27b-8c3f2cc2da7a"
      },
      "source": [
        "from xgboost.sklearn import XGBRegressor\n",
        "\n",
        "xgb2 = XGBRegressor(objective='reg:squarederror', random_state=42, n_jobs=-1)\n",
        "xgb2.fit(X_train2, y_train2)"
      ],
      "execution_count": 260,
      "outputs": [
        {
          "output_type": "execute_result",
          "data": {
            "text/plain": [
              "XGBRegressor(base_score=0.5, booster='gbtree', colsample_bylevel=1,\n",
              "             colsample_bynode=1, colsample_bytree=1, gamma=0,\n",
              "             importance_type='gain', learning_rate=0.1, max_delta_step=0,\n",
              "             max_depth=3, min_child_weight=1, missing=None, n_estimators=100,\n",
              "             n_jobs=-1, nthread=None, objective='reg:squarederror',\n",
              "             random_state=42, reg_alpha=0, reg_lambda=1, scale_pos_weight=1,\n",
              "             seed=None, silent=None, subsample=1, verbosity=1)"
            ]
          },
          "metadata": {
            "tags": []
          },
          "execution_count": 260
        }
      ]
    },
    {
      "cell_type": "code",
      "metadata": {
        "id": "LeT_JH3caMBR",
        "colab_type": "code",
        "colab": {}
      },
      "source": [
        "scores2 = cross_val_score(xgb2, X_train2, y_train2, cv=5, scoring='neg_mean_squared_error')"
      ],
      "execution_count": 0,
      "outputs": []
    },
    {
      "cell_type": "code",
      "metadata": {
        "id": "Jg0-I55GaS1K",
        "colab_type": "code",
        "colab": {
          "base_uri": "https://localhost:8080/",
          "height": 34
        },
        "outputId": "530fad2b-2d25-4c08-d2e5-fcc0b0509218"
      },
      "source": [
        "print(scores2)"
      ],
      "execution_count": 263,
      "outputs": [
        {
          "output_type": "stream",
          "text": [
            "[-1.27977593 -1.26082476 -1.61489695 -1.44000052 -1.34478359]\n"
          ],
          "name": "stdout"
        }
      ]
    },
    {
      "cell_type": "code",
      "metadata": {
        "id": "mtt29VJ9aSyy",
        "colab_type": "code",
        "colab": {}
      },
      "source": [
        "print(xgb2.get_params())"
      ],
      "execution_count": 0,
      "outputs": []
    },
    {
      "cell_type": "code",
      "metadata": {
        "id": "MB_b3Gk6aSxA",
        "colab_type": "code",
        "colab": {
          "base_uri": "https://localhost:8080/",
          "height": 54
        },
        "outputId": "ea4086e5-e422-4f68-b229-ee8e01e445cf"
      },
      "source": [
        "# Create the parameter grid\n",
        "params = {\n",
        "    'learning_rate': [0.0001, 0.001, 0.01, 0.1, 0.2, 0.3],\n",
        "    'n_estimators': [int(x) for x in np.linspace(start=100, stop=500, num=9)],\n",
        "    'max_depth': [i for i in range(3, 10)],\n",
        "    'min_child_weight': [i for i in range(1, 7)],\n",
        "    'subsample': [i/10.0 for i in range(6,11)],\n",
        "    'colsample_bytree': [i/10.0 for i in range(6,11)]\n",
        "}\n",
        "print(params)"
      ],
      "execution_count": 264,
      "outputs": [
        {
          "output_type": "stream",
          "text": [
            "{'learning_rate': [0.0001, 0.001, 0.01, 0.1, 0.2, 0.3], 'n_estimators': [100, 150, 200, 250, 300, 350, 400, 450, 500], 'max_depth': [3, 4, 5, 6, 7, 8, 9], 'min_child_weight': [1, 2, 3, 4, 5, 6], 'subsample': [0.6, 0.7, 0.8, 0.9, 1.0], 'colsample_bytree': [0.6, 0.7, 0.8, 0.9, 1.0]}\n"
          ],
          "name": "stdout"
        }
      ]
    },
    {
      "cell_type": "code",
      "metadata": {
        "id": "6sKCg8Y8aStj",
        "colab_type": "code",
        "colab": {
          "base_uri": "https://localhost:8080/",
          "height": 442
        },
        "outputId": "344dcd00-893c-4434-81af-19deded5c1d1"
      },
      "source": [
        "rgs2 = RandomizedSearchCV(estimator=xgb2, param_distributions=params, n_iter=20, cv=5, random_state=42, n_jobs=-1,\n",
        "                         scoring='neg_mean_squared_error', return_train_score=True)\n",
        "\n",
        "rgs2.fit(X_train1, y_train1)"
      ],
      "execution_count": 265,
      "outputs": [
        {
          "output_type": "execute_result",
          "data": {
            "text/plain": [
              "RandomizedSearchCV(cv=5, error_score='raise-deprecating',\n",
              "                   estimator=XGBRegressor(base_score=0.5, booster='gbtree',\n",
              "                                          colsample_bylevel=1,\n",
              "                                          colsample_bynode=1,\n",
              "                                          colsample_bytree=1, gamma=0,\n",
              "                                          importance_type='gain',\n",
              "                                          learning_rate=0.1, max_delta_step=0,\n",
              "                                          max_depth=3, min_child_weight=1,\n",
              "                                          missing=None, n_estimators=100,\n",
              "                                          n_jobs=-1, nthread=None,\n",
              "                                          objective='reg:squarederror',\n",
              "                                          ra...\n",
              "                   param_distributions={'colsample_bytree': [0.6, 0.7, 0.8, 0.9,\n",
              "                                                             1.0],\n",
              "                                        'learning_rate': [0.0001, 0.001, 0.01,\n",
              "                                                          0.1, 0.2, 0.3],\n",
              "                                        'max_depth': [3, 4, 5, 6, 7, 8, 9],\n",
              "                                        'min_child_weight': [1, 2, 3, 4, 5, 6],\n",
              "                                        'n_estimators': [100, 150, 200, 250,\n",
              "                                                         300, 350, 400, 450,\n",
              "                                                         500],\n",
              "                                        'subsample': [0.6, 0.7, 0.8, 0.9, 1.0]},\n",
              "                   pre_dispatch='2*n_jobs', random_state=42, refit=True,\n",
              "                   return_train_score=True, scoring='neg_mean_squared_error',\n",
              "                   verbose=0)"
            ]
          },
          "metadata": {
            "tags": []
          },
          "execution_count": 265
        }
      ]
    },
    {
      "cell_type": "code",
      "metadata": {
        "id": "fSfSzTpkaSqZ",
        "colab_type": "code",
        "colab": {
          "base_uri": "https://localhost:8080/",
          "height": 136
        },
        "outputId": "18de96bd-3e8b-4520-a200-e7a32b0a5e86"
      },
      "source": [
        "# Evaluate best models on the hold-out set\n",
        "best_xgb2 = rgs2.best_estimator_\n",
        "best_xgb2"
      ],
      "execution_count": 266,
      "outputs": [
        {
          "output_type": "execute_result",
          "data": {
            "text/plain": [
              "XGBRegressor(base_score=0.5, booster='gbtree', colsample_bylevel=1,\n",
              "             colsample_bynode=1, colsample_bytree=0.6, gamma=0,\n",
              "             importance_type='gain', learning_rate=0.1, max_delta_step=0,\n",
              "             max_depth=5, min_child_weight=2, missing=None, n_estimators=200,\n",
              "             n_jobs=-1, nthread=None, objective='reg:squarederror',\n",
              "             random_state=42, reg_alpha=0, reg_lambda=1, scale_pos_weight=1,\n",
              "             seed=None, silent=None, subsample=0.6, verbosity=1)"
            ]
          },
          "metadata": {
            "tags": []
          },
          "execution_count": 266
        }
      ]
    },
    {
      "cell_type": "code",
      "metadata": {
        "id": "8egzUtgYbghw",
        "colab_type": "code",
        "colab": {}
      },
      "source": [
        "predicted_reg = best_xgb2.predict(X_test2) #Prediction for the regression model"
      ],
      "execution_count": 0,
      "outputs": []
    },
    {
      "cell_type": "code",
      "metadata": {
        "id": "BXr18T-kc7sH",
        "colab_type": "code",
        "colab": {
          "base_uri": "https://localhost:8080/",
          "height": 68
        },
        "outputId": "d145b528-6cdb-4bcd-ca7d-b087b4f13662"
      },
      "source": [
        "# JUST FOR THE REGRESSOR ALONE\n",
        "from math import sqrt\n",
        "from sklearn.metrics import mean_squared_error\n",
        "from sklearn.metrics import mean_absolute_error\n",
        "\n",
        "\n",
        "mse=mean_squared_error(y_test2, predicted_reg)\n",
        "print(\"mean square error\",mse)\n",
        "rms = sqrt(mean_squared_error(y_test2, predicted_reg))\n",
        "print(\"root mean square error\",rms)\n",
        "mae=mean_absolute_error(y_test2, predicted_reg)\n",
        "print(\"mean absolute error\",mae)"
      ],
      "execution_count": 268,
      "outputs": [
        {
          "output_type": "stream",
          "text": [
            "mean square error 306.93890857878705\n",
            "root mean square error 17.519672045411895\n",
            "mean absolute error 17.472447985261574\n"
          ],
          "name": "stdout"
        }
      ]
    },
    {
      "cell_type": "code",
      "metadata": {
        "id": "mgkHhhMXc9t2",
        "colab_type": "code",
        "colab": {}
      },
      "source": [
        "# multiplying the classifier and the regressor to predict only for those columns which have classified as a transaction\n",
        "predicted_classifier = best_xgb.predict(X_test2)\n",
        "final_regression = predicted_classifier * predicted_reg"
      ],
      "execution_count": 0,
      "outputs": []
    },
    {
      "cell_type": "code",
      "metadata": {
        "id": "KvlFzG3ic9ym",
        "colab_type": "code",
        "colab": {
          "base_uri": "https://localhost:8080/",
          "height": 68
        },
        "outputId": "5cd3a65d-74c5-4130-8d1e-eef2cbd5d216"
      },
      "source": [
        "# JUST FOR THE CLASSIFIER AND THE REGRESSOR\n",
        "from math import sqrt\n",
        "from sklearn.metrics import mean_squared_error\n",
        "from sklearn.metrics import mean_absolute_error\n",
        "\n",
        "mse=mean_squared_error(y_test2, final_regression)\n",
        "print(\"mean square error\",mse)\n",
        "rms = sqrt(mean_squared_error(y_test2, final_regression))\n",
        "print(\"root mean square error\",rms)\n",
        "mae=mean_absolute_error(y_test2, final_regression)\n",
        "print(\"mean absolute error\",mae)"
      ],
      "execution_count": 270,
      "outputs": [
        {
          "output_type": "stream",
          "text": [
            "mean square error 306.98657697278736\n",
            "root mean square error 17.521032417434405\n",
            "mean absolute error 17.47386056989965\n"
          ],
          "name": "stdout"
        }
      ]
    },
    {
      "cell_type": "code",
      "metadata": {
        "id": "iXaf5e3jc92k",
        "colab_type": "code",
        "colab": {}
      },
      "source": [
        ""
      ],
      "execution_count": 0,
      "outputs": []
    },
    {
      "cell_type": "markdown",
      "metadata": {
        "id": "n6QsXKDmgEkw",
        "colab_type": "text"
      },
      "source": [
        "# Training the model on the whole dataset and checking with the test dataset"
      ]
    },
    {
      "cell_type": "code",
      "metadata": {
        "id": "-AfNPvuhc95l",
        "colab_type": "code",
        "colab": {
          "base_uri": "https://localhost:8080/",
          "height": 119
        },
        "outputId": "fb42e2d4-8cf8-4a15-b9e9-7cee65ec5459"
      },
      "source": [
        "groundtruth_prediction = np.log(test['transactionRevenue']+1)\n",
        "groundtruth_prediction.head()"
      ],
      "execution_count": 282,
      "outputs": [
        {
          "output_type": "execute_result",
          "data": {
            "text/plain": [
              "0    0.0\n",
              "1    0.0\n",
              "2    0.0\n",
              "3    0.0\n",
              "4    0.0\n",
              "Name: transactionRevenue, dtype: float64"
            ]
          },
          "metadata": {
            "tags": []
          },
          "execution_count": 282
        }
      ]
    },
    {
      "cell_type": "code",
      "metadata": {
        "id": "0BYZ0uBtiTNH",
        "colab_type": "code",
        "colab": {
          "base_uri": "https://localhost:8080/",
          "height": 170
        },
        "outputId": "1bab1be9-f168-4089-8b2d-5a83d45c53f5"
      },
      "source": [
        "test.columns"
      ],
      "execution_count": 283,
      "outputs": [
        {
          "output_type": "execute_result",
          "data": {
            "text/plain": [
              "Index(['Unnamed: 0', 'fullVisitorId', 'hits_x', 'pageviews_x', 'timeOnSite_x',\n",
              "       'transactionRevenue', 'sessionQualityDim', 'hits_y', 'pageviews_y',\n",
              "       'timeOnSite_y', 'channelGrouping', 'browser', 'deviceCategory',\n",
              "       'operatingSystem', 'city', 'continent', 'country', 'metro',\n",
              "       'networkDomain', 'region', 'subContinent', 'adContent',\n",
              "       'adwordsClickInfo.adNetworkType', 'adwordsClickInfo.gclId',\n",
              "       'adwordsClickInfo.page', 'campaign', 'isTrueDirect', 'keyword',\n",
              "       'medium', 'referralPath', 'source', 'start_days', 'end_days'],\n",
              "      dtype='object')"
            ]
          },
          "metadata": {
            "tags": []
          },
          "execution_count": 283
        }
      ]
    },
    {
      "cell_type": "code",
      "metadata": {
        "id": "FtTiWCeIg4S7",
        "colab_type": "code",
        "colab": {}
      },
      "source": [
        "X_full_test = test[['hits_x', 'pageviews_x',\n",
        "       'timeOnSite_x', 'sessionQualityDim', 'hits_y',\n",
        "       'pageviews_y', 'timeOnSite_y', 'channelGrouping', 'browser',\n",
        "       'deviceCategory', 'operatingSystem', 'city', 'continent', 'country',\n",
        "       'metro', 'networkDomain', 'region', 'adwordsClickInfo.adNetworkType', \n",
        "       'isTrueDirect', 'medium', 'referralPath', 'source', 'start_days', 'end_days']]\n",
        "\n",
        "groundtruth_P = np.log(test['transactionRevenue']+1)\n",
        "groundtruth_C = np.where(test['transactionRevenue']>0, 1,0)\n"
      ],
      "execution_count": 0,
      "outputs": []
    },
    {
      "cell_type": "code",
      "metadata": {
        "id": "ue9YpfbEhDxs",
        "colab_type": "code",
        "colab": {
          "base_uri": "https://localhost:8080/",
          "height": 255
        },
        "outputId": "99718ed9-6dff-4e53-a1d3-f7bbe019a791"
      },
      "source": [
        "# the best classifier\n",
        "print(best_xgb)\n",
        "\n",
        "# the best regressor model\n",
        "print(best_xgb2)"
      ],
      "execution_count": 285,
      "outputs": [
        {
          "output_type": "stream",
          "text": [
            "XGBClassifier(base_score=0.5, booster='gbtree', colsample_bylevel=1,\n",
            "              colsample_bynode=1, colsample_bytree=0.7, gamma=0,\n",
            "              learning_rate=0.01, max_delta_step=0, max_depth=9,\n",
            "              min_child_weight=3, missing=None, n_estimators=300, n_jobs=-1,\n",
            "              nthread=None, objective='binary:logistic', random_state=42,\n",
            "              reg_alpha=0, reg_lambda=1, scale_pos_weight=1, seed=None,\n",
            "              silent=None, subsample=0.6, verbosity=1)\n",
            "XGBRegressor(base_score=0.5, booster='gbtree', colsample_bylevel=1,\n",
            "             colsample_bynode=1, colsample_bytree=0.6, gamma=0,\n",
            "             importance_type='gain', learning_rate=0.1, max_delta_step=0,\n",
            "             max_depth=5, min_child_weight=2, missing=None, n_estimators=200,\n",
            "             n_jobs=-1, nthread=None, objective='reg:squarederror',\n",
            "             random_state=42, reg_alpha=0, reg_lambda=1, scale_pos_weight=1,\n",
            "             seed=None, silent=None, subsample=0.6, verbosity=1)\n"
          ],
          "name": "stdout"
        }
      ]
    },
    {
      "cell_type": "code",
      "metadata": {
        "id": "0_eFMN9ItlSO",
        "colab_type": "code",
        "colab": {}
      },
      "source": [
        "X_full_train = train[['hits_x', 'pageviews_x',\n",
        "       'timeOnSite_x', 'sessionQualityDim', 'hits_y',\n",
        "       'pageviews_y', 'timeOnSite_y', 'channelGrouping', 'browser',\n",
        "       'deviceCategory', 'operatingSystem', 'city', 'continent', 'country',\n",
        "       'metro', 'networkDomain', 'region', 'adwordsClickInfo.adNetworkType', \n",
        "       'isTrueDirect', 'medium', 'referralPath', 'source', 'start_days', 'end_days']]\n",
        "\n",
        "Y_full_train_c = np.where(train['transactionRevenue']>0, 1,0)\n",
        "Y_full_train_R = np.log(train['transactionRevenue'] +1 )"
      ],
      "execution_count": 0,
      "outputs": []
    },
    {
      "cell_type": "code",
      "metadata": {
        "id": "NsL2L1TIhZgJ",
        "colab_type": "code",
        "colab": {
          "base_uri": "https://localhost:8080/",
          "height": 136
        },
        "outputId": "3831af70-46db-4d48-ec6b-d77e191ce207"
      },
      "source": [
        "#Predicting the best classifier\n",
        "# best_xgb.fit(X_full_train,Y_full_train_c)\n",
        "best_xgb.fit(X_train1, y_train1)"
      ],
      "execution_count": 300,
      "outputs": [
        {
          "output_type": "execute_result",
          "data": {
            "text/plain": [
              "XGBClassifier(base_score=0.5, booster='gbtree', colsample_bylevel=1,\n",
              "              colsample_bynode=1, colsample_bytree=0.7, gamma=0,\n",
              "              learning_rate=0.01, max_delta_step=0, max_depth=9,\n",
              "              min_child_weight=3, missing=None, n_estimators=300, n_jobs=-1,\n",
              "              nthread=None, objective='binary:logistic', random_state=42,\n",
              "              reg_alpha=0, reg_lambda=1, scale_pos_weight=1, seed=None,\n",
              "              silent=None, subsample=0.6, verbosity=1)"
            ]
          },
          "metadata": {
            "tags": []
          },
          "execution_count": 300
        }
      ]
    },
    {
      "cell_type": "code",
      "metadata": {
        "id": "cC2ZeFBMyqT2",
        "colab_type": "code",
        "colab": {}
      },
      "source": [
        "classification_final = best_xgb.predict(X_full_test.values)"
      ],
      "execution_count": 0,
      "outputs": []
    },
    {
      "cell_type": "code",
      "metadata": {
        "id": "x-KnXS9evERQ",
        "colab_type": "code",
        "colab": {
          "base_uri": "https://localhost:8080/",
          "height": 255
        },
        "outputId": "1dff54c4-1fa4-4c4e-fd98-61ccc7b71115"
      },
      "source": [
        "from sklearn.metrics import classification_report\n",
        "from sklearn.metrics import confusion_matrix, precision_recall_curve, average_precision_score, roc_curve, auc\n",
        "from sklearn.metrics import accuracy_score\n",
        "\n",
        "# Getting the classification report for the fitted model \n",
        "print(\"Prediction Accuracy is \",accuracy_score(groundtruth_C, classification_final))\n",
        "print(\"Classification report is \",classification_report(groundtruth_C, classification_final))\n",
        "print(\"Confusion matrix is \")\n",
        "print(confusion_matrix(groundtruth_C, classification_final))\n",
        "\n",
        "y_pred_proba_xgb = best_xgb.predict_proba(X_full_test.values)[:,1]\n",
        "fpr, tpr, thresh = roc_curve(groundtruth_C, y_pred_proba_xgb)\n",
        "\n",
        "auc_score = auc(fpr, tpr)\n",
        "print(\"The auc_score is \",auc_score)"
      ],
      "execution_count": 302,
      "outputs": [
        {
          "output_type": "stream",
          "text": [
            "Prediction Accuracy is  0.9283613799615553\n",
            "Classification report is                precision    recall  f1-score   support\n",
            "\n",
            "           0       1.00      0.93      0.96    292374\n",
            "           1       0.16      0.95      0.27      4156\n",
            "\n",
            "    accuracy                           0.93    296530\n",
            "   macro avg       0.58      0.94      0.62    296530\n",
            "weighted avg       0.99      0.93      0.95    296530\n",
            "\n",
            "Confusion matrix is \n",
            "[[271354  21020]\n",
            " [   223   3933]]\n",
            "The auc_score is  0.980176122757532\n"
          ],
          "name": "stdout"
        }
      ]
    },
    {
      "cell_type": "code",
      "metadata": {
        "id": "HxRoYCjJhoR8",
        "colab_type": "code",
        "colab": {}
      },
      "source": [
        "#Predicting the best regressor model\n",
        "best_xgb2.fit(X_full_train, Y_full_train_R)"
      ],
      "execution_count": 0,
      "outputs": []
    },
    {
      "cell_type": "code",
      "metadata": {
        "id": "w1KHgak3Levh",
        "colab_type": "code",
        "colab": {}
      },
      "source": [
        "Reg_final = best_xgb2.predict(X_full_test)"
      ],
      "execution_count": 0,
      "outputs": []
    },
    {
      "cell_type": "code",
      "metadata": {
        "id": "wVgqF2x7htsa",
        "colab_type": "code",
        "colab": {
          "base_uri": "https://localhost:8080/",
          "height": 68
        },
        "outputId": "a20a0eb2-2218-42f5-8724-c00b211690f0"
      },
      "source": [
        "# JUST FOR THE REGRESSOR ALONE\n",
        "from math import sqrt\n",
        "from sklearn.metrics import mean_squared_error\n",
        "from sklearn.metrics import mean_absolute_error\n",
        "Reg_final = np.where(Reg_final<0,0,Reg_final)\n",
        "\n",
        "mse=mean_squared_error(groundtruth_P, Reg_final )\n",
        "print(\"mean square error\",mse)\n",
        "rms = sqrt(mean_squared_error(groundtruth_P, Reg_final))\n",
        "print(\"root mean square error\",rms)\n",
        "mae=mean_absolute_error(groundtruth_P, Reg_final )\n",
        "print(\"mean absolute error\",mae)"
      ],
      "execution_count": 306,
      "outputs": [
        {
          "output_type": "stream",
          "text": [
            "mean square error 3.368298206296187\n",
            "root mean square error 1.8352924034867542\n",
            "mean absolute error 0.3815599616067134\n"
          ],
          "name": "stdout"
        }
      ]
    },
    {
      "cell_type": "code",
      "metadata": {
        "id": "lIaVSMbxvtJY",
        "colab_type": "code",
        "colab": {
          "base_uri": "https://localhost:8080/",
          "height": 68
        },
        "outputId": "9dca7e18-aa79-4e65-a77f-3b46389e418d"
      },
      "source": [
        "final = classification_final * Reg_final\n",
        "final = np.where(final<0,0,final)\n",
        "\n",
        "mse=mean_squared_error(groundtruth_P, final )\n",
        "print(\"mean square error\",mse)\n",
        "rms = sqrt(mean_squared_error(groundtruth_P, final))\n",
        "print(\"root mean square error\",rms)\n",
        "mae=mean_absolute_error(groundtruth_P, final )\n",
        "print(\"mean absolute error\",mae)"
      ],
      "execution_count": 305,
      "outputs": [
        {
          "output_type": "stream",
          "text": [
            "mean square error 3.3511343018392075\n",
            "root mean square error 1.830610363195622\n",
            "mean absolute error 0.343789421407651\n"
          ],
          "name": "stdout"
        }
      ]
    },
    {
      "cell_type": "code",
      "metadata": {
        "id": "dzQgWGKDv4RH",
        "colab_type": "code",
        "colab": {
          "base_uri": "https://localhost:8080/",
          "height": 507
        },
        "outputId": "5c0fb373-505e-4232-8694-6c7a7c74f509"
      },
      "source": [
        "# Getting the most important features from both \n",
        "# for Classification \n",
        "print(best_xgb.feature_importances_)\n",
        "\n",
        "importances = list(zip(best_xgb.feature_importances_, X_full_train.columns))\n",
        "importances.sort(reverse=True)\n",
        "pd.DataFrame(importances, index=[x for (_,x) in importances]).plot(kind = 'bar')"
      ],
      "execution_count": 298,
      "outputs": [
        {
          "output_type": "stream",
          "text": [
            "[0.23733681 0.48971704 0.03052822 0.0063493  0.0135928  0.03347636\n",
            " 0.0069338  0.00715344 0.00457247 0.01009145 0.00754241 0.00409432\n",
            " 0.06964827 0.02033363 0.00618786 0.00349219 0.00411635 0.00344791\n",
            " 0.00989437 0.0077327  0.00659128 0.00994862 0.00362028 0.0035981 ]\n"
          ],
          "name": "stdout"
        },
        {
          "output_type": "execute_result",
          "data": {
            "text/plain": [
              "<matplotlib.axes._subplots.AxesSubplot at 0x7f506243abe0>"
            ]
          },
          "metadata": {
            "tags": []
          },
          "execution_count": 298
        },
        {
          "output_type": "display_data",
          "data": {
            "image/png": "[encoded data removed]",
            "text/plain": [
              "<Figure size 432x288 with 1 Axes>"
            ]
          },
          "metadata": {
            "tags": []
          }
        }
      ]
    },
    {
      "cell_type": "code",
      "metadata": {
        "id": "ROL8W7GS15vo",
        "colab_type": "code",
        "colab": {
          "base_uri": "https://localhost:8080/",
          "height": 507
        },
        "outputId": "2f8b13e7-1fad-4726-f331-625aeb1af91c"
      },
      "source": [
        "# for Regression \n",
        "print(best_xgb2.feature_importances_)\n",
        "\n",
        "importances = list(zip(best_xgb2.feature_importances_, X_full_train.columns))\n",
        "importances.sort(reverse=True)\n",
        "pd.DataFrame(importances, index=[x for (_,x) in importances]).plot(kind = 'bar')"
      ],
      "execution_count": 299,
      "outputs": [
        {
          "output_type": "stream",
          "text": [
            "[0.0783221  0.1279674  0.0419727  0.01218646 0.01597573 0.03690407\n",
            " 0.01846691 0.0405538  0.01177756 0.06642422 0.0519814  0.01840141\n",
            " 0.08548011 0.11213217 0.02784393 0.0141311  0.01410859 0.00856712\n",
            " 0.03830096 0.01610047 0.09993163 0.04052921 0.01040736 0.01153361]\n"
          ],
          "name": "stdout"
        },
        {
          "output_type": "execute_result",
          "data": {
            "text/plain": [
              "<matplotlib.axes._subplots.AxesSubplot at 0x7f504a55deb8>"
            ]
          },
          "metadata": {
            "tags": []
          },
          "execution_count": 299
        },
        {
          "output_type": "display_data",
          "data": {
            "image/png": "[encoded data removed]",
            "text/plain": [
              "<Figure size 432x288 with 1 Axes>"
            ]
          },
          "metadata": {
            "tags": []
          }
        }
      ]
    },
    {
      "cell_type": "code",
      "metadata": {
        "id": "7PkJxCDfLj2y",
        "colab_type": "code",
        "colab": {}
      },
      "source": [
        ""
      ],
      "execution_count": 0,
      "outputs": []
    }
  ]
}