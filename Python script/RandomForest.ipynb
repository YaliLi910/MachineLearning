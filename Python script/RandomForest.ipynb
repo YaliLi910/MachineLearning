{
  "nbformat": 4,
  "nbformat_minor": 0,
  "metadata": {
    "kernelspec": {
      "name": "python3",
      "display_name": "Python 3"
    },
    "language_info": {
      "codemirror_mode": {
        "name": "ipython",
        "version": 3
      },
      "file_extension": ".py",
      "mimetype": "text/x-python",
      "name": "python",
      "nbconvert_exporter": "python",
      "pygments_lexer": "ipython3",
      "version": "3.7.3"
    },
    "colab": {
      "name": "Classifier.ipynb",
      "provenance": [],
      "collapsed_sections": [],
      "machine_shape": "hm"
    },
    "accelerator": "GPU"
  },
  "cells": [
    {
      "cell_type": "code",
      "metadata": {
        "id": "LC-ZwpBlCIjP",
        "colab_type": "code",
        "colab": {}
      },
      "source": [
        "import pandas as pd\n",
        "import numpy as np"
      ],
      "execution_count": 0,
      "outputs": []
    },
    {
      "cell_type": "code",
      "metadata": {
        "id": "OtNznDr1C3Em",
        "colab_type": "code",
        "outputId": "c28cbb1b-f8b0-4e10-fcbb-64cffdca1dcd",
        "colab": {
          "base_uri": "https://localhost:8080/",
          "height": 122
        }
      },
      "source": [
        "from google.colab import drive\n",
        "drive.mount('/content/drive')"
      ],
      "execution_count": 2,
      "outputs": [
        {
          "output_type": "stream",
          "text": [
            "Go to this URL in a browser: https://accounts.google.com/o/oauth2/auth?client_id=947318989803-6bn6qk8qdgf4n4g3pfee6491hc0brc4i.apps.googleusercontent.com&redirect_uri=urn%3aietf%3awg%3aoauth%3a2.0%3aoob&response_type=code&scope=email%20https%3a%2f%2fwww.googleapis.com%2fauth%2fdocs.test%20https%3a%2f%2fwww.googleapis.com%2fauth%2fdrive%20https%3a%2f%2fwww.googleapis.com%2fauth%2fdrive.photos.readonly%20https%3a%2f%2fwww.googleapis.com%2fauth%2fpeopleapi.readonly\n",
            "\n",
            "Enter your authorization code:\n",
            "··········\n",
            "Mounted at /content/drive\n"
          ],
          "name": "stdout"
        }
      ]
    },
    {
      "cell_type": "code",
      "metadata": {
        "id": "BrM-jdD8_pMR",
        "colab_type": "code",
        "colab": {}
      },
      "source": [
        "path = 'drive/Shared drives/Predictive Fall 2019/GRevenue data/'"
      ],
      "execution_count": 0,
      "outputs": []
    },
    {
      "cell_type": "code",
      "metadata": {
        "id": "FtbgdxXECIjU",
        "colab_type": "code",
        "outputId": "dfc631cf-962e-4269-82f4-7d54409a022b",
        "colab": {
          "base_uri": "https://localhost:8080/",
          "height": 51
        }
      },
      "source": [
        "train_df = pd.read_csv(path + 'gtrain_df.csv')"
      ],
      "execution_count": 4,
      "outputs": [
        {
          "output_type": "stream",
          "text": [
            "/usr/local/lib/python3.6/dist-packages/IPython/core/interactiveshell.py:2718: DtypeWarning: Columns (3) have mixed types. Specify dtype option on import or set low_memory=False.\n",
            "  interactivity=interactivity, compiler=compiler, result=result)\n"
          ],
          "name": "stderr"
        }
      ]
    },
    {
      "cell_type": "code",
      "metadata": {
        "id": "QIusHev7CIja",
        "colab_type": "code",
        "outputId": "13b36344-961d-4bf4-8a9c-db8530d15a9e",
        "colab": {
          "base_uri": "https://localhost:8080/",
          "height": 51
        }
      },
      "source": [
        "test_df = pd.read_csv(path + 'gtest_df.csv')"
      ],
      "execution_count": 5,
      "outputs": [
        {
          "output_type": "stream",
          "text": [
            "/usr/local/lib/python3.6/dist-packages/IPython/core/interactiveshell.py:2718: DtypeWarning: Columns (3) have mixed types. Specify dtype option on import or set low_memory=False.\n",
            "  interactivity=interactivity, compiler=compiler, result=result)\n"
          ],
          "name": "stderr"
        }
      ]
    },
    {
      "cell_type": "code",
      "metadata": {
        "id": "7B7tQMgxCIjf",
        "colab_type": "code",
        "outputId": "7cf1c245-7925-4ebb-ab63-98df956d2319",
        "colab": {
          "base_uri": "https://localhost:8080/",
          "height": 241
        }
      },
      "source": [
        "train_df.head()"
      ],
      "execution_count": 6,
      "outputs": [
        {
          "output_type": "execute_result",
          "data": {
            "text/html": [
              "<div>\n",
              "<style scoped>\n",
              "    .dataframe tbody tr th:only-of-type {\n",
              "        vertical-align: middle;\n",
              "    }\n",
              "\n",
              "    .dataframe tbody tr th {\n",
              "        vertical-align: top;\n",
              "    }\n",
              "\n",
              "    .dataframe thead th {\n",
              "        text-align: right;\n",
              "    }\n",
              "</style>\n",
              "<table border=\"1\" class=\"dataframe\">\n",
              "  <thead>\n",
              "    <tr style=\"text-align: right;\">\n",
              "      <th></th>\n",
              "      <th>Unnamed: 0</th>\n",
              "      <th>channelGrouping</th>\n",
              "      <th>date</th>\n",
              "      <th>fullVisitorId</th>\n",
              "      <th>visitId</th>\n",
              "      <th>visitNumber</th>\n",
              "      <th>visitStartTime</th>\n",
              "      <th>browser</th>\n",
              "      <th>deviceCategory</th>\n",
              "      <th>isMobile</th>\n",
              "      <th>operatingSystem</th>\n",
              "      <th>city</th>\n",
              "      <th>continent</th>\n",
              "      <th>country</th>\n",
              "      <th>metro</th>\n",
              "      <th>networkDomain</th>\n",
              "      <th>region</th>\n",
              "      <th>subContinent</th>\n",
              "      <th>bounces</th>\n",
              "      <th>hits</th>\n",
              "      <th>newVisits</th>\n",
              "      <th>pageviews</th>\n",
              "      <th>sessionQualityDim</th>\n",
              "      <th>timeOnSite</th>\n",
              "      <th>totalTransactionRevenue</th>\n",
              "      <th>transactionRevenue</th>\n",
              "      <th>transactions</th>\n",
              "      <th>adContent</th>\n",
              "      <th>adwordsClickInfo.adNetworkType</th>\n",
              "      <th>adwordsClickInfo.gclId</th>\n",
              "      <th>adwordsClickInfo.isVideoAd</th>\n",
              "      <th>adwordsClickInfo.page</th>\n",
              "      <th>adwordsClickInfo.slot</th>\n",
              "      <th>campaign</th>\n",
              "      <th>isTrueDirect</th>\n",
              "      <th>keyword</th>\n",
              "      <th>medium</th>\n",
              "      <th>referralPath</th>\n",
              "      <th>source</th>\n",
              "    </tr>\n",
              "  </thead>\n",
              "  <tbody>\n",
              "    <tr>\n",
              "      <th>0</th>\n",
              "      <td>0</td>\n",
              "      <td>4</td>\n",
              "      <td>20171016</td>\n",
              "      <td>3162355547410993243</td>\n",
              "      <td>1508198450</td>\n",
              "      <td>1.0</td>\n",
              "      <td>1.508198e+09</td>\n",
              "      <td>67</td>\n",
              "      <td>0</td>\n",
              "      <td>False</td>\n",
              "      <td>13</td>\n",
              "      <td>951</td>\n",
              "      <td>4</td>\n",
              "      <td>201</td>\n",
              "      <td>27</td>\n",
              "      <td>0</td>\n",
              "      <td>426</td>\n",
              "      <td>15</td>\n",
              "      <td>1.0</td>\n",
              "      <td>1.0</td>\n",
              "      <td>1.0</td>\n",
              "      <td>1.0</td>\n",
              "      <td>1.0</td>\n",
              "      <td>NaN</td>\n",
              "      <td>NaN</td>\n",
              "      <td>NaN</td>\n",
              "      <td>NaN</td>\n",
              "      <td>59</td>\n",
              "      <td>3</td>\n",
              "      <td>54456</td>\n",
              "      <td>1</td>\n",
              "      <td>3</td>\n",
              "      <td>3</td>\n",
              "      <td>27</td>\n",
              "      <td>1</td>\n",
              "      <td>2631</td>\n",
              "      <td>5</td>\n",
              "      <td>3196</td>\n",
              "      <td>99</td>\n",
              "    </tr>\n",
              "    <tr>\n",
              "      <th>1</th>\n",
              "      <td>1</td>\n",
              "      <td>6</td>\n",
              "      <td>20171016</td>\n",
              "      <td>8934116514970143966</td>\n",
              "      <td>1508176307</td>\n",
              "      <td>6.0</td>\n",
              "      <td>1.508176e+09</td>\n",
              "      <td>58</td>\n",
              "      <td>0</td>\n",
              "      <td>False</td>\n",
              "      <td>17</td>\n",
              "      <td>136</td>\n",
              "      <td>2</td>\n",
              "      <td>133</td>\n",
              "      <td>3</td>\n",
              "      <td>0</td>\n",
              "      <td>454</td>\n",
              "      <td>4</td>\n",
              "      <td>NaN</td>\n",
              "      <td>2.0</td>\n",
              "      <td>NaN</td>\n",
              "      <td>2.0</td>\n",
              "      <td>2.0</td>\n",
              "      <td>28.0</td>\n",
              "      <td>NaN</td>\n",
              "      <td>NaN</td>\n",
              "      <td>NaN</td>\n",
              "      <td>59</td>\n",
              "      <td>3</td>\n",
              "      <td>54456</td>\n",
              "      <td>1</td>\n",
              "      <td>3</td>\n",
              "      <td>3</td>\n",
              "      <td>27</td>\n",
              "      <td>1</td>\n",
              "      <td>1942</td>\n",
              "      <td>6</td>\n",
              "      <td>300</td>\n",
              "      <td>301</td>\n",
              "    </tr>\n",
              "    <tr>\n",
              "      <th>2</th>\n",
              "      <td>2</td>\n",
              "      <td>2</td>\n",
              "      <td>20171016</td>\n",
              "      <td>7992466427990357681</td>\n",
              "      <td>1508201613</td>\n",
              "      <td>1.0</td>\n",
              "      <td>1.508202e+09</td>\n",
              "      <td>58</td>\n",
              "      <td>1</td>\n",
              "      <td>True</td>\n",
              "      <td>1</td>\n",
              "      <td>951</td>\n",
              "      <td>2</td>\n",
              "      <td>133</td>\n",
              "      <td>27</td>\n",
              "      <td>34379</td>\n",
              "      <td>426</td>\n",
              "      <td>4</td>\n",
              "      <td>NaN</td>\n",
              "      <td>2.0</td>\n",
              "      <td>1.0</td>\n",
              "      <td>2.0</td>\n",
              "      <td>1.0</td>\n",
              "      <td>38.0</td>\n",
              "      <td>NaN</td>\n",
              "      <td>NaN</td>\n",
              "      <td>NaN</td>\n",
              "      <td>59</td>\n",
              "      <td>3</td>\n",
              "      <td>54456</td>\n",
              "      <td>1</td>\n",
              "      <td>3</td>\n",
              "      <td>3</td>\n",
              "      <td>27</td>\n",
              "      <td>0</td>\n",
              "      <td>1942</td>\n",
              "      <td>0</td>\n",
              "      <td>3196</td>\n",
              "      <td>0</td>\n",
              "    </tr>\n",
              "    <tr>\n",
              "      <th>3</th>\n",
              "      <td>3</td>\n",
              "      <td>4</td>\n",
              "      <td>20171016</td>\n",
              "      <td>9075655783635761930</td>\n",
              "      <td>1508169851</td>\n",
              "      <td>1.0</td>\n",
              "      <td>1.508170e+09</td>\n",
              "      <td>58</td>\n",
              "      <td>0</td>\n",
              "      <td>False</td>\n",
              "      <td>13</td>\n",
              "      <td>951</td>\n",
              "      <td>3</td>\n",
              "      <td>125</td>\n",
              "      <td>27</td>\n",
              "      <td>31919</td>\n",
              "      <td>426</td>\n",
              "      <td>14</td>\n",
              "      <td>NaN</td>\n",
              "      <td>2.0</td>\n",
              "      <td>1.0</td>\n",
              "      <td>2.0</td>\n",
              "      <td>1.0</td>\n",
              "      <td>1.0</td>\n",
              "      <td>NaN</td>\n",
              "      <td>NaN</td>\n",
              "      <td>NaN</td>\n",
              "      <td>59</td>\n",
              "      <td>3</td>\n",
              "      <td>54456</td>\n",
              "      <td>1</td>\n",
              "      <td>3</td>\n",
              "      <td>3</td>\n",
              "      <td>27</td>\n",
              "      <td>1</td>\n",
              "      <td>4214</td>\n",
              "      <td>5</td>\n",
              "      <td>3196</td>\n",
              "      <td>99</td>\n",
              "    </tr>\n",
              "    <tr>\n",
              "      <th>4</th>\n",
              "      <td>4</td>\n",
              "      <td>4</td>\n",
              "      <td>20171016</td>\n",
              "      <td>6960673291025684308</td>\n",
              "      <td>1508190552</td>\n",
              "      <td>1.0</td>\n",
              "      <td>1.508191e+09</td>\n",
              "      <td>58</td>\n",
              "      <td>0</td>\n",
              "      <td>False</td>\n",
              "      <td>13</td>\n",
              "      <td>951</td>\n",
              "      <td>2</td>\n",
              "      <td>38</td>\n",
              "      <td>27</td>\n",
              "      <td>21354</td>\n",
              "      <td>426</td>\n",
              "      <td>16</td>\n",
              "      <td>NaN</td>\n",
              "      <td>2.0</td>\n",
              "      <td>1.0</td>\n",
              "      <td>2.0</td>\n",
              "      <td>1.0</td>\n",
              "      <td>52.0</td>\n",
              "      <td>NaN</td>\n",
              "      <td>NaN</td>\n",
              "      <td>NaN</td>\n",
              "      <td>59</td>\n",
              "      <td>3</td>\n",
              "      <td>54456</td>\n",
              "      <td>1</td>\n",
              "      <td>3</td>\n",
              "      <td>3</td>\n",
              "      <td>27</td>\n",
              "      <td>1</td>\n",
              "      <td>4214</td>\n",
              "      <td>5</td>\n",
              "      <td>3196</td>\n",
              "      <td>99</td>\n",
              "    </tr>\n",
              "  </tbody>\n",
              "</table>\n",
              "</div>"
            ],
            "text/plain": [
              "   Unnamed: 0  channelGrouping      date  ... medium  referralPath  source\n",
              "0           0                4  20171016  ...      5          3196      99\n",
              "1           1                6  20171016  ...      6           300     301\n",
              "2           2                2  20171016  ...      0          3196       0\n",
              "3           3                4  20171016  ...      5          3196      99\n",
              "4           4                4  20171016  ...      5          3196      99\n",
              "\n",
              "[5 rows x 39 columns]"
            ]
          },
          "metadata": {
            "tags": []
          },
          "execution_count": 6
        }
      ]
    },
    {
      "cell_type": "code",
      "metadata": {
        "id": "Gbs7VmyOP0Gq",
        "colab_type": "code",
        "colab": {
          "base_uri": "https://localhost:8080/",
          "height": 241
        },
        "outputId": "5749ee07-47b7-4b4e-8aef-4e7fc95d53ca"
      },
      "source": [
        "test_df.head()"
      ],
      "execution_count": 7,
      "outputs": [
        {
          "output_type": "execute_result",
          "data": {
            "text/html": [
              "<div>\n",
              "<style scoped>\n",
              "    .dataframe tbody tr th:only-of-type {\n",
              "        vertical-align: middle;\n",
              "    }\n",
              "\n",
              "    .dataframe tbody tr th {\n",
              "        vertical-align: top;\n",
              "    }\n",
              "\n",
              "    .dataframe thead th {\n",
              "        text-align: right;\n",
              "    }\n",
              "</style>\n",
              "<table border=\"1\" class=\"dataframe\">\n",
              "  <thead>\n",
              "    <tr style=\"text-align: right;\">\n",
              "      <th></th>\n",
              "      <th>Unnamed: 0</th>\n",
              "      <th>channelGrouping</th>\n",
              "      <th>date</th>\n",
              "      <th>fullVisitorId</th>\n",
              "      <th>visitId</th>\n",
              "      <th>visitNumber</th>\n",
              "      <th>visitStartTime</th>\n",
              "      <th>browser</th>\n",
              "      <th>deviceCategory</th>\n",
              "      <th>isMobile</th>\n",
              "      <th>operatingSystem</th>\n",
              "      <th>city</th>\n",
              "      <th>continent</th>\n",
              "      <th>country</th>\n",
              "      <th>metro</th>\n",
              "      <th>networkDomain</th>\n",
              "      <th>region</th>\n",
              "      <th>subContinent</th>\n",
              "      <th>bounces</th>\n",
              "      <th>hits</th>\n",
              "      <th>newVisits</th>\n",
              "      <th>pageviews</th>\n",
              "      <th>sessionQualityDim</th>\n",
              "      <th>timeOnSite</th>\n",
              "      <th>totalTransactionRevenue</th>\n",
              "      <th>transactionRevenue</th>\n",
              "      <th>transactions</th>\n",
              "      <th>adContent</th>\n",
              "      <th>adwordsClickInfo.adNetworkType</th>\n",
              "      <th>adwordsClickInfo.gclId</th>\n",
              "      <th>adwordsClickInfo.isVideoAd</th>\n",
              "      <th>adwordsClickInfo.page</th>\n",
              "      <th>adwordsClickInfo.slot</th>\n",
              "      <th>campaign</th>\n",
              "      <th>isTrueDirect</th>\n",
              "      <th>keyword</th>\n",
              "      <th>medium</th>\n",
              "      <th>referralPath</th>\n",
              "      <th>source</th>\n",
              "    </tr>\n",
              "  </thead>\n",
              "  <tbody>\n",
              "    <tr>\n",
              "      <th>0</th>\n",
              "      <td>0</td>\n",
              "      <td>4</td>\n",
              "      <td>20180511</td>\n",
              "      <td>7460955084541987166</td>\n",
              "      <td>1526099341</td>\n",
              "      <td>2.0</td>\n",
              "      <td>1.526099e+09</td>\n",
              "      <td>25</td>\n",
              "      <td>1</td>\n",
              "      <td>True</td>\n",
              "      <td>1</td>\n",
              "      <td>0</td>\n",
              "      <td>3</td>\n",
              "      <td>86</td>\n",
              "      <td>0</td>\n",
              "      <td>14600</td>\n",
              "      <td>67</td>\n",
              "      <td>18</td>\n",
              "      <td>NaN</td>\n",
              "      <td>4.0</td>\n",
              "      <td>NaN</td>\n",
              "      <td>3.0</td>\n",
              "      <td>1</td>\n",
              "      <td>973.0</td>\n",
              "      <td>NaN</td>\n",
              "      <td>NaN</td>\n",
              "      <td>NaN</td>\n",
              "      <td>0</td>\n",
              "      <td>2</td>\n",
              "      <td>9016</td>\n",
              "      <td>1</td>\n",
              "      <td>2</td>\n",
              "      <td>5</td>\n",
              "      <td>3</td>\n",
              "      <td>0</td>\n",
              "      <td>2</td>\n",
              "      <td>5</td>\n",
              "      <td>0</td>\n",
              "      <td>62</td>\n",
              "    </tr>\n",
              "    <tr>\n",
              "      <th>1</th>\n",
              "      <td>1</td>\n",
              "      <td>2</td>\n",
              "      <td>20180511</td>\n",
              "      <td>460252456180441002</td>\n",
              "      <td>1526064483</td>\n",
              "      <td>166.0</td>\n",
              "      <td>1.526064e+09</td>\n",
              "      <td>25</td>\n",
              "      <td>0</td>\n",
              "      <td>False</td>\n",
              "      <td>7</td>\n",
              "      <td>389</td>\n",
              "      <td>2</td>\n",
              "      <td>200</td>\n",
              "      <td>69</td>\n",
              "      <td>0</td>\n",
              "      <td>37</td>\n",
              "      <td>12</td>\n",
              "      <td>NaN</td>\n",
              "      <td>4.0</td>\n",
              "      <td>NaN</td>\n",
              "      <td>3.0</td>\n",
              "      <td>1</td>\n",
              "      <td>49.0</td>\n",
              "      <td>NaN</td>\n",
              "      <td>NaN</td>\n",
              "      <td>NaN</td>\n",
              "      <td>0</td>\n",
              "      <td>2</td>\n",
              "      <td>9016</td>\n",
              "      <td>1</td>\n",
              "      <td>2</td>\n",
              "      <td>5</td>\n",
              "      <td>3</td>\n",
              "      <td>0</td>\n",
              "      <td>3</td>\n",
              "      <td>0</td>\n",
              "      <td>0</td>\n",
              "      <td>0</td>\n",
              "    </tr>\n",
              "    <tr>\n",
              "      <th>2</th>\n",
              "      <td>2</td>\n",
              "      <td>4</td>\n",
              "      <td>20180511</td>\n",
              "      <td>3461808543879602873</td>\n",
              "      <td>1526067157</td>\n",
              "      <td>2.0</td>\n",
              "      <td>1.526067e+09</td>\n",
              "      <td>25</td>\n",
              "      <td>0</td>\n",
              "      <td>False</td>\n",
              "      <td>3</td>\n",
              "      <td>502</td>\n",
              "      <td>2</td>\n",
              "      <td>200</td>\n",
              "      <td>81</td>\n",
              "      <td>10224</td>\n",
              "      <td>268</td>\n",
              "      <td>12</td>\n",
              "      <td>NaN</td>\n",
              "      <td>4.0</td>\n",
              "      <td>NaN</td>\n",
              "      <td>3.0</td>\n",
              "      <td>1</td>\n",
              "      <td>24.0</td>\n",
              "      <td>NaN</td>\n",
              "      <td>NaN</td>\n",
              "      <td>NaN</td>\n",
              "      <td>0</td>\n",
              "      <td>2</td>\n",
              "      <td>9016</td>\n",
              "      <td>1</td>\n",
              "      <td>2</td>\n",
              "      <td>5</td>\n",
              "      <td>3</td>\n",
              "      <td>0</td>\n",
              "      <td>2</td>\n",
              "      <td>5</td>\n",
              "      <td>0</td>\n",
              "      <td>62</td>\n",
              "    </tr>\n",
              "    <tr>\n",
              "      <th>3</th>\n",
              "      <td>3</td>\n",
              "      <td>2</td>\n",
              "      <td>20180511</td>\n",
              "      <td>975129477712150630</td>\n",
              "      <td>1526107551</td>\n",
              "      <td>4.0</td>\n",
              "      <td>1.526108e+09</td>\n",
              "      <td>25</td>\n",
              "      <td>1</td>\n",
              "      <td>True</td>\n",
              "      <td>21</td>\n",
              "      <td>185</td>\n",
              "      <td>2</td>\n",
              "      <td>200</td>\n",
              "      <td>25</td>\n",
              "      <td>0</td>\n",
              "      <td>235</td>\n",
              "      <td>12</td>\n",
              "      <td>NaN</td>\n",
              "      <td>5.0</td>\n",
              "      <td>NaN</td>\n",
              "      <td>4.0</td>\n",
              "      <td>1</td>\n",
              "      <td>25.0</td>\n",
              "      <td>NaN</td>\n",
              "      <td>NaN</td>\n",
              "      <td>NaN</td>\n",
              "      <td>0</td>\n",
              "      <td>2</td>\n",
              "      <td>9016</td>\n",
              "      <td>1</td>\n",
              "      <td>2</td>\n",
              "      <td>5</td>\n",
              "      <td>3</td>\n",
              "      <td>0</td>\n",
              "      <td>3</td>\n",
              "      <td>0</td>\n",
              "      <td>0</td>\n",
              "      <td>0</td>\n",
              "    </tr>\n",
              "    <tr>\n",
              "      <th>4</th>\n",
              "      <td>4</td>\n",
              "      <td>4</td>\n",
              "      <td>20180511</td>\n",
              "      <td>8381672768065729990</td>\n",
              "      <td>1526060254</td>\n",
              "      <td>1.0</td>\n",
              "      <td>1.526060e+09</td>\n",
              "      <td>33</td>\n",
              "      <td>2</td>\n",
              "      <td>True</td>\n",
              "      <td>18</td>\n",
              "      <td>191</td>\n",
              "      <td>2</td>\n",
              "      <td>200</td>\n",
              "      <td>40</td>\n",
              "      <td>2897</td>\n",
              "      <td>37</td>\n",
              "      <td>12</td>\n",
              "      <td>NaN</td>\n",
              "      <td>5.0</td>\n",
              "      <td>1.0</td>\n",
              "      <td>4.0</td>\n",
              "      <td>1</td>\n",
              "      <td>49.0</td>\n",
              "      <td>NaN</td>\n",
              "      <td>NaN</td>\n",
              "      <td>NaN</td>\n",
              "      <td>0</td>\n",
              "      <td>2</td>\n",
              "      <td>9016</td>\n",
              "      <td>1</td>\n",
              "      <td>2</td>\n",
              "      <td>5</td>\n",
              "      <td>3</td>\n",
              "      <td>1</td>\n",
              "      <td>2</td>\n",
              "      <td>5</td>\n",
              "      <td>0</td>\n",
              "      <td>62</td>\n",
              "    </tr>\n",
              "  </tbody>\n",
              "</table>\n",
              "</div>"
            ],
            "text/plain": [
              "   Unnamed: 0  channelGrouping      date  ... medium  referralPath  source\n",
              "0           0                4  20180511  ...      5             0      62\n",
              "1           1                2  20180511  ...      0             0       0\n",
              "2           2                4  20180511  ...      5             0      62\n",
              "3           3                2  20180511  ...      0             0       0\n",
              "4           4                4  20180511  ...      5             0      62\n",
              "\n",
              "[5 rows x 39 columns]"
            ]
          },
          "metadata": {
            "tags": []
          },
          "execution_count": 7
        }
      ]
    },
    {
      "cell_type": "code",
      "metadata": {
        "id": "wMkopQ5cCIjn",
        "colab_type": "code",
        "outputId": "dd066e7d-9eda-4ecb-dd2e-76c4a1b81516",
        "colab": {
          "base_uri": "https://localhost:8080/",
          "height": 34
        }
      },
      "source": [
        "train_df.shape"
      ],
      "execution_count": 8,
      "outputs": [
        {
          "output_type": "execute_result",
          "data": {
            "text/plain": [
              "(1708337, 39)"
            ]
          },
          "metadata": {
            "tags": []
          },
          "execution_count": 8
        }
      ]
    },
    {
      "cell_type": "code",
      "metadata": {
        "id": "apcGb4AtCIjq",
        "colab_type": "code",
        "colab": {}
      },
      "source": [
        "train_df['visitStartTime']= pd.to_datetime(train_df['visitStartTime'],unit = 's')\n",
        "test_df['visitStartTime']= pd.to_datetime(test_df['visitStartTime'],unit = 's')"
      ],
      "execution_count": 0,
      "outputs": []
    },
    {
      "cell_type": "code",
      "metadata": {
        "id": "3tD9AhmDCIjt",
        "colab_type": "code",
        "colab": {}
      },
      "source": [
        "# Extracting the time seasonality from the data \n",
        "\n",
        "train_df[\"DayOfWeek\"] = train_df['visitStartTime'].dt.dayofweek\n",
        "test_df[\"DayOfWeek\"] = test_df['visitStartTime'].dt.dayofweek"
      ],
      "execution_count": 0,
      "outputs": []
    },
    {
      "cell_type": "code",
      "metadata": {
        "id": "2HcnoDnwCIjw",
        "colab_type": "code",
        "colab": {}
      },
      "source": [
        "train_df[\"month\"] = train_df['visitStartTime'].dt.month\n",
        "test_df[\"month\"] = test_df['visitStartTime'].dt.month"
      ],
      "execution_count": 0,
      "outputs": []
    },
    {
      "cell_type": "code",
      "metadata": {
        "id": "R_wHIW60CIj0",
        "colab_type": "code",
        "colab": {}
      },
      "source": [
        "train_df[\"HourOfDay\"] = train_df['visitStartTime'].dt.hour\n",
        "test_df[\"HourOfDay\"] = test_df['visitStartTime'].dt.hour"
      ],
      "execution_count": 0,
      "outputs": []
    },
    {
      "cell_type": "code",
      "metadata": {
        "id": "PzPjnE7JCIj2",
        "colab_type": "code",
        "colab": {}
      },
      "source": [
        "train_df.drop(['Unnamed: 0', 'date','visitStartTime'],axis = 1, inplace = True)\n",
        "test_df.drop(['Unnamed: 0', 'date','visitStartTime'],axis = 1, inplace = True)"
      ],
      "execution_count": 0,
      "outputs": []
    },
    {
      "cell_type": "code",
      "metadata": {
        "id": "GSNlT2MJCIj5",
        "colab_type": "code",
        "outputId": "0bf97360-ec5c-4d0b-efa5-9b00b227a70f",
        "colab": {
          "base_uri": "https://localhost:8080/",
          "height": 153
        }
      },
      "source": [
        "#columns with NA values\n",
        "train_df.columns[train_df.isna().any()].tolist()"
      ],
      "execution_count": 14,
      "outputs": [
        {
          "output_type": "execute_result",
          "data": {
            "text/plain": [
              "['bounces',\n",
              " 'newVisits',\n",
              " 'pageviews',\n",
              " 'sessionQualityDim',\n",
              " 'timeOnSite',\n",
              " 'totalTransactionRevenue',\n",
              " 'transactionRevenue',\n",
              " 'transactions']"
            ]
          },
          "metadata": {
            "tags": []
          },
          "execution_count": 14
        }
      ]
    },
    {
      "cell_type": "code",
      "metadata": {
        "id": "58Ecr0lhCIj8",
        "colab_type": "code",
        "outputId": "f2d94acd-e876-491b-b0f0-435c9c334e4b",
        "colab": {
          "base_uri": "https://localhost:8080/",
          "height": 297
        }
      },
      "source": [
        "percent_missing = train_df.isnull().sum() * 100 / len(train_df)\n",
        "missing_value_df = pd.DataFrame({'column_name': train_df.columns,\n",
        "                                 'percent_missing': percent_missing})\n",
        "missing_value_df.sort_values('percent_missing', inplace=True)\n",
        "missing_value_df[missing_value_df['percent_missing'] > 0]"
      ],
      "execution_count": 15,
      "outputs": [
        {
          "output_type": "execute_result",
          "data": {
            "text/html": [
              "<div>\n",
              "<style scoped>\n",
              "    .dataframe tbody tr th:only-of-type {\n",
              "        vertical-align: middle;\n",
              "    }\n",
              "\n",
              "    .dataframe tbody tr th {\n",
              "        vertical-align: top;\n",
              "    }\n",
              "\n",
              "    .dataframe thead th {\n",
              "        text-align: right;\n",
              "    }\n",
              "</style>\n",
              "<table border=\"1\" class=\"dataframe\">\n",
              "  <thead>\n",
              "    <tr style=\"text-align: right;\">\n",
              "      <th></th>\n",
              "      <th>column_name</th>\n",
              "      <th>percent_missing</th>\n",
              "    </tr>\n",
              "  </thead>\n",
              "  <tbody>\n",
              "    <tr>\n",
              "      <th>pageviews</th>\n",
              "      <td>pageviews</td>\n",
              "      <td>0.013990</td>\n",
              "    </tr>\n",
              "    <tr>\n",
              "      <th>newVisits</th>\n",
              "      <td>newVisits</td>\n",
              "      <td>23.467676</td>\n",
              "    </tr>\n",
              "    <tr>\n",
              "      <th>sessionQualityDim</th>\n",
              "      <td>sessionQualityDim</td>\n",
              "      <td>48.893983</td>\n",
              "    </tr>\n",
              "    <tr>\n",
              "      <th>bounces</th>\n",
              "      <td>bounces</td>\n",
              "      <td>48.980910</td>\n",
              "    </tr>\n",
              "    <tr>\n",
              "      <th>timeOnSite</th>\n",
              "      <td>timeOnSite</td>\n",
              "      <td>51.178076</td>\n",
              "    </tr>\n",
              "    <tr>\n",
              "      <th>transactions</th>\n",
              "      <td>transactions</td>\n",
              "      <td>98.913622</td>\n",
              "    </tr>\n",
              "    <tr>\n",
              "      <th>transactionRevenue</th>\n",
              "      <td>transactionRevenue</td>\n",
              "      <td>98.916256</td>\n",
              "    </tr>\n",
              "    <tr>\n",
              "      <th>totalTransactionRevenue</th>\n",
              "      <td>totalTransactionRevenue</td>\n",
              "      <td>98.916256</td>\n",
              "    </tr>\n",
              "  </tbody>\n",
              "</table>\n",
              "</div>"
            ],
            "text/plain": [
              "                                     column_name  percent_missing\n",
              "pageviews                              pageviews         0.013990\n",
              "newVisits                              newVisits        23.467676\n",
              "sessionQualityDim              sessionQualityDim        48.893983\n",
              "bounces                                  bounces        48.980910\n",
              "timeOnSite                            timeOnSite        51.178076\n",
              "transactions                        transactions        98.913622\n",
              "transactionRevenue            transactionRevenue        98.916256\n",
              "totalTransactionRevenue  totalTransactionRevenue        98.916256"
            ]
          },
          "metadata": {
            "tags": []
          },
          "execution_count": 15
        }
      ]
    },
    {
      "cell_type": "code",
      "metadata": {
        "id": "FNOnal9PCIj_",
        "colab_type": "code",
        "outputId": "e175ef0e-1226-4c16-c941-7115d78873a0",
        "colab": {
          "base_uri": "https://localhost:8080/",
          "height": 266
        }
      },
      "source": [
        "percent_missing = test_df.isnull().sum() * 100 / len(test_df)\n",
        "missing_value_df = pd.DataFrame({'column_name': test_df.columns,\n",
        "                                 'percent_missing': percent_missing})\n",
        "missing_value_df.sort_values('percent_missing', inplace=True)\n",
        "missing_value_df[missing_value_df['percent_missing'] > 0]"
      ],
      "execution_count": 16,
      "outputs": [
        {
          "output_type": "execute_result",
          "data": {
            "text/html": [
              "<div>\n",
              "<style scoped>\n",
              "    .dataframe tbody tr th:only-of-type {\n",
              "        vertical-align: middle;\n",
              "    }\n",
              "\n",
              "    .dataframe tbody tr th {\n",
              "        vertical-align: top;\n",
              "    }\n",
              "\n",
              "    .dataframe thead th {\n",
              "        text-align: right;\n",
              "    }\n",
              "</style>\n",
              "<table border=\"1\" class=\"dataframe\">\n",
              "  <thead>\n",
              "    <tr style=\"text-align: right;\">\n",
              "      <th></th>\n",
              "      <th>column_name</th>\n",
              "      <th>percent_missing</th>\n",
              "    </tr>\n",
              "  </thead>\n",
              "  <tbody>\n",
              "    <tr>\n",
              "      <th>pageviews</th>\n",
              "      <td>pageviews</td>\n",
              "      <td>0.025150</td>\n",
              "    </tr>\n",
              "    <tr>\n",
              "      <th>newVisits</th>\n",
              "      <td>newVisits</td>\n",
              "      <td>28.766724</td>\n",
              "    </tr>\n",
              "    <tr>\n",
              "      <th>timeOnSite</th>\n",
              "      <td>timeOnSite</td>\n",
              "      <td>45.739799</td>\n",
              "    </tr>\n",
              "    <tr>\n",
              "      <th>bounces</th>\n",
              "      <td>bounces</td>\n",
              "      <td>54.511204</td>\n",
              "    </tr>\n",
              "    <tr>\n",
              "      <th>transactions</th>\n",
              "      <td>transactions</td>\n",
              "      <td>98.429987</td>\n",
              "    </tr>\n",
              "    <tr>\n",
              "      <th>transactionRevenue</th>\n",
              "      <td>transactionRevenue</td>\n",
              "      <td>98.856044</td>\n",
              "    </tr>\n",
              "    <tr>\n",
              "      <th>totalTransactionRevenue</th>\n",
              "      <td>totalTransactionRevenue</td>\n",
              "      <td>98.856044</td>\n",
              "    </tr>\n",
              "  </tbody>\n",
              "</table>\n",
              "</div>"
            ],
            "text/plain": [
              "                                     column_name  percent_missing\n",
              "pageviews                              pageviews         0.025150\n",
              "newVisits                              newVisits        28.766724\n",
              "timeOnSite                            timeOnSite        45.739799\n",
              "bounces                                  bounces        54.511204\n",
              "transactions                        transactions        98.429987\n",
              "transactionRevenue            transactionRevenue        98.856044\n",
              "totalTransactionRevenue  totalTransactionRevenue        98.856044"
            ]
          },
          "metadata": {
            "tags": []
          },
          "execution_count": 16
        }
      ]
    },
    {
      "cell_type": "code",
      "metadata": {
        "id": "corw9lbkCIkC",
        "colab_type": "code",
        "outputId": "5fce587c-7fae-46b7-bc23-bd991721e9ef",
        "colab": {
          "base_uri": "https://localhost:8080/",
          "height": 374
        }
      },
      "source": [
        "train_df.pageviews.unique()"
      ],
      "execution_count": 17,
      "outputs": [
        {
          "output_type": "execute_result",
          "data": {
            "text/plain": [
              "array([  1.,   2.,   3.,   4.,   5.,   6.,   7.,   8.,   9.,  10.,  11.,\n",
              "        12.,  13.,  14.,  15.,  16.,  17.,  18.,  20.,  19.,  21.,  23.,\n",
              "        22.,  26.,  28.,  25.,  31.,  27.,  24.,  29.,  30.,  32.,  33.,\n",
              "        42.,  38.,  53.,  40.,  62.,  61.,  54.,  60., 111.,  98.,  34.,\n",
              "        35.,  36.,  37.,  39.,  43.,  45.,  47.,  52.,  44.,  50.,  49.,\n",
              "        46.,  51.,  56.,  59.,  71.,  57.,  82.,  84.,  92.,  90.,  68.,\n",
              "       115.,  nan,  41.,  79., 138.,  48.,  69., 112.,  65.,  63.,  58.,\n",
              "        74., 165., 100.,  85.,  55.,  70.,  80.,  78.,  72., 188.,  73.,\n",
              "        75.,  86., 197.,  76.,  67., 102., 148.,  64., 103., 144.,  81.,\n",
              "       119.,  66., 104., 128., 230.,  87., 152., 101.,  94.,  83., 135.,\n",
              "        91.,  99., 118., 107., 140., 108.,  77., 202., 127.,  93., 106.,\n",
              "       155., 117.,  89., 143., 105.,  95., 110., 137., 125., 120., 116.,\n",
              "       208., 126., 400., 333.,  97.,  96., 113., 327., 154., 121., 183.,\n",
              "       123., 141., 224.,  88., 157., 195., 343., 193., 156., 150., 122.,\n",
              "       145., 174., 147., 131., 169., 164., 249., 114., 189., 223., 386.,\n",
              "       199., 243., 194., 124., 139., 365., 483., 146., 309., 341., 469.,\n",
              "       162., 176., 270., 233., 153., 161., 179., 129., 220., 171., 191.,\n",
              "       323., 431., 351., 132., 305., 175., 130., 166., 200., 109., 185.,\n",
              "       245., 219., 167., 173., 133., 149., 283., 136., 500., 159., 168.,\n",
              "       182., 358., 466., 340., 215., 250., 142., 275., 312., 134., 196.,\n",
              "       324., 300., 190., 198., 210., 201., 232., 429., 213., 151., 186.])"
            ]
          },
          "metadata": {
            "tags": []
          },
          "execution_count": 17
        }
      ]
    },
    {
      "cell_type": "code",
      "metadata": {
        "id": "uSC9NY_8CIkF",
        "colab_type": "code",
        "outputId": "37e9e47f-9574-40d4-b4b4-cfc1be991ae9",
        "colab": {
          "base_uri": "https://localhost:8080/",
          "height": 34
        }
      },
      "source": [
        "train_df.newVisits.unique()"
      ],
      "execution_count": 18,
      "outputs": [
        {
          "output_type": "execute_result",
          "data": {
            "text/plain": [
              "array([ 1., nan])"
            ]
          },
          "metadata": {
            "tags": []
          },
          "execution_count": 18
        }
      ]
    },
    {
      "cell_type": "code",
      "metadata": {
        "id": "K3k9V2scCIkI",
        "colab_type": "code",
        "outputId": "b6748b5c-3b0c-423c-b7f0-98a7ab254439",
        "colab": {
          "base_uri": "https://localhost:8080/",
          "height": 187
        }
      },
      "source": [
        "train_df.sessionQualityDim.unique()"
      ],
      "execution_count": 19,
      "outputs": [
        {
          "output_type": "execute_result",
          "data": {
            "text/plain": [
              "array([  1.,   2.,   3.,   4.,   6.,   8.,   5.,   7.,  11.,  13.,   9.,\n",
              "        10.,  49.,  52.,  22.,  54.,  31.,  28.,  60.,  35.,  30.,  32.,\n",
              "        41.,  19.,  25.,  15.,  24.,  62.,  12.,  14.,  17.,  38.,  63.,\n",
              "        16.,  23.,  42.,  21.,  18.,  48.,  40.,  73.,  53.,  61.,  36.,\n",
              "        67.,  47.,  72.,  77.,  58.,  45.,  26.,  75.,  68.,  59.,  43.,\n",
              "        80.,  46.,  74.,  76.,  66.,  81.,  82.,  70.,  27.,  56.,  50.,\n",
              "        88.,  39.,  44.,  85.,  55.,  79.,  64.,  93.,  83.,  78.,  86.,\n",
              "        65.,  69.,  84.,  71.,  51.,  nan,  34.,  20.,  57.,  37.,  29.,\n",
              "        90.,  87.,  92.,  91.,  96.,  33.,  89.,  94.,  95.,  97.,  99.,\n",
              "        98., 100.])"
            ]
          },
          "metadata": {
            "tags": []
          },
          "execution_count": 19
        }
      ]
    },
    {
      "cell_type": "code",
      "metadata": {
        "id": "G2Pwj0yOCIkL",
        "colab_type": "code",
        "outputId": "17dc7109-671a-4996-d43f-1cd5cfc11c0f",
        "colab": {
          "base_uri": "https://localhost:8080/",
          "height": 34
        }
      },
      "source": [
        "train_df.bounces.unique()"
      ],
      "execution_count": 20,
      "outputs": [
        {
          "output_type": "execute_result",
          "data": {
            "text/plain": [
              "array([ 1., nan])"
            ]
          },
          "metadata": {
            "tags": []
          },
          "execution_count": 20
        }
      ]
    },
    {
      "cell_type": "code",
      "metadata": {
        "id": "cyiRSuZiCIkO",
        "colab_type": "code",
        "outputId": "4d748b32-6757-43e7-b3e7-7a0983a7e579",
        "colab": {
          "base_uri": "https://localhost:8080/",
          "height": 34
        }
      },
      "source": [
        "train_df.timeOnSite.unique()"
      ],
      "execution_count": 21,
      "outputs": [
        {
          "output_type": "execute_result",
          "data": {
            "text/plain": [
              "array([  nan,   28.,   38., ..., 4665., 5381., 8811.])"
            ]
          },
          "metadata": {
            "tags": []
          },
          "execution_count": 21
        }
      ]
    },
    {
      "cell_type": "code",
      "metadata": {
        "id": "kcqwkIbQCIkS",
        "colab_type": "code",
        "colab": {}
      },
      "source": [
        "#filling missing values with 0\n",
        "\n",
        "train_df['bounces'].fillna(0, inplace=True)\n",
        "test_df['bounces'].fillna(0, inplace=True)\n",
        "\n",
        "train_df['newVisits'].fillna(0, inplace=True)\n",
        "test_df['newVisits'].fillna(0, inplace=True)\n",
        "\n",
        "train_df['transactionRevenue'].fillna(0, inplace=True)\n",
        "test_df['transactionRevenue'].fillna(0, inplace=True)"
      ],
      "execution_count": 0,
      "outputs": []
    },
    {
      "cell_type": "code",
      "metadata": {
        "id": "zQgaWdyJCIkV",
        "colab_type": "code",
        "colab": {}
      },
      "source": [
        "# filling with the median as the number of Na is very less \n",
        "train_df['pageviews'].fillna(train_df['pageviews'].median(),inplace = True)\n",
        "test_df['pageviews'].fillna(test_df['pageviews'].median(),inplace = True)\n",
        "\n",
        "#filling with -999 for high number of NA columns \n",
        "train_df['sessionQualityDim'].fillna(-99999,inplace = True)\n",
        "test_df['sessionQualityDim'].fillna(-99999,inplace = True)\n",
        "\n",
        "train_df['timeOnSite'].fillna(-99999,inplace = True)\n",
        "test_df['timeOnSite'].fillna(-99999,inplace = True)"
      ],
      "execution_count": 0,
      "outputs": []
    },
    {
      "cell_type": "code",
      "metadata": {
        "id": "1jCDs7SGCIka",
        "colab_type": "code",
        "outputId": "940a255c-6c7d-4874-d9bb-514d605611ab",
        "colab": {
          "base_uri": "https://localhost:8080/",
          "height": 1000
        }
      },
      "source": [
        "# converting to categorical variables \n",
        "\n",
        "from sklearn.preprocessing import LabelEncoder\n",
        "\n",
        "cat_cols = [\"channelGrouping\", \"browser\", \n",
        "            \"deviceCategory\", \"operatingSystem\", \n",
        "            \"city\", \"continent\", \n",
        "            \"country\", \"metro\",\n",
        "            \"networkDomain\", \"region\", \n",
        "            \"subContinent\", \"adContent\", \n",
        "            \"adwordsClickInfo.adNetworkType\", \n",
        "            \"adwordsClickInfo.gclId\", \n",
        "            \"adwordsClickInfo.page\", \"isMobile\",\n",
        "            \"adwordsClickInfo.slot\", \"campaign\",\n",
        "            \"keyword\", \"medium\", \"HourOfDay\",'bounces','newVisits',\n",
        "            \"referralPath\", \"source\",\"DayOfWeek\",\"month\",\n",
        "            'adwordsClickInfo.isVideoAd', 'isTrueDirect']\n",
        "\n",
        "\n",
        "for col in cat_cols:\n",
        "    print(col)\n",
        "    lbl = LabelEncoder()\n",
        "    lbl.fit(list(train_df[col].values.astype('str'))) # + list(test_df[col].values.astype('str')))\n",
        "    train_df[col] = lbl.transform(list(train_df[col].values.astype('str')))\n",
        "    \n",
        "for col in cat_cols:\n",
        "    print(col)\n",
        "    lblt = LabelEncoder()\n",
        "    lblt.fit(list(test_df[col].values.astype('str'))) # + list(test_df[col].values.astype('str')))\n",
        "    test_df[col] = lblt.transform(list(test_df[col].values.astype('str')))"
      ],
      "execution_count": 24,
      "outputs": [
        {
          "output_type": "stream",
          "text": [
            "channelGrouping\n",
            "browser\n",
            "deviceCategory\n",
            "operatingSystem\n",
            "city\n",
            "continent\n",
            "country\n",
            "metro\n",
            "networkDomain\n",
            "region\n",
            "subContinent\n",
            "adContent\n",
            "adwordsClickInfo.adNetworkType\n",
            "adwordsClickInfo.gclId\n",
            "adwordsClickInfo.page\n",
            "isMobile\n",
            "adwordsClickInfo.slot\n",
            "campaign\n",
            "keyword\n",
            "medium\n",
            "HourOfDay\n",
            "bounces\n",
            "newVisits\n",
            "referralPath\n",
            "source\n",
            "DayOfWeek\n",
            "month\n",
            "adwordsClickInfo.isVideoAd\n",
            "isTrueDirect\n",
            "channelGrouping\n",
            "browser\n",
            "deviceCategory\n",
            "operatingSystem\n",
            "city\n",
            "continent\n",
            "country\n",
            "metro\n",
            "networkDomain\n",
            "region\n",
            "subContinent\n",
            "adContent\n",
            "adwordsClickInfo.adNetworkType\n",
            "adwordsClickInfo.gclId\n",
            "adwordsClickInfo.page\n",
            "isMobile\n",
            "adwordsClickInfo.slot\n",
            "campaign\n",
            "keyword\n",
            "medium\n",
            "HourOfDay\n",
            "bounces\n",
            "newVisits\n",
            "referralPath\n",
            "source\n",
            "DayOfWeek\n",
            "month\n",
            "adwordsClickInfo.isVideoAd\n",
            "isTrueDirect\n"
          ],
          "name": "stdout"
        }
      ]
    },
    {
      "cell_type": "code",
      "metadata": {
        "id": "bZ2osNRQCIkg",
        "colab_type": "code",
        "colab": {}
      },
      "source": [
        "num_cols = [\"hits\", \"pageviews\", \"visitNumber\",'sessionQualityDim','timeOnSite','transactions']   \n",
        "for col in num_cols:\n",
        "    train_df[col] = train_df[col].astype(float)\n",
        "    test_df[col] = test_df[col].astype(float)"
      ],
      "execution_count": 0,
      "outputs": []
    },
    {
      "cell_type": "code",
      "metadata": {
        "id": "Xp-xczykCIko",
        "colab_type": "code",
        "outputId": "688d5a4b-9279-4d0b-9495-e9f2db2177ea",
        "colab": {
          "base_uri": "https://localhost:8080/",
          "height": 697
        }
      },
      "source": [
        "train_df.dtypes"
      ],
      "execution_count": 26,
      "outputs": [
        {
          "output_type": "execute_result",
          "data": {
            "text/plain": [
              "channelGrouping                     int64\n",
              "fullVisitorId                      object\n",
              "visitId                             int64\n",
              "visitNumber                       float64\n",
              "browser                             int64\n",
              "deviceCategory                      int64\n",
              "isMobile                            int64\n",
              "operatingSystem                     int64\n",
              "city                                int64\n",
              "continent                           int64\n",
              "country                             int64\n",
              "metro                               int64\n",
              "networkDomain                       int64\n",
              "region                              int64\n",
              "subContinent                        int64\n",
              "bounces                             int64\n",
              "hits                              float64\n",
              "newVisits                           int64\n",
              "pageviews                         float64\n",
              "sessionQualityDim                 float64\n",
              "timeOnSite                        float64\n",
              "totalTransactionRevenue           float64\n",
              "transactionRevenue                float64\n",
              "transactions                      float64\n",
              "adContent                           int64\n",
              "adwordsClickInfo.adNetworkType      int64\n",
              "adwordsClickInfo.gclId              int64\n",
              "adwordsClickInfo.isVideoAd          int64\n",
              "adwordsClickInfo.page               int64\n",
              "adwordsClickInfo.slot               int64\n",
              "campaign                            int64\n",
              "isTrueDirect                        int64\n",
              "keyword                             int64\n",
              "medium                              int64\n",
              "referralPath                        int64\n",
              "source                              int64\n",
              "DayOfWeek                           int64\n",
              "month                               int64\n",
              "HourOfDay                           int64\n",
              "dtype: object"
            ]
          },
          "metadata": {
            "tags": []
          },
          "execution_count": 26
        }
      ]
    },
    {
      "cell_type": "code",
      "metadata": {
        "id": "rXk7P8nXQuyt",
        "colab_type": "code",
        "colab": {
          "base_uri": "https://localhost:8080/",
          "height": 697
        },
        "outputId": "cc195037-1330-4d75-eac7-879a21b0fc23"
      },
      "source": [
        "test_df.dtypes"
      ],
      "execution_count": 27,
      "outputs": [
        {
          "output_type": "execute_result",
          "data": {
            "text/plain": [
              "channelGrouping                     int64\n",
              "fullVisitorId                      object\n",
              "visitId                             int64\n",
              "visitNumber                       float64\n",
              "browser                             int64\n",
              "deviceCategory                      int64\n",
              "isMobile                            int64\n",
              "operatingSystem                     int64\n",
              "city                                int64\n",
              "continent                           int64\n",
              "country                             int64\n",
              "metro                               int64\n",
              "networkDomain                       int64\n",
              "region                              int64\n",
              "subContinent                        int64\n",
              "bounces                             int64\n",
              "hits                              float64\n",
              "newVisits                           int64\n",
              "pageviews                         float64\n",
              "sessionQualityDim                 float64\n",
              "timeOnSite                        float64\n",
              "totalTransactionRevenue           float64\n",
              "transactionRevenue                float64\n",
              "transactions                      float64\n",
              "adContent                           int64\n",
              "adwordsClickInfo.adNetworkType      int64\n",
              "adwordsClickInfo.gclId              int64\n",
              "adwordsClickInfo.isVideoAd          int64\n",
              "adwordsClickInfo.page               int64\n",
              "adwordsClickInfo.slot               int64\n",
              "campaign                            int64\n",
              "isTrueDirect                        int64\n",
              "keyword                             int64\n",
              "medium                              int64\n",
              "referralPath                        int64\n",
              "source                              int64\n",
              "DayOfWeek                           int64\n",
              "month                               int64\n",
              "HourOfDay                           int64\n",
              "dtype: object"
            ]
          },
          "metadata": {
            "tags": []
          },
          "execution_count": 27
        }
      ]
    },
    {
      "cell_type": "code",
      "metadata": {
        "id": "WOHkWFlKCIks",
        "colab_type": "code",
        "colab": {}
      },
      "source": [
        "#creating the label\n",
        "train_df['label'] = np.where(train_df['transactionRevenue']>0, 1,0)"
      ],
      "execution_count": 0,
      "outputs": []
    },
    {
      "cell_type": "code",
      "metadata": {
        "id": "v6NR_TBcCIkz",
        "colab_type": "code",
        "colab": {}
      },
      "source": [
        "#split dataset in features and target variable\n",
        "X = train_df[[\"channelGrouping\", \"browser\", \n",
        "            \"deviceCategory\", \"operatingSystem\", \n",
        "            \"city\", \"continent\", \n",
        "            \"country\", \"metro\",\n",
        "            \"networkDomain\", \"region\", \n",
        "            \"subContinent\", \"adContent\", \n",
        "            \"adwordsClickInfo.adNetworkType\", \n",
        "            \"adwordsClickInfo.gclId\", \n",
        "            \"adwordsClickInfo.page\", \"isMobile\",\n",
        "            \"adwordsClickInfo.slot\", \"campaign\",\n",
        "            \"keyword\", \"medium\", \"HourOfDay\",'bounces','newVisits',\n",
        "            \"referralPath\", \"source\",\"DayOfWeek\",\"month\",\n",
        "            'adwordsClickInfo.isVideoAd', 'isTrueDirect',\n",
        "            \"hits\", \"pageviews\", \"visitNumber\",'sessionQualityDim','timeOnSite']] # Features\n",
        "# dropping 'fullVisitorId', 'visitId', 'totalTransactionRevenue', 'transactionRevenue', 'transactions', \n",
        "\n",
        "y = train_df['label'] # Target variable\n"
      ],
      "execution_count": 0,
      "outputs": []
    },
    {
      "cell_type": "code",
      "metadata": {
        "id": "vK9dlt7-CIk2",
        "colab_type": "code",
        "outputId": "2a7dfd98-5def-429a-cb81-14ab762138d2",
        "colab": {
          "base_uri": "https://localhost:8080/",
          "height": 34
        }
      },
      "source": [
        "X.columns[X.isnull().any()]"
      ],
      "execution_count": 30,
      "outputs": [
        {
          "output_type": "execute_result",
          "data": {
            "text/plain": [
              "Index([], dtype='object')"
            ]
          },
          "metadata": {
            "tags": []
          },
          "execution_count": 30
        }
      ]
    },
    {
      "cell_type": "code",
      "metadata": {
        "id": "ZhycL5gBCIk5",
        "colab_type": "code",
        "outputId": "8ac41333-08c1-4474-a2ec-6a32d9e018ca",
        "colab": {
          "base_uri": "https://localhost:8080/",
          "height": 34
        }
      },
      "source": [
        "X.shape"
      ],
      "execution_count": 31,
      "outputs": [
        {
          "output_type": "execute_result",
          "data": {
            "text/plain": [
              "(1708337, 34)"
            ]
          },
          "metadata": {
            "tags": []
          },
          "execution_count": 31
        }
      ]
    },
    {
      "cell_type": "code",
      "metadata": {
        "id": "mzfv0nrHCIk7",
        "colab_type": "code",
        "outputId": "913d6baf-15a3-40b7-c77b-de623b73fff4",
        "colab": {
          "base_uri": "https://localhost:8080/",
          "height": 119
        }
      },
      "source": [
        "!pip install imblearn"
      ],
      "execution_count": 32,
      "outputs": [
        {
          "output_type": "stream",
          "text": [
            "Requirement already satisfied: imblearn in /usr/local/lib/python3.6/dist-packages (0.0)\n",
            "Requirement already satisfied: imbalanced-learn in /usr/local/lib/python3.6/dist-packages (from imblearn) (0.4.3)\n",
            "Requirement already satisfied: numpy>=1.8.2 in /usr/local/lib/python3.6/dist-packages (from imbalanced-learn->imblearn) (1.17.4)\n",
            "Requirement already satisfied: scikit-learn>=0.20 in /usr/local/lib/python3.6/dist-packages (from imbalanced-learn->imblearn) (0.21.3)\n",
            "Requirement already satisfied: scipy>=0.13.3 in /usr/local/lib/python3.6/dist-packages (from imbalanced-learn->imblearn) (1.3.2)\n",
            "Requirement already satisfied: joblib>=0.11 in /usr/local/lib/python3.6/dist-packages (from scikit-learn>=0.20->imbalanced-learn->imblearn) (0.14.0)\n"
          ],
          "name": "stdout"
        }
      ]
    },
    {
      "cell_type": "code",
      "metadata": {
        "id": "F81xZVPXCIk-",
        "colab_type": "code",
        "outputId": "411c5d20-8dd0-4fa3-9162-b2587848cc5c",
        "colab": {
          "base_uri": "https://localhost:8080/",
          "height": 71
        }
      },
      "source": [
        "from imblearn.under_sampling import RandomUnderSampler\n",
        "\n",
        "rus = RandomUnderSampler(return_indices=True)\n",
        "X_rus, y_rus, id_rus = rus.fit_sample(X, y)"
      ],
      "execution_count": 33,
      "outputs": [
        {
          "output_type": "stream",
          "text": [
            "/usr/local/lib/python3.6/dist-packages/sklearn/externals/six.py:31: DeprecationWarning: The module is deprecated in version 0.21 and will be removed in version 0.23 since we've dropped support for Python 2.7. Please rely on the official version of six (https://pypi.org/project/six/).\n",
            "  \"(https://pypi.org/project/six/).\", DeprecationWarning)\n"
          ],
          "name": "stderr"
        }
      ]
    },
    {
      "cell_type": "code",
      "metadata": {
        "id": "UsHz3DDOF2qa",
        "colab_type": "code",
        "outputId": "b449fc01-a8f4-4c89-8d52-4dcf6f8f789e",
        "colab": {
          "base_uri": "https://localhost:8080/",
          "height": 34
        }
      },
      "source": [
        "X_rus.shape"
      ],
      "execution_count": 34,
      "outputs": [
        {
          "output_type": "execute_result",
          "data": {
            "text/plain": [
              "(37028, 34)"
            ]
          },
          "metadata": {
            "tags": []
          },
          "execution_count": 34
        }
      ]
    },
    {
      "cell_type": "code",
      "metadata": {
        "id": "bbvY3hW-F62Q",
        "colab_type": "code",
        "outputId": "226328d9-2acd-4ed4-af05-ae2a4db88191",
        "colab": {
          "base_uri": "https://localhost:8080/",
          "height": 34
        }
      },
      "source": [
        "y_rus.shape"
      ],
      "execution_count": 35,
      "outputs": [
        {
          "output_type": "execute_result",
          "data": {
            "text/plain": [
              "(37028,)"
            ]
          },
          "metadata": {
            "tags": []
          },
          "execution_count": 35
        }
      ]
    },
    {
      "cell_type": "code",
      "metadata": {
        "id": "e-l6qsXvF_lh",
        "colab_type": "code",
        "outputId": "afacc3c1-cc72-4b7c-91d2-88e1cf8a810f",
        "colab": {
          "base_uri": "https://localhost:8080/",
          "height": 34
        }
      },
      "source": [
        "import collections \n",
        "collections.Counter(y_rus)"
      ],
      "execution_count": 36,
      "outputs": [
        {
          "output_type": "execute_result",
          "data": {
            "text/plain": [
              "Counter({0: 18514, 1: 18514})"
            ]
          },
          "metadata": {
            "tags": []
          },
          "execution_count": 36
        }
      ]
    },
    {
      "cell_type": "markdown",
      "metadata": {
        "id": "AmrQRvZCOKP9",
        "colab_type": "text"
      },
      "source": [
        "## Classification Part"
      ]
    },
    {
      "cell_type": "code",
      "metadata": {
        "id": "P40k8MzGJf9c",
        "colab_type": "code",
        "colab": {
          "base_uri": "https://localhost:8080/",
          "height": 136
        },
        "outputId": "f9c89eb0-f8d0-48f7-cfcc-b3826e5c3394"
      },
      "source": [
        "# USING THE BEST MODEL TO MAKE THE CLASSIFICATIONS ON THE TEST DATA\n",
        "\n",
        "from sklearn.ensemble import RandomForestClassifier\n",
        "\n",
        "rf_classifier = RandomForestClassifier(n_estimators = 2000, max_depth = 60, n_jobs = -1, random_state = 42)\n",
        "\n",
        "# Fit the random search model\n",
        "rf_classifier.fit(X_rus, y_rus)"
      ],
      "execution_count": 37,
      "outputs": [
        {
          "output_type": "execute_result",
          "data": {
            "text/plain": [
              "RandomForestClassifier(bootstrap=True, class_weight=None, criterion='gini',\n",
              "                       max_depth=60, max_features='auto', max_leaf_nodes=None,\n",
              "                       min_impurity_decrease=0.0, min_impurity_split=None,\n",
              "                       min_samples_leaf=1, min_samples_split=2,\n",
              "                       min_weight_fraction_leaf=0.0, n_estimators=2000,\n",
              "                       n_jobs=-1, oob_score=False, random_state=42, verbose=0,\n",
              "                       warm_start=False)"
            ]
          },
          "metadata": {
            "tags": []
          },
          "execution_count": 37
        }
      ]
    },
    {
      "cell_type": "code",
      "metadata": {
        "id": "ZozQdEVcJgD8",
        "colab_type": "code",
        "colab": {}
      },
      "source": [
        "#creating the ground)truth from the test data\n",
        "ground_truth = pd.DataFrame()\n",
        "ground_truth['label'] = np.where(test_df['transactionRevenue']>0, 1,0) # making the same label for the ground truth"
      ],
      "execution_count": 0,
      "outputs": []
    },
    {
      "cell_type": "code",
      "metadata": {
        "id": "F7g_n61tJgNN",
        "colab_type": "code",
        "colab": {}
      },
      "source": [
        "test_df_classifier = test_df[X.columns] # Keeping only the columns that was used in the train dataset"
      ],
      "execution_count": 0,
      "outputs": []
    },
    {
      "cell_type": "code",
      "metadata": {
        "id": "ywIX1n6iJgVs",
        "colab_type": "code",
        "colab": {
          "base_uri": "https://localhost:8080/",
          "height": 34
        },
        "outputId": "3302c405-2162-4343-e1d2-e137c43d76c5"
      },
      "source": [
        "#finding the predicted value and calculating the measures \n",
        "\n",
        "predicted_classifier = rf_classifier.predict(test_df_classifier)\n",
        "\n",
        "predicted_classifier[:10] #looking at the first 10 values"
      ],
      "execution_count": 40,
      "outputs": [
        {
          "output_type": "execute_result",
          "data": {
            "text/plain": [
              "array([0, 0, 0, 0, 0, 0, 0, 0, 0, 0])"
            ]
          },
          "metadata": {
            "tags": []
          },
          "execution_count": 40
        }
      ]
    },
    {
      "cell_type": "code",
      "metadata": {
        "id": "CeZXwEzlJges",
        "colab_type": "code",
        "colab": {
          "base_uri": "https://localhost:8080/",
          "height": 238
        },
        "outputId": "b9e77bb4-645f-4f89-e1b2-ea80c09d79d9"
      },
      "source": [
        "from sklearn.metrics import classification_report\n",
        "from sklearn.metrics import confusion_matrix, precision_recall_curve, average_precision_score, roc_curve, auc\n",
        "from sklearn.metrics import accuracy_score\n",
        "\n",
        "# Getting the classification report for the fitted model \n",
        "print(\"Prediction Accuracy is \",accuracy_score(ground_truth['label'], predicted_classifier))\n",
        "print(\"Classification report is \",classification_report(ground_truth['label'], predicted_classifier))\n",
        "print(\"Confusion matrix is \")\n",
        "print(confusion_matrix(ground_truth['label'], predicted_classifier))\n"
      ],
      "execution_count": 43,
      "outputs": [
        {
          "output_type": "stream",
          "text": [
            "Prediction Accuracy is  0.935436478588806\n",
            "Classification report is                precision    recall  f1-score   support\n",
            "\n",
            "           0       1.00      0.94      0.97    396995\n",
            "           1       0.15      0.95      0.25      4594\n",
            "\n",
            "    accuracy                           0.94    401589\n",
            "   macro avg       0.57      0.94      0.61    401589\n",
            "weighted avg       0.99      0.94      0.96    401589\n",
            "\n",
            "Confusion matrix is \n",
            "[[371303  25692]\n",
            " [   236   4358]]\n"
          ],
          "name": "stdout"
        }
      ]
    },
    {
      "cell_type": "code",
      "metadata": {
        "id": "05hcxFOVJgjT",
        "colab_type": "code",
        "colab": {}
      },
      "source": [
        "pred_scores = rf_classifier.predict_proba(test_df_classifier)\n",
        "fpr, tpr, thresh = roc_curve(ground_truth['label'], pred_scores[:,1])\n",
        "\n",
        "auc_score = auc(fpr, tpr)"
      ],
      "execution_count": 0,
      "outputs": []
    },
    {
      "cell_type": "code",
      "metadata": {
        "id": "ZGLwlKJKJgbm",
        "colab_type": "code",
        "colab": {
          "base_uri": "https://localhost:8080/",
          "height": 34
        },
        "outputId": "f322717d-2fab-498b-bd7f-3efd738cca83"
      },
      "source": [
        "auc_score"
      ],
      "execution_count": 45,
      "outputs": [
        {
          "output_type": "execute_result",
          "data": {
            "text/plain": [
              "0.9801031248560863"
            ]
          },
          "metadata": {
            "tags": []
          },
          "execution_count": 45
        }
      ]
    },
    {
      "cell_type": "markdown",
      "metadata": {
        "id": "f1p8X1R5OFZ0",
        "colab_type": "text"
      },
      "source": [
        "## Regression Part "
      ]
    },
    {
      "cell_type": "code",
      "metadata": {
        "id": "ZXPiNUgBWHrF",
        "colab_type": "code",
        "colab": {}
      },
      "source": [
        ""
      ],
      "execution_count": 0,
      "outputs": []
    },
    {
      "cell_type": "code",
      "metadata": {
        "id": "4MUC4FJaJgZi",
        "colab_type": "code",
        "colab": {}
      },
      "source": [
        "#split dataset in features and target variable\n",
        "X_r = train_df[[\"channelGrouping\", \"browser\", \n",
        "            \"deviceCategory\", \"operatingSystem\", \n",
        "            \"city\", \"continent\", \n",
        "            \"country\", \"metro\",\n",
        "            \"networkDomain\", \"region\", \n",
        "            \"subContinent\", \"adContent\", \n",
        "            \"adwordsClickInfo.adNetworkType\", \n",
        "            \"adwordsClickInfo.gclId\", \n",
        "            \"adwordsClickInfo.page\", \"isMobile\",\n",
        "            \"adwordsClickInfo.slot\", \"campaign\",\n",
        "            \"keyword\", \"medium\", \"HourOfDay\",'bounces','newVisits',\n",
        "            \"referralPath\", \"source\",\"DayOfWeek\",\"month\",\n",
        "            'adwordsClickInfo.isVideoAd', 'isTrueDirect',\n",
        "            \"hits\", \"pageviews\", \"visitNumber\",'sessionQualityDim','timeOnSite']] # Features\n",
        "# dropping 'fullVisitorId', 'visitId', 'totalTransactionRevenue', 'transactionRevenue', 'transactions', \n",
        "\n",
        "y_r = train_df['transactionRevenue'] # Target variable"
      ],
      "execution_count": 0,
      "outputs": []
    },
    {
      "cell_type": "code",
      "metadata": {
        "id": "VqV-U0pkWJOi",
        "colab_type": "code",
        "colab": {}
      },
      "source": [
        "from imblearn.under_sampling import RandomUnderSampler\n",
        "\n",
        "rus = RandomUnderSampler(return_indices=True)\n",
        "Xr_rus, yr_rus, id_rus = rus.fit_sample(X_r, y_r)"
      ],
      "execution_count": 0,
      "outputs": []
    },
    {
      "cell_type": "code",
      "metadata": {
        "id": "wMasY4kEt4Gv",
        "colab_type": "code",
        "colab": {}
      },
      "source": [
        "Groundtruth_revenue = test_df['transactionRevenue']"
      ],
      "execution_count": 0,
      "outputs": []
    },
    {
      "cell_type": "code",
      "metadata": {
        "id": "sF9tJPAatppJ",
        "colab_type": "code",
        "colab": {}
      },
      "source": [
        "test_df_regressor = test_df[X_r.columns]"
      ],
      "execution_count": 0,
      "outputs": []
    },
    {
      "cell_type": "code",
      "metadata": {
        "id": "15n71C6Gpifj",
        "colab_type": "code",
        "colab": {
          "base_uri": "https://localhost:8080/",
          "height": 136
        },
        "outputId": "bf975b44-d0d9-4897-8757-4c573a4e2986"
      },
      "source": [
        "from sklearn.ensemble import RandomForestRegressor\n",
        "rf_regressor = RandomForestRegressor(random_state = 42,n_jobs = -1, max_depth = 60, n_estimators = 2000)\n",
        "\n",
        "# Fit the model\n",
        "rf_regressor.fit(Xr_rus, yr_rus)"
      ],
      "execution_count": 50,
      "outputs": [
        {
          "output_type": "execute_result",
          "data": {
            "text/plain": [
              "RandomForestRegressor(bootstrap=True, criterion='mse', max_depth=60,\n",
              "                      max_features='auto', max_leaf_nodes=None,\n",
              "                      min_impurity_decrease=0.0, min_impurity_split=None,\n",
              "                      min_samples_leaf=1, min_samples_split=2,\n",
              "                      min_weight_fraction_leaf=0.0, n_estimators=2000,\n",
              "                      n_jobs=-1, oob_score=False, random_state=42, verbose=0,\n",
              "                      warm_start=False)"
            ]
          },
          "metadata": {
            "tags": []
          },
          "execution_count": 50
        }
      ]
    },
    {
      "cell_type": "code",
      "metadata": {
        "id": "2nxr3T-Nt3Zb",
        "colab_type": "code",
        "colab": {}
      },
      "source": [
        "predicted_reg = rf_regressor.predict(test_df_regressor)"
      ],
      "execution_count": 0,
      "outputs": []
    },
    {
      "cell_type": "code",
      "metadata": {
        "id": "G555J_HD3V_X",
        "colab_type": "code",
        "colab": {
          "base_uri": "https://localhost:8080/",
          "height": 170
        },
        "outputId": "d804956c-90a8-4645-cb3b-4359292b5cae"
      },
      "source": [
        "rf_regressor.feature_importances_"
      ],
      "execution_count": 52,
      "outputs": [
        {
          "output_type": "execute_result",
          "data": {
            "text/plain": [
              "array([1.68015305e-02, 1.48747805e-03, 3.66149971e-04, 1.07022401e-02,\n",
              "       1.70964181e-02, 3.03738166e-03, 4.15079351e-03, 2.69018527e-02,\n",
              "       3.39538716e-02, 1.74486068e-02, 1.29472218e-03, 2.00496608e-04,\n",
              "       1.32843590e-04, 8.30241452e-04, 1.84056348e-04, 2.99916974e-04,\n",
              "       1.25200462e-04, 1.32684688e-04, 3.04286044e-03, 6.29533144e-03,\n",
              "       6.08963687e-02, 8.98200207e-09, 2.05289310e-03, 3.86048847e-03,\n",
              "       5.93396666e-03, 4.15586400e-02, 5.70373742e-02, 1.36573672e-04,\n",
              "       7.30195053e-03, 7.64652392e-02, 6.52198846e-02, 3.61275749e-01,\n",
              "       4.20601355e-02, 1.31716051e-01])"
            ]
          },
          "metadata": {
            "tags": []
          },
          "execution_count": 52
        }
      ]
    },
    {
      "cell_type": "code",
      "metadata": {
        "id": "cz72NcTA4WJ-",
        "colab_type": "code",
        "colab": {
          "base_uri": "https://localhost:8080/",
          "height": 439
        },
        "outputId": "85d6a784-ab74-4b5c-80c8-5139f01fead2"
      },
      "source": [
        "importances = list(zip(rf_regressor.feature_importances_, X_r.columns))\n",
        "importances.sort(reverse=True)\n",
        "pd.DataFrame(importances, index=[x for (_,x) in importances]).plot(kind = 'bar')"
      ],
      "execution_count": 53,
      "outputs": [
        {
          "output_type": "execute_result",
          "data": {
            "text/plain": [
              "<matplotlib.axes._subplots.AxesSubplot at 0x7fec8660b780>"
            ]
          },
          "metadata": {
            "tags": []
          },
          "execution_count": 53
        },
        {
          "output_type": "display_data",
          "data": {
            "image/png": "[encoded data removed]",
            "text/plain": [
              "<Figure size 432x288 with 1 Axes>"
            ]
          },
          "metadata": {
            "tags": []
          }
        }
      ]
    },
    {
      "cell_type": "code",
      "metadata": {
        "id": "7mCF-kSCyk5N",
        "colab_type": "code",
        "colab": {}
      },
      "source": [
        "from sklearn.metrics import mean_squared_error\n",
        "from sklearn.metrics import mean_absolute_error"
      ],
      "execution_count": 0,
      "outputs": []
    },
    {
      "cell_type": "markdown",
      "metadata": {
        "id": "84IRLNv8UUzq",
        "colab_type": "text"
      },
      "source": [
        "## Calculating the scores "
      ]
    },
    {
      "cell_type": "code",
      "metadata": {
        "id": "eX7PA4z5y_Hw",
        "colab_type": "code",
        "colab": {
          "base_uri": "https://localhost:8080/",
          "height": 68
        },
        "outputId": "7c047457-307c-41d0-b720-b571c8ed3488"
      },
      "source": [
        "# JUST FOR THE REGRESSOR ALONE\n",
        "from math import sqrt\n",
        "\n",
        "mse=mean_squared_error(Groundtruth_revenue, predicted_reg)\n",
        "print(\"mean square error\",mse)\n",
        "rms = sqrt(mean_squared_error(Groundtruth_revenue, predicted_reg))\n",
        "print(\"root mean square error\",rms)\n",
        "mae=mean_absolute_error(Groundtruth_revenue, predicted_reg)\n",
        "print(\"mean absolute error\",mae)"
      ],
      "execution_count": 55,
      "outputs": [
        {
          "output_type": "stream",
          "text": [
            "mean square error 2.111758106893218e+17\n",
            "root mean square error 459538693.3538043\n",
            "mean absolute error 382996836.0746061\n"
          ],
          "name": "stdout"
        }
      ]
    },
    {
      "cell_type": "code",
      "metadata": {
        "id": "MGyyldQJy-6l",
        "colab_type": "code",
        "colab": {}
      },
      "source": [
        "# multiplying the classifier and the regressor to predict only for those columns which have classified as a transaction\n",
        "final_regression = predicted_classifier * predicted_reg"
      ],
      "execution_count": 0,
      "outputs": []
    },
    {
      "cell_type": "code",
      "metadata": {
        "id": "jMYWM6-6y--H",
        "colab_type": "code",
        "colab": {
          "base_uri": "https://localhost:8080/",
          "height": 68
        },
        "outputId": "4fb4b85e-8e75-4216-d806-78945bf33a5b"
      },
      "source": [
        "# JUST FOR THE CLASSIFIER AND THE REGRESSOR\n",
        "from math import sqrt\n",
        "\n",
        "mse=mean_squared_error(Groundtruth_revenue, final_regression)\n",
        "print(\"mean square error\",mse)\n",
        "rms = sqrt(mean_squared_error(Groundtruth_revenue, final_regression))\n",
        "print(\"root mean square error\",rms)\n",
        "mae=mean_absolute_error(Groundtruth_revenue, final_regression)\n",
        "print(\"mean absolute error\",mae)"
      ],
      "execution_count": 57,
      "outputs": [
        {
          "output_type": "stream",
          "text": [
            "mean square error 1.610382438960799e+16\n",
            "root mean square error 126900844.71589616\n",
            "mean absolute error 26055485.260540005\n"
          ],
          "name": "stdout"
        }
      ]
    },
    {
      "cell_type": "code",
      "metadata": {
        "id": "bCWBlg05NM3H",
        "colab_type": "code",
        "colab": {}
      },
      "source": [
        ""
      ],
      "execution_count": 0,
      "outputs": []
    },
    {
      "cell_type": "markdown",
      "metadata": {
        "id": "RwjoaB-GZevg",
        "colab_type": "text"
      },
      "source": [
        "## Rolling up the dataset to customer level "
      ]
    },
    {
      "cell_type": "code",
      "metadata": {
        "id": "wnnNBEPENM84",
        "colab_type": "code",
        "colab": {
          "base_uri": "https://localhost:8080/",
          "height": 204
        },
        "outputId": "39bba481-e57a-49ad-c9e1-de5bfa0a2d2f"
      },
      "source": [
        "test_df.columns"
      ],
      "execution_count": 58,
      "outputs": [
        {
          "output_type": "execute_result",
          "data": {
            "text/plain": [
              "Index(['channelGrouping', 'fullVisitorId', 'visitId', 'visitNumber', 'browser',\n",
              "       'deviceCategory', 'isMobile', 'operatingSystem', 'city', 'continent',\n",
              "       'country', 'metro', 'networkDomain', 'region', 'subContinent',\n",
              "       'bounces', 'hits', 'newVisits', 'pageviews', 'sessionQualityDim',\n",
              "       'timeOnSite', 'totalTransactionRevenue', 'transactionRevenue',\n",
              "       'transactions', 'adContent', 'adwordsClickInfo.adNetworkType',\n",
              "       'adwordsClickInfo.gclId', 'adwordsClickInfo.isVideoAd',\n",
              "       'adwordsClickInfo.page', 'adwordsClickInfo.slot', 'campaign',\n",
              "       'isTrueDirect', 'keyword', 'medium', 'referralPath', 'source',\n",
              "       'DayOfWeek', 'month', 'HourOfDay'],\n",
              "      dtype='object')"
            ]
          },
          "metadata": {
            "tags": []
          },
          "execution_count": 58
        }
      ]
    },
    {
      "cell_type": "code",
      "metadata": {
        "id": "G5IACYhlNNAN",
        "colab_type": "code",
        "colab": {
          "base_uri": "https://localhost:8080/",
          "height": 204
        },
        "outputId": "460b1da4-2a8a-4468-c35e-3bfb0cbf6ede"
      },
      "source": [
        "visitorid = test_df['fullVisitorId']\n",
        "visitorid[:10]"
      ],
      "execution_count": 60,
      "outputs": [
        {
          "output_type": "execute_result",
          "data": {
            "text/plain": [
              "0    7460955084541987166\n",
              "1     460252456180441002\n",
              "2    3461808543879602873\n",
              "3     975129477712150630\n",
              "4    8381672768065729990\n",
              "5    2866297766347322467\n",
              "6    2235365487897339889\n",
              "7    1303090465617023038\n",
              "8     459669224143241747\n",
              "9     589440789980446309\n",
              "Name: fullVisitorId, dtype: object"
            ]
          },
          "metadata": {
            "tags": []
          },
          "execution_count": 60
        }
      ]
    },
    {
      "cell_type": "code",
      "metadata": {
        "id": "lHv6Tfm_NNG0",
        "colab_type": "code",
        "colab": {
          "base_uri": "https://localhost:8080/",
          "height": 272
        },
        "outputId": "d4e459f2-f74f-4a02-b975-139d6513b7e8"
      },
      "source": [
        "# creating a data frame for the regression stand alone example \n",
        "\n",
        "df_1 = pd.DataFrame({'fullVisitorId':visitorid, 'predicted_revenue':predicted_reg})\n",
        "print(\"The head is\")\n",
        "print(df_1.head())\n",
        "\n",
        "\n",
        "print(\"___________________________________________________\")\n",
        "visitor_level1 = df_1.groupby('fullVisitorId').mean().reset_index()\n",
        "print(\"Visitor level shape is\",visitor_level1.shape)\n",
        "print(visitor_level1.head())"
      ],
      "execution_count": 78,
      "outputs": [
        {
          "output_type": "stream",
          "text": [
            "The head is\n",
            "         fullVisitorId  predicted_revenue\n",
            "0  7460955084541987166       2.889738e+08\n",
            "1   460252456180441002       7.529693e+09\n",
            "2  3461808543879602873       4.038368e+08\n",
            "3   975129477712150630       6.195092e+08\n",
            "4  8381672768065729990       2.875788e+08\n",
            "___________________________________________________\n",
            "Visitor level shape is (300364, 2)\n",
            "    fullVisitorId  predicted_revenue\n",
            "0   1995526696366        262578580.0\n",
            "1  16367580689231        365253100.0\n",
            "2  18966949534117        269032185.0\n",
            "3  24844201502183        306581860.0\n",
            "4  24845665201193        726850630.0\n"
          ],
          "name": "stdout"
        }
      ]
    },
    {
      "cell_type": "code",
      "metadata": {
        "id": "sghuMQa_NNEI",
        "colab_type": "code",
        "colab": {
          "base_uri": "https://localhost:8080/",
          "height": 153
        },
        "outputId": "17368ff2-29a7-4bb6-cb2e-80a03f6c9a6a"
      },
      "source": [
        "# Doing the same for the actual ground prediction value \n",
        "groundtruth_prediction = test_df.groupby('fullVisitorId').mean()['transactionRevenue'].reset_index()\n",
        "print(groundtruth_prediction.head())\n",
        "print(\"\")\n",
        "print (\"Shape is \", groundtruth_prediction.shape)"
      ],
      "execution_count": 77,
      "outputs": [
        {
          "output_type": "stream",
          "text": [
            "    fullVisitorId  transactionRevenue\n",
            "0   1995526696366                 0.0\n",
            "1  16367580689231                 0.0\n",
            "2  18966949534117                 0.0\n",
            "3  24844201502183                 0.0\n",
            "4  24845665201193                 0.0\n",
            "\n",
            "Shape is  (300364, 2)\n"
          ],
          "name": "stdout"
        }
      ]
    },
    {
      "cell_type": "code",
      "metadata": {
        "id": "eUfx7UHtNM6X",
        "colab_type": "code",
        "colab": {
          "base_uri": "https://localhost:8080/",
          "height": 204
        },
        "outputId": "ab71e9de-2d46-433f-e34a-4f3f27126659"
      },
      "source": [
        "# merging them both \n",
        "\n",
        "merge_1 = pd.merge(groundtruth_prediction, visitor_level1, on = 'fullVisitorId')\n",
        "\n",
        "merge_1.transactionRevenue = np.log(merge_1.transactionRevenue + 1)\n",
        "merge_1.predicted_revenue = np.log(merge_1.predicted_revenue +1 )\n",
        "merge_1.head()"
      ],
      "execution_count": 82,
      "outputs": [
        {
          "output_type": "execute_result",
          "data": {
            "text/html": [
              "<div>\n",
              "<style scoped>\n",
              "    .dataframe tbody tr th:only-of-type {\n",
              "        vertical-align: middle;\n",
              "    }\n",
              "\n",
              "    .dataframe tbody tr th {\n",
              "        vertical-align: top;\n",
              "    }\n",
              "\n",
              "    .dataframe thead th {\n",
              "        text-align: right;\n",
              "    }\n",
              "</style>\n",
              "<table border=\"1\" class=\"dataframe\">\n",
              "  <thead>\n",
              "    <tr style=\"text-align: right;\">\n",
              "      <th></th>\n",
              "      <th>fullVisitorId</th>\n",
              "      <th>transactionRevenue</th>\n",
              "      <th>predicted_revenue</th>\n",
              "    </tr>\n",
              "  </thead>\n",
              "  <tbody>\n",
              "    <tr>\n",
              "      <th>0</th>\n",
              "      <td>1995526696366</td>\n",
              "      <td>0.0</td>\n",
              "      <td>19.386061</td>\n",
              "    </tr>\n",
              "    <tr>\n",
              "      <th>1</th>\n",
              "      <td>16367580689231</td>\n",
              "      <td>0.0</td>\n",
              "      <td>19.716101</td>\n",
              "    </tr>\n",
              "    <tr>\n",
              "      <th>2</th>\n",
              "      <td>18966949534117</td>\n",
              "      <td>0.0</td>\n",
              "      <td>19.410342</td>\n",
              "    </tr>\n",
              "    <tr>\n",
              "      <th>3</th>\n",
              "      <td>24844201502183</td>\n",
              "      <td>0.0</td>\n",
              "      <td>19.540995</td>\n",
              "    </tr>\n",
              "    <tr>\n",
              "      <th>4</th>\n",
              "      <td>24845665201193</td>\n",
              "      <td>0.0</td>\n",
              "      <td>20.404232</td>\n",
              "    </tr>\n",
              "  </tbody>\n",
              "</table>\n",
              "</div>"
            ],
            "text/plain": [
              "    fullVisitorId  transactionRevenue  predicted_revenue\n",
              "0   1995526696366                 0.0          19.386061\n",
              "1  16367580689231                 0.0          19.716101\n",
              "2  18966949534117                 0.0          19.410342\n",
              "3  24844201502183                 0.0          19.540995\n",
              "4  24845665201193                 0.0          20.404232"
            ]
          },
          "metadata": {
            "tags": []
          },
          "execution_count": 82
        }
      ]
    },
    {
      "cell_type": "code",
      "metadata": {
        "id": "KLqMPBMucsO-",
        "colab_type": "code",
        "colab": {
          "base_uri": "https://localhost:8080/",
          "height": 68
        },
        "outputId": "d5b93fb3-ffc8-44d8-d81b-225e2e33143a"
      },
      "source": [
        "mse=mean_squared_error(merge_1.transactionRevenue, merge_1.predicted_revenue)\n",
        "print(\"mean square error\",mse)\n",
        "rms = sqrt(mean_squared_error(merge_1.transactionRevenue, merge_1.predicted_revenue))\n",
        "print(\"root mean square error\",rms)\n",
        "mae=mean_absolute_error(merge_1.transactionRevenue, merge_1.predicted_revenue)\n",
        "print(\"mean absolute error\",mae)"
      ],
      "execution_count": 83,
      "outputs": [
        {
          "output_type": "stream",
          "text": [
            "mean square error 380.7623844726264\n",
            "root mean square error 19.513133640515722\n",
            "mean absolute error 19.409663110449635\n"
          ],
          "name": "stdout"
        }
      ]
    },
    {
      "cell_type": "code",
      "metadata": {
        "id": "ez-O8-TmcsbC",
        "colab_type": "code",
        "colab": {
          "base_uri": "https://localhost:8080/",
          "height": 510
        },
        "outputId": "3eed50f8-c1b5-4575-df8c-6a92115b416c"
      },
      "source": [
        "# creating a data frame for the Classifier and the regressor model \n",
        "\n",
        "df_2 = pd.DataFrame({'fullVisitorId':visitorid, 'final_revenue':final_regression})\n",
        "print(\"The head is\")\n",
        "print(df_2.head())\n",
        "print(\"\")\n",
        "print(\"___________________________________________________\")\n",
        "visitor_level2 = df_2.groupby('fullVisitorId').mean().reset_index()\n",
        "print(\"Visitor level shape is\",visitor_level2.shape)\n",
        "print(visitor_level2.head())\n",
        "\n",
        "# merging them both \n",
        "print(\"\")\n",
        "print(\"___________________________________________________\")\n",
        "merge_2 = pd.merge(groundtruth_prediction, visitor_level2, on = 'fullVisitorId')\n",
        "\n",
        "merge_2.transactionRevenue = np.log(merge_2.transactionRevenue + 1)\n",
        "merge_2.final_revenue = np.log(merge_2.final_revenue +1 )\n",
        "merge_2.head()"
      ],
      "execution_count": 88,
      "outputs": [
        {
          "output_type": "stream",
          "text": [
            "The head is\n",
            "         fullVisitorId  final_revenue\n",
            "0  7460955084541987166            0.0\n",
            "1   460252456180441002            0.0\n",
            "2  3461808543879602873            0.0\n",
            "3   975129477712150630            0.0\n",
            "4  8381672768065729990            0.0\n",
            "\n",
            "___________________________________________________\n",
            "Visitor level shape is (300364, 2)\n",
            "    fullVisitorId  final_revenue\n",
            "0   1995526696366            0.0\n",
            "1  16367580689231            0.0\n",
            "2  18966949534117            0.0\n",
            "3  24844201502183            0.0\n",
            "4  24845665201193            0.0\n",
            "\n",
            "___________________________________________________\n"
          ],
          "name": "stdout"
        },
        {
          "output_type": "execute_result",
          "data": {
            "text/html": [
              "<div>\n",
              "<style scoped>\n",
              "    .dataframe tbody tr th:only-of-type {\n",
              "        vertical-align: middle;\n",
              "    }\n",
              "\n",
              "    .dataframe tbody tr th {\n",
              "        vertical-align: top;\n",
              "    }\n",
              "\n",
              "    .dataframe thead th {\n",
              "        text-align: right;\n",
              "    }\n",
              "</style>\n",
              "<table border=\"1\" class=\"dataframe\">\n",
              "  <thead>\n",
              "    <tr style=\"text-align: right;\">\n",
              "      <th></th>\n",
              "      <th>fullVisitorId</th>\n",
              "      <th>transactionRevenue</th>\n",
              "      <th>final_revenue</th>\n",
              "    </tr>\n",
              "  </thead>\n",
              "  <tbody>\n",
              "    <tr>\n",
              "      <th>0</th>\n",
              "      <td>1995526696366</td>\n",
              "      <td>0.0</td>\n",
              "      <td>0.0</td>\n",
              "    </tr>\n",
              "    <tr>\n",
              "      <th>1</th>\n",
              "      <td>16367580689231</td>\n",
              "      <td>0.0</td>\n",
              "      <td>0.0</td>\n",
              "    </tr>\n",
              "    <tr>\n",
              "      <th>2</th>\n",
              "      <td>18966949534117</td>\n",
              "      <td>0.0</td>\n",
              "      <td>0.0</td>\n",
              "    </tr>\n",
              "    <tr>\n",
              "      <th>3</th>\n",
              "      <td>24844201502183</td>\n",
              "      <td>0.0</td>\n",
              "      <td>0.0</td>\n",
              "    </tr>\n",
              "    <tr>\n",
              "      <th>4</th>\n",
              "      <td>24845665201193</td>\n",
              "      <td>0.0</td>\n",
              "      <td>0.0</td>\n",
              "    </tr>\n",
              "  </tbody>\n",
              "</table>\n",
              "</div>"
            ],
            "text/plain": [
              "    fullVisitorId  transactionRevenue  final_revenue\n",
              "0   1995526696366                 0.0            0.0\n",
              "1  16367580689231                 0.0            0.0\n",
              "2  18966949534117                 0.0            0.0\n",
              "3  24844201502183                 0.0            0.0\n",
              "4  24845665201193                 0.0            0.0"
            ]
          },
          "metadata": {
            "tags": []
          },
          "execution_count": 88
        }
      ]
    },
    {
      "cell_type": "code",
      "metadata": {
        "id": "FzrKWg1hcsfB",
        "colab_type": "code",
        "colab": {
          "base_uri": "https://localhost:8080/",
          "height": 85
        },
        "outputId": "2c1fe95f-1a33-4cba-9768-b8a53c4dc799"
      },
      "source": [
        "mse=mean_squared_error(merge_2.transactionRevenue, merge_2.final_revenue)\n",
        "print(\"mean square error\",mse)\n",
        "rms = sqrt(mean_squared_error(merge_2.transactionRevenue, merge_2.final_revenue))\n",
        "print(\"root mean square error\",rms)\n",
        "mae=mean_absolute_error(merge_2.transactionRevenue, merge_2.final_revenue)\n",
        "print(\"mean absolute error\",mae)\n",
        "\n",
        "merge_2.shape"
      ],
      "execution_count": 94,
      "outputs": [
        {
          "output_type": "stream",
          "text": [
            "mean square error 24.670394530559932\n",
            "root mean square error 4.966930091168984\n",
            "mean absolute error 1.319528259085261\n"
          ],
          "name": "stdout"
        },
        {
          "output_type": "execute_result",
          "data": {
            "text/plain": [
              "(300364, 3)"
            ]
          },
          "metadata": {
            "tags": []
          },
          "execution_count": 94
        }
      ]
    },
    {
      "cell_type": "code",
      "metadata": {
        "id": "Vvo83p8WcsYF",
        "colab_type": "code",
        "colab": {
          "base_uri": "https://localhost:8080/",
          "height": 204
        },
        "outputId": "03059106-e57c-4338-9ea6-f52e2add2f2b"
      },
      "source": [
        "merge_2.to_csv(\"final_result.csv\")\n",
        "merge_2.head()"
      ],
      "execution_count": 102,
      "outputs": [
        {
          "output_type": "execute_result",
          "data": {
            "text/html": [
              "<div>\n",
              "<style scoped>\n",
              "    .dataframe tbody tr th:only-of-type {\n",
              "        vertical-align: middle;\n",
              "    }\n",
              "\n",
              "    .dataframe tbody tr th {\n",
              "        vertical-align: top;\n",
              "    }\n",
              "\n",
              "    .dataframe thead th {\n",
              "        text-align: right;\n",
              "    }\n",
              "</style>\n",
              "<table border=\"1\" class=\"dataframe\">\n",
              "  <thead>\n",
              "    <tr style=\"text-align: right;\">\n",
              "      <th></th>\n",
              "      <th>fullVisitorId</th>\n",
              "      <th>transactionRevenue</th>\n",
              "      <th>final_revenue</th>\n",
              "    </tr>\n",
              "  </thead>\n",
              "  <tbody>\n",
              "    <tr>\n",
              "      <th>0</th>\n",
              "      <td>1995526696366</td>\n",
              "      <td>0.0</td>\n",
              "      <td>0.0</td>\n",
              "    </tr>\n",
              "    <tr>\n",
              "      <th>1</th>\n",
              "      <td>16367580689231</td>\n",
              "      <td>0.0</td>\n",
              "      <td>0.0</td>\n",
              "    </tr>\n",
              "    <tr>\n",
              "      <th>2</th>\n",
              "      <td>18966949534117</td>\n",
              "      <td>0.0</td>\n",
              "      <td>0.0</td>\n",
              "    </tr>\n",
              "    <tr>\n",
              "      <th>3</th>\n",
              "      <td>24844201502183</td>\n",
              "      <td>0.0</td>\n",
              "      <td>0.0</td>\n",
              "    </tr>\n",
              "    <tr>\n",
              "      <th>4</th>\n",
              "      <td>24845665201193</td>\n",
              "      <td>0.0</td>\n",
              "      <td>0.0</td>\n",
              "    </tr>\n",
              "  </tbody>\n",
              "</table>\n",
              "</div>"
            ],
            "text/plain": [
              "    fullVisitorId  transactionRevenue  final_revenue\n",
              "0   1995526696366                 0.0            0.0\n",
              "1  16367580689231                 0.0            0.0\n",
              "2  18966949534117                 0.0            0.0\n",
              "3  24844201502183                 0.0            0.0\n",
              "4  24845665201193                 0.0            0.0"
            ]
          },
          "metadata": {
            "tags": []
          },
          "execution_count": 102
        }
      ]
    },
    {
      "cell_type": "code",
      "metadata": {
        "id": "OC1MTd-PgPR3",
        "colab_type": "code",
        "colab": {
          "base_uri": "https://localhost:8080/",
          "height": 34
        },
        "outputId": "e94ea1bb-3e83-4d1b-e0af-94f657d938d9"
      },
      "source": [
        "!ls"
      ],
      "execution_count": 92,
      "outputs": [
        {
          "output_type": "stream",
          "text": [
            "drive  final_result.csv  sample_data\n"
          ],
          "name": "stdout"
        }
      ]
    },
    {
      "cell_type": "code",
      "metadata": {
        "id": "7j_1oUKacsU_",
        "colab_type": "code",
        "colab": {}
      },
      "source": [
        "from google.colab import files\n",
        "files.download('final_result.csv') "
      ],
      "execution_count": 0,
      "outputs": []
    },
    {
      "cell_type": "code",
      "metadata": {
        "id": "kK7jLl_6csTH",
        "colab_type": "code",
        "colab": {
          "resources": {
            "http://localhost:8080/nbextensions/google.colab/files.js": {
              "data": "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",
              "ok": true,
              "headers": [
                [
                  "content-type",
                  "application/javascript"
                ]
              ],
              "status": 200,
              "status_text": ""
            }
          },
          "base_uri": "https://localhost:8080/",
          "height": 74
        },
        "outputId": "6809795a-ed30-48cb-9678-198f9c62577b"
      },
      "source": [
        "uploaded = files.upload()"
      ],
      "execution_count": 96,
      "outputs": [
        {
          "output_type": "display_data",
          "data": {
            "text/html": [
              "\n",
              "     <input type=\"file\" id=\"files-e62fd419-dfb0-4db8-a5fa-fc8da2378e55\" name=\"files[]\" multiple disabled />\n",
              "     <output id=\"result-e62fd419-dfb0-4db8-a5fa-fc8da2378e55\">\n",
              "      Upload widget is only available when the cell has been executed in the\n",
              "      current browser session. Please rerun this cell to enable.\n",
              "      </output>\n",
              "      <script src=\"/nbextensions/google.colab/files.js\"></script> "
            ],
            "text/plain": [
              "<IPython.core.display.HTML object>"
            ]
          },
          "metadata": {
            "tags": []
          }
        },
        {
          "output_type": "stream",
          "text": [
            "Saving sample_submission_v2.csv to sample_submission_v2.csv\n"
          ],
          "name": "stdout"
        }
      ]
    },
    {
      "cell_type": "code",
      "metadata": {
        "id": "lL61BottcsMD",
        "colab_type": "code",
        "colab": {
          "base_uri": "https://localhost:8080/",
          "height": 34
        },
        "outputId": "49d53e17-9a39-4a0d-b791-eb479f9146f1"
      },
      "source": [
        "!ls"
      ],
      "execution_count": 97,
      "outputs": [
        {
          "output_type": "stream",
          "text": [
            "drive  final_result.csv  sample_data  sample_submission_v2.csv\n"
          ],
          "name": "stdout"
        }
      ]
    },
    {
      "cell_type": "code",
      "metadata": {
        "id": "0Qa75MzhhLIw",
        "colab_type": "code",
        "colab": {
          "base_uri": "https://localhost:8080/",
          "height": 238
        },
        "outputId": "f1764aa3-07a8-4fdf-ce89-ff05e1340b13"
      },
      "source": [
        "final_ans = pd.read_csv('sample_submission_v2.csv')\n",
        "final_ans.head()"
      ],
      "execution_count": 101,
      "outputs": [
        {
          "output_type": "stream",
          "text": [
            "/usr/local/lib/python3.6/dist-packages/IPython/core/interactiveshell.py:2718: DtypeWarning: Columns (0) have mixed types. Specify dtype option on import or set low_memory=False.\n",
            "  interactivity=interactivity, compiler=compiler, result=result)\n"
          ],
          "name": "stderr"
        },
        {
          "output_type": "execute_result",
          "data": {
            "text/html": [
              "<div>\n",
              "<style scoped>\n",
              "    .dataframe tbody tr th:only-of-type {\n",
              "        vertical-align: middle;\n",
              "    }\n",
              "\n",
              "    .dataframe tbody tr th {\n",
              "        vertical-align: top;\n",
              "    }\n",
              "\n",
              "    .dataframe thead th {\n",
              "        text-align: right;\n",
              "    }\n",
              "</style>\n",
              "<table border=\"1\" class=\"dataframe\">\n",
              "  <thead>\n",
              "    <tr style=\"text-align: right;\">\n",
              "      <th></th>\n",
              "      <th>fullVisitorId</th>\n",
              "      <th>PredictedLogRevenue</th>\n",
              "    </tr>\n",
              "  </thead>\n",
              "  <tbody>\n",
              "    <tr>\n",
              "      <th>0</th>\n",
              "      <td>0000018966949534117</td>\n",
              "      <td>0.0</td>\n",
              "    </tr>\n",
              "    <tr>\n",
              "      <th>1</th>\n",
              "      <td>0000039738481224681</td>\n",
              "      <td>0.0</td>\n",
              "    </tr>\n",
              "    <tr>\n",
              "      <th>2</th>\n",
              "      <td>0000073585230191399</td>\n",
              "      <td>0.0</td>\n",
              "    </tr>\n",
              "    <tr>\n",
              "      <th>3</th>\n",
              "      <td>0000087588448856385</td>\n",
              "      <td>0.0</td>\n",
              "    </tr>\n",
              "    <tr>\n",
              "      <th>4</th>\n",
              "      <td>0000149787903119437</td>\n",
              "      <td>0.0</td>\n",
              "    </tr>\n",
              "  </tbody>\n",
              "</table>\n",
              "</div>"
            ],
            "text/plain": [
              "         fullVisitorId  PredictedLogRevenue\n",
              "0  0000018966949534117                  0.0\n",
              "1  0000039738481224681                  0.0\n",
              "2  0000073585230191399                  0.0\n",
              "3  0000087588448856385                  0.0\n",
              "4  0000149787903119437                  0.0"
            ]
          },
          "metadata": {
            "tags": []
          },
          "execution_count": 101
        }
      ]
    },
    {
      "cell_type": "code",
      "metadata": {
        "id": "L4286yBVhNfF",
        "colab_type": "code",
        "colab": {
          "base_uri": "https://localhost:8080/",
          "height": 34
        },
        "outputId": "197e2dce-c935-45fa-b929-525d9326ca09"
      },
      "source": [
        "final_ans.shape"
      ],
      "execution_count": 100,
      "outputs": [
        {
          "output_type": "execute_result",
          "data": {
            "text/plain": [
              "(296530, 2)"
            ]
          },
          "metadata": {
            "tags": []
          },
          "execution_count": 100
        }
      ]
    },
    {
      "cell_type": "code",
      "metadata": {
        "id": "RmHhLRC7hNi3",
        "colab_type": "code",
        "colab": {}
      },
      "source": [
        "answer = pd.merge(final_ans,merge_2,on='fullVisitorId')"
      ],
      "execution_count": 0,
      "outputs": []
    },
    {
      "cell_type": "code",
      "metadata": {
        "id": "hIXxqxO8hLFq",
        "colab_type": "code",
        "colab": {
          "base_uri": "https://localhost:8080/",
          "height": 204
        },
        "outputId": "c2ac6be1-20e7-4f11-a0c5-52ba0b9163df"
      },
      "source": [
        "answer.head()"
      ],
      "execution_count": 104,
      "outputs": [
        {
          "output_type": "execute_result",
          "data": {
            "text/html": [
              "<div>\n",
              "<style scoped>\n",
              "    .dataframe tbody tr th:only-of-type {\n",
              "        vertical-align: middle;\n",
              "    }\n",
              "\n",
              "    .dataframe tbody tr th {\n",
              "        vertical-align: top;\n",
              "    }\n",
              "\n",
              "    .dataframe thead th {\n",
              "        text-align: right;\n",
              "    }\n",
              "</style>\n",
              "<table border=\"1\" class=\"dataframe\">\n",
              "  <thead>\n",
              "    <tr style=\"text-align: right;\">\n",
              "      <th></th>\n",
              "      <th>fullVisitorId</th>\n",
              "      <th>PredictedLogRevenue</th>\n",
              "      <th>transactionRevenue</th>\n",
              "      <th>final_revenue</th>\n",
              "    </tr>\n",
              "  </thead>\n",
              "  <tbody>\n",
              "    <tr>\n",
              "      <th>0</th>\n",
              "      <td>0000196310838896290</td>\n",
              "      <td>0.0</td>\n",
              "      <td>0.0</td>\n",
              "      <td>19.867911</td>\n",
              "    </tr>\n",
              "    <tr>\n",
              "      <th>1</th>\n",
              "      <td>0000268499301061358</td>\n",
              "      <td>0.0</td>\n",
              "      <td>0.0</td>\n",
              "      <td>0.000000</td>\n",
              "    </tr>\n",
              "    <tr>\n",
              "      <th>2</th>\n",
              "      <td>0000900085223565423</td>\n",
              "      <td>0.0</td>\n",
              "      <td>0.0</td>\n",
              "      <td>0.000000</td>\n",
              "    </tr>\n",
              "    <tr>\n",
              "      <th>3</th>\n",
              "      <td>000101445922736554</td>\n",
              "      <td>0.0</td>\n",
              "      <td>0.0</td>\n",
              "      <td>0.000000</td>\n",
              "    </tr>\n",
              "    <tr>\n",
              "      <th>4</th>\n",
              "      <td>0001180870711546826</td>\n",
              "      <td>0.0</td>\n",
              "      <td>0.0</td>\n",
              "      <td>0.000000</td>\n",
              "    </tr>\n",
              "  </tbody>\n",
              "</table>\n",
              "</div>"
            ],
            "text/plain": [
              "         fullVisitorId  PredictedLogRevenue  transactionRevenue  final_revenue\n",
              "0  0000196310838896290                  0.0                 0.0      19.867911\n",
              "1  0000268499301061358                  0.0                 0.0       0.000000\n",
              "2  0000900085223565423                  0.0                 0.0       0.000000\n",
              "3   000101445922736554                  0.0                 0.0       0.000000\n",
              "4  0001180870711546826                  0.0                 0.0       0.000000"
            ]
          },
          "metadata": {
            "tags": []
          },
          "execution_count": 104
        }
      ]
    },
    {
      "cell_type": "code",
      "metadata": {
        "id": "viwSpmbiiPRm",
        "colab_type": "code",
        "colab": {
          "base_uri": "https://localhost:8080/",
          "height": 68
        },
        "outputId": "b5d6a025-5037-45b5-fbb1-5a7729023b0c"
      },
      "source": [
        "answer.columns"
      ],
      "execution_count": 105,
      "outputs": [
        {
          "output_type": "execute_result",
          "data": {
            "text/plain": [
              "Index(['fullVisitorId', 'PredictedLogRevenue', 'transactionRevenue',\n",
              "       'final_revenue'],\n",
              "      dtype='object')"
            ]
          },
          "metadata": {
            "tags": []
          },
          "execution_count": 105
        }
      ]
    },
    {
      "cell_type": "code",
      "metadata": {
        "id": "vWRima5aiPO4",
        "colab_type": "code",
        "colab": {}
      },
      "source": [
        "answer.drop(['PredictedLogRevenue', 'transactionRevenue'],axis = 1 , inplace = True)"
      ],
      "execution_count": 0,
      "outputs": []
    },
    {
      "cell_type": "code",
      "metadata": {
        "id": "mAitAJU-iPMz",
        "colab_type": "code",
        "colab": {
          "base_uri": "https://localhost:8080/",
          "height": 34
        },
        "outputId": "41c8ca0e-3b1c-4b36-e724-d13055611feb"
      },
      "source": [
        "answer.columns = ['fullVisitorId', 'PredictedLogRevenue']\n",
        "answer.shape"
      ],
      "execution_count": 113,
      "outputs": [
        {
          "output_type": "execute_result",
          "data": {
            "text/plain": [
              "(45960, 2)"
            ]
          },
          "metadata": {
            "tags": []
          },
          "execution_count": 113
        }
      ]
    },
    {
      "cell_type": "code",
      "metadata": {
        "id": "VZaY2TpHiPJE",
        "colab_type": "code",
        "colab": {
          "base_uri": "https://localhost:8080/",
          "height": 204
        },
        "outputId": "70b35a28-9bf8-4576-de4e-b0ef66abf7e6"
      },
      "source": [
        "answer.to_csv(\"answer.csv\")\n",
        "answer.head()"
      ],
      "execution_count": 111,
      "outputs": [
        {
          "output_type": "execute_result",
          "data": {
            "text/html": [
              "<div>\n",
              "<style scoped>\n",
              "    .dataframe tbody tr th:only-of-type {\n",
              "        vertical-align: middle;\n",
              "    }\n",
              "\n",
              "    .dataframe tbody tr th {\n",
              "        vertical-align: top;\n",
              "    }\n",
              "\n",
              "    .dataframe thead th {\n",
              "        text-align: right;\n",
              "    }\n",
              "</style>\n",
              "<table border=\"1\" class=\"dataframe\">\n",
              "  <thead>\n",
              "    <tr style=\"text-align: right;\">\n",
              "      <th></th>\n",
              "      <th>fullVisitorId</th>\n",
              "      <th>PredictedLogRevenue</th>\n",
              "    </tr>\n",
              "  </thead>\n",
              "  <tbody>\n",
              "    <tr>\n",
              "      <th>0</th>\n",
              "      <td>0000196310838896290</td>\n",
              "      <td>19.867911</td>\n",
              "    </tr>\n",
              "    <tr>\n",
              "      <th>1</th>\n",
              "      <td>0000268499301061358</td>\n",
              "      <td>0.000000</td>\n",
              "    </tr>\n",
              "    <tr>\n",
              "      <th>2</th>\n",
              "      <td>0000900085223565423</td>\n",
              "      <td>0.000000</td>\n",
              "    </tr>\n",
              "    <tr>\n",
              "      <th>3</th>\n",
              "      <td>000101445922736554</td>\n",
              "      <td>0.000000</td>\n",
              "    </tr>\n",
              "    <tr>\n",
              "      <th>4</th>\n",
              "      <td>0001180870711546826</td>\n",
              "      <td>0.000000</td>\n",
              "    </tr>\n",
              "  </tbody>\n",
              "</table>\n",
              "</div>"
            ],
            "text/plain": [
              "         fullVisitorId  PredictedLogRevenue\n",
              "0  0000196310838896290            19.867911\n",
              "1  0000268499301061358             0.000000\n",
              "2  0000900085223565423             0.000000\n",
              "3   000101445922736554             0.000000\n",
              "4  0001180870711546826             0.000000"
            ]
          },
          "metadata": {
            "tags": []
          },
          "execution_count": 111
        }
      ]
    },
    {
      "cell_type": "code",
      "metadata": {
        "id": "7r0KZ3TKitF_",
        "colab_type": "code",
        "colab": {}
      },
      "source": [
        "files.download('answer.csv') "
      ],
      "execution_count": 0,
      "outputs": []
    },
    {
      "cell_type": "code",
      "metadata": {
        "id": "UwDuLlpFof42",
        "colab_type": "code",
        "colab": {}
      },
      "source": [
        ""
      ],
      "execution_count": 0,
      "outputs": []
    },
    {
      "cell_type": "code",
      "metadata": {
        "id": "opOpujZIofzq",
        "colab_type": "code",
        "colab": {}
      },
      "source": [
        ""
      ],
      "execution_count": 0,
      "outputs": []
    },
    {
      "cell_type": "code",
      "metadata": {
        "id": "fuS28Z0FmxYC",
        "colab_type": "code",
        "colab": {}
      },
      "source": [
        "#Running light GB model \n",
        "import lightgbm as lgb\n",
        "\n",
        "params = {\n",
        "    \"objective\" : \"regression\",\n",
        "    \"metric\" : \"rmse\", \n",
        "    \"num_leaves\" : 30,\n",
        "    \"min_child_samples\" : 100,\n",
        "    \"learning_rate\" : 0.1,\n",
        "    \"bagging_fraction\" : 0.7,\n",
        "    \"feature_fraction\" : 0.5,\n",
        "    \"bagging_frequency\" : 5,\n",
        "    \"bagging_seed\" : 2018,\n",
        "    \"verbosity\" : -1\n",
        "}\n",
        "\n",
        "lgtrain = lgb.Dataset(Xr_rus , label=yr_rus)\n",
        "lgval = lgb.Dataset(test_df_regressor, label= Groundtruth_revenue)"
      ],
      "execution_count": 0,
      "outputs": []
    },
    {
      "cell_type": "code",
      "metadata": {
        "id": "1f7AZ5I8mxQq",
        "colab_type": "code",
        "colab": {
          "base_uri": "https://localhost:8080/",
          "height": 85
        },
        "outputId": "915415f7-10a1-4622-bbdc-0204b0d63b5d"
      },
      "source": [
        "model = lgb.train(params, lgtrain, 1000, valid_sets=[lgval], early_stopping_rounds=100, verbose_eval=100)\n",
        "\n",
        "pred_val_y = model.predict(test_df_regressor, num_iteration=model.best_iteration)"
      ],
      "execution_count": 123,
      "outputs": [
        {
          "output_type": "stream",
          "text": [
            "Training until validation scores don't improve for 100 rounds.\n",
            "[100]\tvalid_0's rmse: 2.13405e+08\n",
            "Early stopping, best iteration is:\n",
            "[16]\tvalid_0's rmse: 1.93021e+08\n"
          ],
          "name": "stdout"
        }
      ]
    },
    {
      "cell_type": "code",
      "metadata": {
        "id": "Hngm6vJrmxNZ",
        "colab_type": "code",
        "colab": {
          "base_uri": "https://localhost:8080/",
          "height": 51
        },
        "outputId": "b0c080c3-c399-4584-ed65-f71fbb575862"
      },
      "source": [
        "pred_val_y"
      ],
      "execution_count": 125,
      "outputs": [
        {
          "output_type": "execute_result",
          "data": {
            "text/plain": [
              "array([1.16938527e+08, 8.33106253e+08, 1.78737835e+08, ...,\n",
              "       1.83226322e+08, 1.58734114e+08, 1.56439957e+08])"
            ]
          },
          "metadata": {
            "tags": []
          },
          "execution_count": 125
        }
      ]
    },
    {
      "cell_type": "code",
      "metadata": {
        "id": "AdjpiVjpmxLT",
        "colab_type": "code",
        "colab": {
          "base_uri": "https://localhost:8080/",
          "height": 68
        },
        "outputId": "d10cf462-bf8d-4e29-c8fe-4dbd55f040af"
      },
      "source": [
        "# multiplying the classifier and the regressor to predict only for those columns which have classified as a transaction\n",
        "lgm_regression = predicted_classifier * pred_val_y\n",
        "\n",
        "# JUST FOR THE CLASSIFIER AND THE REGRESSOR\n",
        "from math import sqrt\n",
        "\n",
        "mse=mean_squared_error(Groundtruth_revenue, lgm_regression)\n",
        "print(\"mean square error\",mse)\n",
        "rms = sqrt(mean_squared_error(Groundtruth_revenue, lgm_regression))\n",
        "print(\"root mean square error\",rms)\n",
        "mae=mean_absolute_error(Groundtruth_revenue, lgm_regression)\n",
        "print(\"mean absolute error\",mae)"
      ],
      "execution_count": 126,
      "outputs": [
        {
          "output_type": "stream",
          "text": [
            "mean square error 6354443087544600.0\n",
            "root mean square error 79714760.78835462\n",
            "mean absolute error 15209533.643929392\n"
          ],
          "name": "stdout"
        }
      ]
    },
    {
      "cell_type": "code",
      "metadata": {
        "id": "sZjQDptHmxJW",
        "colab_type": "code",
        "colab": {
          "base_uri": "https://localhost:8080/",
          "height": 510
        },
        "outputId": "d9a9793e-47d0-46ac-a445-4aeea68b7142"
      },
      "source": [
        "# creating a data frame for the Classifier and the regressor model \n",
        "\n",
        "df_3 = pd.DataFrame({'fullVisitorId':visitorid, 'lgm_revenue':lgm_regression})\n",
        "print(\"The head is\")\n",
        "print(df_3.head())\n",
        "print(\"\")\n",
        "print(\"___________________________________________________\")\n",
        "\n",
        "\n",
        "visitor_level3 = df_3.groupby('fullVisitorId').mean().reset_index()\n",
        "print(\"Visitor level shape is\",visitor_level3.shape)\n",
        "print(visitor_level3.head())\n",
        "\n",
        "# merging them both \n",
        "print(\"\")\n",
        "print(\"___________________________________________________\")\n",
        "merge_3 = pd.merge(groundtruth_prediction, visitor_level3, on = 'fullVisitorId')\n",
        "\n",
        "merge_3.transactionRevenue = np.log(merge_3.transactionRevenue + 1)\n",
        "merge_3.lgm_revenue = np.log(merge_3.lgm_revenue +1 )\n",
        "merge_3.head()"
      ],
      "execution_count": 128,
      "outputs": [
        {
          "output_type": "stream",
          "text": [
            "The head is\n",
            "         fullVisitorId  lgm_revenue\n",
            "0  7460955084541987166          0.0\n",
            "1   460252456180441002          0.0\n",
            "2  3461808543879602873          0.0\n",
            "3   975129477712150630          0.0\n",
            "4  8381672768065729990          0.0\n",
            "\n",
            "___________________________________________________\n",
            "Visitor level shape is (300364, 2)\n",
            "    fullVisitorId  lgm_revenue\n",
            "0   1995526696366          0.0\n",
            "1  16367580689231          0.0\n",
            "2  18966949534117          0.0\n",
            "3  24844201502183          0.0\n",
            "4  24845665201193          0.0\n",
            "\n",
            "___________________________________________________\n"
          ],
          "name": "stdout"
        },
        {
          "output_type": "execute_result",
          "data": {
            "text/html": [
              "<div>\n",
              "<style scoped>\n",
              "    .dataframe tbody tr th:only-of-type {\n",
              "        vertical-align: middle;\n",
              "    }\n",
              "\n",
              "    .dataframe tbody tr th {\n",
              "        vertical-align: top;\n",
              "    }\n",
              "\n",
              "    .dataframe thead th {\n",
              "        text-align: right;\n",
              "    }\n",
              "</style>\n",
              "<table border=\"1\" class=\"dataframe\">\n",
              "  <thead>\n",
              "    <tr style=\"text-align: right;\">\n",
              "      <th></th>\n",
              "      <th>fullVisitorId</th>\n",
              "      <th>transactionRevenue</th>\n",
              "      <th>lgm_revenue</th>\n",
              "    </tr>\n",
              "  </thead>\n",
              "  <tbody>\n",
              "    <tr>\n",
              "      <th>0</th>\n",
              "      <td>1995526696366</td>\n",
              "      <td>0.0</td>\n",
              "      <td>0.0</td>\n",
              "    </tr>\n",
              "    <tr>\n",
              "      <th>1</th>\n",
              "      <td>16367580689231</td>\n",
              "      <td>0.0</td>\n",
              "      <td>0.0</td>\n",
              "    </tr>\n",
              "    <tr>\n",
              "      <th>2</th>\n",
              "      <td>18966949534117</td>\n",
              "      <td>0.0</td>\n",
              "      <td>0.0</td>\n",
              "    </tr>\n",
              "    <tr>\n",
              "      <th>3</th>\n",
              "      <td>24844201502183</td>\n",
              "      <td>0.0</td>\n",
              "      <td>0.0</td>\n",
              "    </tr>\n",
              "    <tr>\n",
              "      <th>4</th>\n",
              "      <td>24845665201193</td>\n",
              "      <td>0.0</td>\n",
              "      <td>0.0</td>\n",
              "    </tr>\n",
              "  </tbody>\n",
              "</table>\n",
              "</div>"
            ],
            "text/plain": [
              "    fullVisitorId  transactionRevenue  lgm_revenue\n",
              "0   1995526696366                 0.0          0.0\n",
              "1  16367580689231                 0.0          0.0\n",
              "2  18966949534117                 0.0          0.0\n",
              "3  24844201502183                 0.0          0.0\n",
              "4  24845665201193                 0.0          0.0"
            ]
          },
          "metadata": {
            "tags": []
          },
          "execution_count": 128
        }
      ]
    },
    {
      "cell_type": "code",
      "metadata": {
        "id": "4eFsDj50mxGl",
        "colab_type": "code",
        "colab": {
          "base_uri": "https://localhost:8080/",
          "height": 85
        },
        "outputId": "cf3f70bb-2a55-4bfb-f0d1-7930ca5d40e6"
      },
      "source": [
        "mse=mean_squared_error(merge_3.transactionRevenue, merge_3.lgm_revenue)\n",
        "print(\"mean square error\",mse)\n",
        "rms = sqrt(mean_squared_error(merge_3.transactionRevenue, merge_3.lgm_revenue))\n",
        "print(\"root mean square error\",rms)\n",
        "mae=mean_absolute_error(merge_3.transactionRevenue, merge_3.lgm_revenue)\n",
        "print(\"mean absolute error\",mae)\n",
        "\n",
        "merge_3.shape"
      ],
      "execution_count": 130,
      "outputs": [
        {
          "output_type": "stream",
          "text": [
            "mean square error 23.467225736538985\n",
            "root mean square error 4.844298270806514\n",
            "mean absolute error 1.2824130957610764\n"
          ],
          "name": "stdout"
        },
        {
          "output_type": "execute_result",
          "data": {
            "text/plain": [
              "(300364, 3)"
            ]
          },
          "metadata": {
            "tags": []
          },
          "execution_count": 130
        }
      ]
    },
    {
      "cell_type": "code",
      "metadata": {
        "id": "9ZoAn52ZmxCc",
        "colab_type": "code",
        "colab": {}
      },
      "source": [
        ""
      ],
      "execution_count": 0,
      "outputs": []
    },
    {
      "cell_type": "code",
      "metadata": {
        "id": "UuuTwyudmw-v",
        "colab_type": "code",
        "colab": {}
      },
      "source": [
        ""
      ],
      "execution_count": 0,
      "outputs": []
    },
    {
      "cell_type": "code",
      "metadata": {
        "id": "ZVF9pYgZmw7b",
        "colab_type": "code",
        "colab": {}
      },
      "source": [
        ""
      ],
      "execution_count": 0,
      "outputs": []
    },
    {
      "cell_type": "code",
      "metadata": {
        "id": "NWStBolumw4c",
        "colab_type": "code",
        "colab": {}
      },
      "source": [
        ""
      ],
      "execution_count": 0,
      "outputs": []
    },
    {
      "cell_type": "markdown",
      "metadata": {
        "id": "5yTt_4Y1NOhm",
        "colab_type": "text"
      },
      "source": [
        "# Random Search CV for finding the best model parameters"
      ]
    },
    {
      "cell_type": "code",
      "metadata": {
        "id": "elYsAno-CIku",
        "colab_type": "code",
        "colab": {}
      },
      "source": [
        "from sklearn.model_selection import cross_val_score, train_test_split, GridSearchCV"
      ],
      "execution_count": 0,
      "outputs": []
    },
    {
      "cell_type": "code",
      "metadata": {
        "id": "5KzER_qyCIlC",
        "colab_type": "code",
        "colab": {}
      },
      "source": [
        "#Test_train_split\n",
        "X_train, X_test, y_train, y_test = train_test_split(X_rus, y_rus, test_size=0.30, random_state= 42)"
      ],
      "execution_count": 0,
      "outputs": []
    },
    {
      "cell_type": "code",
      "metadata": {
        "id": "JVUuN2MyRCEj",
        "colab_type": "code",
        "colab": {}
      },
      "source": [
        ""
      ],
      "execution_count": 0,
      "outputs": []
    },
    {
      "cell_type": "code",
      "metadata": {
        "id": "5ZNxqp4fCIlO",
        "colab_type": "code",
        "outputId": "b822cb62-510a-4cec-cca7-710017a95002",
        "colab": {
          "base_uri": "https://localhost:8080/",
          "height": 51
        }
      },
      "source": [
        "from sklearn.model_selection import RandomizedSearchCV\n",
        "from pprint import pprint\n",
        "\n",
        "# Number of trees in random forest\n",
        "n_estimators = [int(x) for x in np.linspace(start = 200, stop = 2000, num = 5)]\n",
        "\n",
        "# Maximum number of levels in tree\n",
        "max_depth = [int(x) for x in np.linspace(10, 110, num = 5)]\n",
        "max_depth.append(None)\n",
        "\n",
        "# Minimum number of samples required to split a node\n",
        "# min_samples_split = [3, 7]\n",
        "\n",
        "# Create the random grid\n",
        "random_grid = {'n_estimators': n_estimators,\n",
        "               'max_depth': max_depth}\n",
        "\n",
        "pprint(random_grid)"
      ],
      "execution_count": 0,
      "outputs": [
        {
          "output_type": "stream",
          "text": [
            "{'max_depth': [10, 35, 60, 85, 110, None],\n",
            " 'n_estimators': [200, 650, 1100, 1550, 2000]}\n"
          ],
          "name": "stdout"
        }
      ]
    },
    {
      "cell_type": "code",
      "metadata": {
        "id": "_i3wEB_QCIlQ",
        "colab_type": "code",
        "outputId": "b2a9a653-3e03-4810-cd69-89326f5491bb",
        "colab": {
          "base_uri": "https://localhost:8080/",
          "height": 1000
        }
      },
      "source": [
        "from sklearn.ensemble import RandomForestClassifier\n",
        "\n",
        "# Use the random grid to search for best hyperparameters\n",
        "# First create the base model to tune\n",
        "rf = RandomForestClassifier(random_state = 42,n_jobs = -1)\n",
        "\n",
        "# Random search of parameters, using 3 fold cross validation, \n",
        "# search across 100 different combinations, and use all available cores\n",
        "\n",
        "rf_random = RandomizedSearchCV(estimator = rf, param_distributions = random_grid, n_iter = 100, cv = 3, verbose=2)\n",
        "\n",
        "# Fit the random search model\n",
        "rf_random.fit(X_train, y_train)"
      ],
      "execution_count": 0,
      "outputs": [
        {
          "output_type": "stream",
          "text": [
            "Fitting 3 folds for each of 30 candidates, totalling 90 fits\n",
            "[CV] n_estimators=200, max_depth=10 ..................................\n"
          ],
          "name": "stdout"
        },
        {
          "output_type": "stream",
          "text": [
            "/usr/local/lib/python3.6/dist-packages/sklearn/model_selection/_search.py:266: UserWarning: The total space of parameters 30 is smaller than n_iter=100. Running 30 iterations. For exhaustive searches, use GridSearchCV.\n",
            "  % (grid_size, self.n_iter, grid_size), UserWarning)\n",
            "[Parallel(n_jobs=1)]: Using backend SequentialBackend with 1 concurrent workers.\n"
          ],
          "name": "stderr"
        },
        {
          "output_type": "stream",
          "text": [
            "[CV] ................... n_estimators=200, max_depth=10, total=   4.3s\n",
            "[CV] n_estimators=200, max_depth=10 ..................................\n"
          ],
          "name": "stdout"
        },
        {
          "output_type": "stream",
          "text": [
            "[Parallel(n_jobs=1)]: Done   1 out of   1 | elapsed:    4.3s remaining:    0.0s\n"
          ],
          "name": "stderr"
        },
        {
          "output_type": "stream",
          "text": [
            "[CV] ................... n_estimators=200, max_depth=10, total=   3.9s\n",
            "[CV] n_estimators=200, max_depth=10 ..................................\n",
            "[CV] ................... n_estimators=200, max_depth=10, total=   3.9s\n",
            "[CV] n_estimators=650, max_depth=10 ..................................\n",
            "[CV] ................... n_estimators=650, max_depth=10, total=   9.2s\n",
            "[CV] n_estimators=650, max_depth=10 ..................................\n",
            "[CV] ................... n_estimators=650, max_depth=10, total=   9.2s\n",
            "[CV] n_estimators=650, max_depth=10 ..................................\n",
            "[CV] ................... n_estimators=650, max_depth=10, total=   9.2s\n",
            "[CV] n_estimators=1100, max_depth=10 .................................\n",
            "[CV] .................. n_estimators=1100, max_depth=10, total=  14.5s\n",
            "[CV] n_estimators=1100, max_depth=10 .................................\n",
            "[CV] .................. n_estimators=1100, max_depth=10, total=  14.5s\n",
            "[CV] n_estimators=1100, max_depth=10 .................................\n",
            "[CV] .................. n_estimators=1100, max_depth=10, total=  14.4s\n",
            "[CV] n_estimators=1550, max_depth=10 .................................\n",
            "[CV] .................. n_estimators=1550, max_depth=10, total=  19.7s\n",
            "[CV] n_estimators=1550, max_depth=10 .................................\n",
            "[CV] .................. n_estimators=1550, max_depth=10, total=  19.7s\n",
            "[CV] n_estimators=1550, max_depth=10 .................................\n",
            "[CV] .................. n_estimators=1550, max_depth=10, total=  19.8s\n",
            "[CV] n_estimators=2000, max_depth=10 .................................\n",
            "[CV] .................. n_estimators=2000, max_depth=10, total=  25.1s\n",
            "[CV] n_estimators=2000, max_depth=10 .................................\n",
            "[CV] .................. n_estimators=2000, max_depth=10, total=  25.1s\n",
            "[CV] n_estimators=2000, max_depth=10 .................................\n",
            "[CV] .................. n_estimators=2000, max_depth=10, total=  25.0s\n",
            "[CV] n_estimators=200, max_depth=35 ..................................\n",
            "[CV] ................... n_estimators=200, max_depth=35, total=   4.6s\n",
            "[CV] n_estimators=200, max_depth=35 ..................................\n",
            "[CV] ................... n_estimators=200, max_depth=35, total=   4.6s\n",
            "[CV] n_estimators=200, max_depth=35 ..................................\n",
            "[CV] ................... n_estimators=200, max_depth=35, total=   4.6s\n",
            "[CV] n_estimators=650, max_depth=35 ..................................\n",
            "[CV] ................... n_estimators=650, max_depth=35, total=  11.3s\n",
            "[CV] n_estimators=650, max_depth=35 ..................................\n",
            "[CV] ................... n_estimators=650, max_depth=35, total=  11.4s\n",
            "[CV] n_estimators=650, max_depth=35 ..................................\n",
            "[CV] ................... n_estimators=650, max_depth=35, total=  11.2s\n",
            "[CV] n_estimators=1100, max_depth=35 .................................\n",
            "[CV] .................. n_estimators=1100, max_depth=35, total=  18.0s\n",
            "[CV] n_estimators=1100, max_depth=35 .................................\n",
            "[CV] .................. n_estimators=1100, max_depth=35, total=  18.1s\n",
            "[CV] n_estimators=1100, max_depth=35 .................................\n",
            "[CV] .................. n_estimators=1100, max_depth=35, total=  17.9s\n",
            "[CV] n_estimators=1550, max_depth=35 .................................\n",
            "[CV] .................. n_estimators=1550, max_depth=35, total=  24.8s\n",
            "[CV] n_estimators=1550, max_depth=35 .................................\n",
            "[CV] .................. n_estimators=1550, max_depth=35, total=  25.0s\n",
            "[CV] n_estimators=1550, max_depth=35 .................................\n",
            "[CV] .................. n_estimators=1550, max_depth=35, total=  24.6s\n",
            "[CV] n_estimators=2000, max_depth=35 .................................\n",
            "[CV] .................. n_estimators=2000, max_depth=35, total=  31.5s\n",
            "[CV] n_estimators=2000, max_depth=35 .................................\n",
            "[CV] .................. n_estimators=2000, max_depth=35, total=  31.8s\n",
            "[CV] n_estimators=2000, max_depth=35 .................................\n",
            "[CV] .................. n_estimators=2000, max_depth=35, total=  31.3s\n",
            "[CV] n_estimators=200, max_depth=60 ..................................\n",
            "[CV] ................... n_estimators=200, max_depth=60, total=   4.7s\n",
            "[CV] n_estimators=200, max_depth=60 ..................................\n",
            "[CV] ................... n_estimators=200, max_depth=60, total=   4.5s\n",
            "[CV] n_estimators=200, max_depth=60 ..................................\n",
            "[CV] ................... n_estimators=200, max_depth=60, total=   4.6s\n",
            "[CV] n_estimators=650, max_depth=60 ..................................\n",
            "[CV] ................... n_estimators=650, max_depth=60, total=  11.3s\n",
            "[CV] n_estimators=650, max_depth=60 ..................................\n",
            "[CV] ................... n_estimators=650, max_depth=60, total=  11.4s\n",
            "[CV] n_estimators=650, max_depth=60 ..................................\n",
            "[CV] ................... n_estimators=650, max_depth=60, total=  11.3s\n",
            "[CV] n_estimators=1100, max_depth=60 .................................\n",
            "[CV] .................. n_estimators=1100, max_depth=60, total=  18.1s\n",
            "[CV] n_estimators=1100, max_depth=60 .................................\n",
            "[CV] .................. n_estimators=1100, max_depth=60, total=  18.1s\n",
            "[CV] n_estimators=1100, max_depth=60 .................................\n",
            "[CV] .................. n_estimators=1100, max_depth=60, total=  17.9s\n",
            "[CV] n_estimators=1550, max_depth=60 .................................\n",
            "[CV] .................. n_estimators=1550, max_depth=60, total=  24.6s\n",
            "[CV] n_estimators=1550, max_depth=60 .................................\n",
            "[CV] .................. n_estimators=1550, max_depth=60, total=  24.9s\n",
            "[CV] n_estimators=1550, max_depth=60 .................................\n",
            "[CV] .................. n_estimators=1550, max_depth=60, total=  24.6s\n",
            "[CV] n_estimators=2000, max_depth=60 .................................\n",
            "[CV] .................. n_estimators=2000, max_depth=60, total=  31.5s\n",
            "[CV] n_estimators=2000, max_depth=60 .................................\n",
            "[CV] .................. n_estimators=2000, max_depth=60, total=  31.8s\n",
            "[CV] n_estimators=2000, max_depth=60 .................................\n",
            "[CV] .................. n_estimators=2000, max_depth=60, total=  31.5s\n",
            "[CV] n_estimators=200, max_depth=85 ..................................\n",
            "[CV] ................... n_estimators=200, max_depth=85, total=   4.6s\n",
            "[CV] n_estimators=200, max_depth=85 ..................................\n",
            "[CV] ................... n_estimators=200, max_depth=85, total=   4.6s\n",
            "[CV] n_estimators=200, max_depth=85 ..................................\n",
            "[CV] ................... n_estimators=200, max_depth=85, total=   4.6s\n",
            "[CV] n_estimators=650, max_depth=85 ..................................\n",
            "[CV] ................... n_estimators=650, max_depth=85, total=  11.2s\n",
            "[CV] n_estimators=650, max_depth=85 ..................................\n",
            "[CV] ................... n_estimators=650, max_depth=85, total=  11.4s\n",
            "[CV] n_estimators=650, max_depth=85 ..................................\n",
            "[CV] ................... n_estimators=650, max_depth=85, total=  11.3s\n",
            "[CV] n_estimators=1100, max_depth=85 .................................\n",
            "[CV] .................. n_estimators=1100, max_depth=85, total=  18.1s\n",
            "[CV] n_estimators=1100, max_depth=85 .................................\n",
            "[CV] .................. n_estimators=1100, max_depth=85, total=  18.1s\n",
            "[CV] n_estimators=1100, max_depth=85 .................................\n",
            "[CV] .................. n_estimators=1100, max_depth=85, total=  18.1s\n",
            "[CV] n_estimators=1550, max_depth=85 .................................\n",
            "[CV] .................. n_estimators=1550, max_depth=85, total=  24.8s\n",
            "[CV] n_estimators=1550, max_depth=85 .................................\n",
            "[CV] .................. n_estimators=1550, max_depth=85, total=  25.0s\n",
            "[CV] n_estimators=1550, max_depth=85 .................................\n",
            "[CV] .................. n_estimators=1550, max_depth=85, total=  24.7s\n",
            "[CV] n_estimators=2000, max_depth=85 .................................\n",
            "[CV] .................. n_estimators=2000, max_depth=85, total=  31.5s\n",
            "[CV] n_estimators=2000, max_depth=85 .................................\n",
            "[CV] .................. n_estimators=2000, max_depth=85, total=  31.7s\n",
            "[CV] n_estimators=2000, max_depth=85 .................................\n",
            "[CV] .................. n_estimators=2000, max_depth=85, total=  31.3s\n",
            "[CV] n_estimators=200, max_depth=110 .................................\n",
            "[CV] .................. n_estimators=200, max_depth=110, total=   4.7s\n",
            "[CV] n_estimators=200, max_depth=110 .................................\n",
            "[CV] .................. n_estimators=200, max_depth=110, total=   4.7s\n",
            "[CV] n_estimators=200, max_depth=110 .................................\n",
            "[CV] .................. n_estimators=200, max_depth=110, total=   4.6s\n",
            "[CV] n_estimators=650, max_depth=110 .................................\n",
            "[CV] .................. n_estimators=650, max_depth=110, total=  11.3s\n",
            "[CV] n_estimators=650, max_depth=110 .................................\n",
            "[CV] .................. n_estimators=650, max_depth=110, total=  11.4s\n",
            "[CV] n_estimators=650, max_depth=110 .................................\n",
            "[CV] .................. n_estimators=650, max_depth=110, total=  11.3s\n",
            "[CV] n_estimators=1100, max_depth=110 ................................\n",
            "[CV] ................. n_estimators=1100, max_depth=110, total=  18.0s\n",
            "[CV] n_estimators=1100, max_depth=110 ................................\n",
            "[CV] ................. n_estimators=1100, max_depth=110, total=  18.2s\n",
            "[CV] n_estimators=1100, max_depth=110 ................................\n",
            "[CV] ................. n_estimators=1100, max_depth=110, total=  18.1s\n",
            "[CV] n_estimators=1550, max_depth=110 ................................\n",
            "[CV] ................. n_estimators=1550, max_depth=110, total=  24.7s\n",
            "[CV] n_estimators=1550, max_depth=110 ................................\n",
            "[CV] ................. n_estimators=1550, max_depth=110, total=  24.8s\n",
            "[CV] n_estimators=1550, max_depth=110 ................................\n",
            "[CV] ................. n_estimators=1550, max_depth=110, total=  24.6s\n",
            "[CV] n_estimators=2000, max_depth=110 ................................\n",
            "[CV] ................. n_estimators=2000, max_depth=110, total=  31.5s\n",
            "[CV] n_estimators=2000, max_depth=110 ................................\n",
            "[CV] ................. n_estimators=2000, max_depth=110, total=  31.7s\n",
            "[CV] n_estimators=2000, max_depth=110 ................................\n",
            "[CV] ................. n_estimators=2000, max_depth=110, total=  31.5s\n",
            "[CV] n_estimators=200, max_depth=None ................................\n",
            "[CV] ................. n_estimators=200, max_depth=None, total=   4.7s\n",
            "[CV] n_estimators=200, max_depth=None ................................\n",
            "[CV] ................. n_estimators=200, max_depth=None, total=   4.7s\n",
            "[CV] n_estimators=200, max_depth=None ................................\n",
            "[CV] ................. n_estimators=200, max_depth=None, total=   4.7s\n",
            "[CV] n_estimators=650, max_depth=None ................................\n",
            "[CV] ................. n_estimators=650, max_depth=None, total=  11.3s\n",
            "[CV] n_estimators=650, max_depth=None ................................\n",
            "[CV] ................. n_estimators=650, max_depth=None, total=  11.4s\n",
            "[CV] n_estimators=650, max_depth=None ................................\n",
            "[CV] ................. n_estimators=650, max_depth=None, total=  11.3s\n",
            "[CV] n_estimators=1100, max_depth=None ...............................\n",
            "[CV] ................ n_estimators=1100, max_depth=None, total=  18.1s\n",
            "[CV] n_estimators=1100, max_depth=None ...............................\n",
            "[CV] ................ n_estimators=1100, max_depth=None, total=  18.0s\n",
            "[CV] n_estimators=1100, max_depth=None ...............................\n",
            "[CV] ................ n_estimators=1100, max_depth=None, total=  18.1s\n",
            "[CV] n_estimators=1550, max_depth=None ...............................\n",
            "[CV] ................ n_estimators=1550, max_depth=None, total=  24.7s\n",
            "[CV] n_estimators=1550, max_depth=None ...............................\n",
            "[CV] ................ n_estimators=1550, max_depth=None, total=  24.9s\n",
            "[CV] n_estimators=1550, max_depth=None ...............................\n",
            "[CV] ................ n_estimators=1550, max_depth=None, total=  24.6s\n",
            "[CV] n_estimators=2000, max_depth=None ...............................\n",
            "[CV] ................ n_estimators=2000, max_depth=None, total=  31.5s\n",
            "[CV] n_estimators=2000, max_depth=None ...............................\n",
            "[CV] ................ n_estimators=2000, max_depth=None, total=  31.7s\n",
            "[CV] n_estimators=2000, max_depth=None ...............................\n",
            "[CV] ................ n_estimators=2000, max_depth=None, total=  31.5s\n"
          ],
          "name": "stdout"
        },
        {
          "output_type": "stream",
          "text": [
            "[Parallel(n_jobs=1)]: Done  90 out of  90 | elapsed: 26.2min finished\n"
          ],
          "name": "stderr"
        },
        {
          "output_type": "execute_result",
          "data": {
            "text/plain": [
              "RandomizedSearchCV(cv=3, error_score='raise-deprecating',\n",
              "                   estimator=RandomForestClassifier(bootstrap=True,\n",
              "                                                    class_weight=None,\n",
              "                                                    criterion='gini',\n",
              "                                                    max_depth=None,\n",
              "                                                    max_features='auto',\n",
              "                                                    max_leaf_nodes=None,\n",
              "                                                    min_impurity_decrease=0.0,\n",
              "                                                    min_impurity_split=None,\n",
              "                                                    min_samples_leaf=1,\n",
              "                                                    min_samples_split=2,\n",
              "                                                    min_weight_fraction_leaf=0.0,\n",
              "                                                    n_estimators='warn',\n",
              "                                                    n_jobs=-1, oob_score=False,\n",
              "                                                    random_state=42, verbose=0,\n",
              "                                                    warm_start=False),\n",
              "                   iid='warn', n_iter=100, n_jobs=None,\n",
              "                   param_distributions={'max_depth': [10, 35, 60, 85, 110,\n",
              "                                                      None],\n",
              "                                        'n_estimators': [200, 650, 1100, 1550,\n",
              "                                                         2000]},\n",
              "                   pre_dispatch='2*n_jobs', random_state=None, refit=True,\n",
              "                   return_train_score=False, scoring=None, verbose=2)"
            ]
          },
          "metadata": {
            "tags": []
          },
          "execution_count": 39
        }
      ]
    },
    {
      "cell_type": "code",
      "metadata": {
        "id": "ALNGZEyICIlT",
        "colab_type": "code",
        "outputId": "9742b2c5-a6f8-4ea9-82e7-05e6d7d04680",
        "colab": {
          "base_uri": "https://localhost:8080/",
          "height": 34
        }
      },
      "source": [
        "rf_random.best_params_"
      ],
      "execution_count": 0,
      "outputs": [
        {
          "output_type": "execute_result",
          "data": {
            "text/plain": [
              "{'max_depth': 60, 'n_estimators': 2000}"
            ]
          },
          "metadata": {
            "tags": []
          },
          "execution_count": 40
        }
      ]
    },
    {
      "cell_type": "code",
      "metadata": {
        "id": "u_S-toHXIDgh",
        "colab_type": "code",
        "outputId": "b2d9fe9d-4a59-4462-f500-23da6811cb3d",
        "colab": {
          "base_uri": "https://localhost:8080/",
          "height": 173
        }
      },
      "source": [
        "from sklearn.metrics import classification_report\n",
        "best_grid = rf_random.best_estimator_\n",
        "\n",
        "y_true, y_pred = y_test, best_grid.predict(X_test)\n",
        "print(classification_report(y_true, y_pred))\n"
      ],
      "execution_count": 0,
      "outputs": [
        {
          "output_type": "stream",
          "text": [
            "              precision    recall  f1-score   support\n",
            "\n",
            "           0       0.98      0.94      0.96      5528\n",
            "           1       0.95      0.98      0.96      5581\n",
            "\n",
            "    accuracy                           0.96     11109\n",
            "   macro avg       0.96      0.96      0.96     11109\n",
            "weighted avg       0.96      0.96      0.96     11109\n",
            "\n"
          ],
          "name": "stdout"
        }
      ]
    },
    {
      "cell_type": "code",
      "metadata": {
        "id": "iotwClSjIDjg",
        "colab_type": "code",
        "outputId": "a899c018-17a1-4f11-8289-18d5830eb682",
        "colab": {
          "base_uri": "https://localhost:8080/",
          "height": 242
        }
      },
      "source": [
        "from sklearn.metrics import classification_report\n",
        "from sklearn.metrics import confusion_matrix, precision_recall_curve, average_precision_score, roc_curve, auc\n",
        "from sklearn.metrics import accuracy_score\n",
        "\n",
        "predicted = best_grid.predict(X_test)\n",
        "# Accuracy, classification report and confusion matrix of the fitted model\n",
        "\n",
        "print(\"Prediction Accuracy is \",accuracy_score(y_test, predicted))\n",
        "print(\"Classification report is \",classification_report(y_test, predicted))\n",
        "print(\"Confusion matrix is \")\n",
        "print(confusion_matrix(y_test, predicted))"
      ],
      "execution_count": 0,
      "outputs": [
        {
          "output_type": "stream",
          "text": [
            "Prediction Accuracy is  0.9633630389774057\n",
            "Classification report is                precision    recall  f1-score   support\n",
            "\n",
            "           0       0.98      0.94      0.96      5528\n",
            "           1       0.95      0.98      0.96      5581\n",
            "\n",
            "    accuracy                           0.96     11109\n",
            "   macro avg       0.96      0.96      0.96     11109\n",
            "weighted avg       0.96      0.96      0.96     11109\n",
            "\n",
            "Confusion matrix is \n",
            "[[5223  305]\n",
            " [ 102 5479]]\n"
          ],
          "name": "stdout"
        }
      ]
    },
    {
      "cell_type": "code",
      "metadata": {
        "id": "S_Iyfr5FIDmQ",
        "colab_type": "code",
        "colab": {}
      },
      "source": [
        "pred_scores = best_grid.fit(X_train,y_train).predict_proba(X_test)\n",
        "fpr, tpr, thresh = roc_curve(y_test, pred_scores[:,1])\n",
        "\n",
        "auc_score = auc(fpr, tpr)"
      ],
      "execution_count": 0,
      "outputs": []
    },
    {
      "cell_type": "code",
      "metadata": {
        "id": "bAHLtxqgJaL1",
        "colab_type": "code",
        "outputId": "ea3a3810-85cd-4f26-9867-c266acc4ba71",
        "colab": {
          "base_uri": "https://localhost:8080/",
          "height": 34
        }
      },
      "source": [
        "auc_score"
      ],
      "execution_count": 0,
      "outputs": [
        {
          "output_type": "execute_result",
          "data": {
            "text/plain": [
              "0.9875489955713397"
            ]
          },
          "metadata": {
            "tags": []
          },
          "execution_count": 50
        }
      ]
    }
  ]
}